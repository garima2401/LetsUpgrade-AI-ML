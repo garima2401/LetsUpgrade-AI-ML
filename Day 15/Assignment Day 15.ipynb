{
 "cells": [
  {
   "cell_type": "markdown",
   "metadata": {},
   "source": [
    "# 1. Create a 3x3x3 array with random values?"
   ]
  },
  {
   "cell_type": "code",
   "execution_count": 3,
   "metadata": {},
   "outputs": [],
   "source": [
    "import numpy as np"
   ]
  },
  {
   "cell_type": "code",
   "execution_count": 2,
   "metadata": {},
   "outputs": [
    {
     "data": {
      "text/plain": [
       "array([[[97,  1,  9],\n",
       "        [31, 41, 94],\n",
       "        [35, 28, 22]],\n",
       "\n",
       "       [[99, 54, 73],\n",
       "        [64, 82, 59],\n",
       "        [29, 79, 58]],\n",
       "\n",
       "       [[ 9, 85, 49],\n",
       "        [16, 12, 42],\n",
       "        [80, 33, 27]]])"
      ]
     },
     "execution_count": 2,
     "metadata": {},
     "output_type": "execute_result"
    }
   ],
   "source": [
    "random_arr = np.random.randint(1,100, size=(3,3,3))\n",
    "random_arr"
   ]
  },
  {
   "cell_type": "markdown",
   "metadata": {},
   "source": [
    "# 2. Create a 5x5 matrix with values 1,2,3,4 just below the diagonal?"
   ]
  },
  {
   "cell_type": "code",
   "execution_count": 7,
   "metadata": {},
   "outputs": [
    {
     "data": {
      "text/plain": [
       "array([[0, 0, 0, 0, 0],\n",
       "       [1, 0, 0, 0, 0],\n",
       "       [0, 2, 0, 0, 0],\n",
       "       [0, 0, 3, 0, 0],\n",
       "       [0, 0, 0, 4, 0]])"
      ]
     },
     "execution_count": 7,
     "metadata": {},
     "output_type": "execute_result"
    }
   ],
   "source": [
    "np.diag([1,2,3,4], -1)"
   ]
  },
  {
   "cell_type": "markdown",
   "metadata": {},
   "source": [
    "# 3. Create a 8x8 matrix and fill it with a checkboard pattern?"
   ]
  },
  {
   "cell_type": "code",
   "execution_count": 8,
   "metadata": {},
   "outputs": [
    {
     "name": "stdout",
     "output_type": "stream",
     "text": [
      "Checkboard Pattern is: \n",
      "[[0 1 0 1 0 1 0 1]\n",
      " [1 0 1 0 1 0 1 0]\n",
      " [0 1 0 1 0 1 0 1]\n",
      " [1 0 1 0 1 0 1 0]\n",
      " [0 1 0 1 0 1 0 1]\n",
      " [1 0 1 0 1 0 1 0]\n",
      " [0 1 0 1 0 1 0 1]\n",
      " [1 0 1 0 1 0 1 0]]\n"
     ]
    }
   ],
   "source": [
    "import numpy as np\n",
    "\n",
    "print (\"Checkboard Pattern is: \")\n",
    "x = np.zeros((8,8), dtype=int)\n",
    "\n",
    "x[1::2,::2] = 1\n",
    "x[::2,1::2] = 1\n",
    "\n",
    "print (x)"
   ]
  },
  {
   "cell_type": "markdown",
   "metadata": {},
   "source": [
    "# 4. Normalize a 5x5 random matrix?"
   ]
  },
  {
   "cell_type": "code",
   "execution_count": 9,
   "metadata": {},
   "outputs": [
    {
     "name": "stdout",
     "output_type": "stream",
     "text": [
      "Original Array is: \n",
      "[[0.43946124 0.88615055 0.65985327 0.71912365 0.68591923]\n",
      " [0.60458543 0.65137469 0.47772263 0.33359969 0.36193906]\n",
      " [0.08745861 0.94747118 0.03335603 0.02033746 0.57742132]\n",
      " [0.92368859 0.81012211 0.24213693 0.15514565 0.3457517 ]\n",
      " [0.95112957 0.47408852 0.25607624 0.80513303 0.89992298]]\n",
      "After Normalization: \n",
      "[[0.4502872  0.93018954 0.68706621 0.75074357 0.71507028]\n",
      " [0.627689   0.67795722 0.49139348 0.33655445 0.36700096]\n",
      " [0.07211185 0.9960696  0.01398655 0.         0.59850514]\n",
      " [0.97051868 0.84850811 0.23829109 0.14483168 0.34961001]\n",
      " [1.         0.48748915 0.25326684 0.84314807 0.94498601]]\n"
     ]
    }
   ],
   "source": [
    "import numpy as np\n",
    "\n",
    "x = np.random.random((5,5))\n",
    "\n",
    "print (\"Original Array is: \")\n",
    "print (x)\n",
    "\n",
    "xmax, xmin = x.max(), x.min()\n",
    "\n",
    "x = (x - xmin)/ (xmax - xmin)\n",
    "\n",
    "print (\"After Normalization: \")\n",
    "print (x)"
   ]
  },
  {
   "cell_type": "markdown",
   "metadata": {},
   "source": [
    "# 5. How to find common values between two arrays?"
   ]
  },
  {
   "cell_type": "code",
   "execution_count": 12,
   "metadata": {},
   "outputs": [
    {
     "name": "stdout",
     "output_type": "stream",
     "text": [
      "Array 1 is:  [1 2 3]\n",
      "Array 2 is:  [5 4 1]\n",
      "Common values in the array 1 and array 2 is: \n",
      "[1]\n"
     ]
    }
   ],
   "source": [
    "import numpy as np\n",
    "\n",
    "arr1 = np.array([1,2,3])\n",
    "print (\"Array 1 is: \", arr1)\n",
    "\n",
    "arr2 = np.array([5,4,1])\n",
    "print (\"Array 2 is: \", arr2)\n",
    "\n",
    "print (\"Common values in the array 1 and array 2 is: \")\n",
    "\n",
    "print(np.intersect1d(arr1, arr2))\n",
    "np.set_printoptions(threshold=np.inf)\n"
   ]
  },
  {
   "cell_type": "markdown",
   "metadata": {},
   "source": [
    "# 6. How to get the dates of yesterday, today and tomorrow?"
   ]
  },
  {
   "cell_type": "code",
   "execution_count": 13,
   "metadata": {},
   "outputs": [
    {
     "name": "stdout",
     "output_type": "stream",
     "text": [
      "Yestraday's Date:  2020-07-26\n",
      "Today's Date:  2020-07-27\n",
      "Tomorrow's Date:  2020-07-28\n"
     ]
    }
   ],
   "source": [
    "import numpy as np\n",
    "yesterday = np.datetime64('today', 'D') - np.timedelta64(1, 'D')\n",
    "print(\"Yestraday's Date: \",yesterday)\n",
    "today     = np.datetime64('today', 'D')\n",
    "print(\"Today's Date: \",today)\n",
    "tomorrow  = np.datetime64('today', 'D') + np.timedelta64(1, 'D')\n",
    "print(\"Tomorrow's Date: \",tomorrow)"
   ]
  },
  {
   "cell_type": "markdown",
   "metadata": {},
   "source": [
    "# 7. Consider two random array A and B, check if they are equal?"
   ]
  },
  {
   "cell_type": "code",
   "execution_count": 17,
   "metadata": {},
   "outputs": [
    {
     "name": "stdout",
     "output_type": "stream",
     "text": [
      "False\n"
     ]
    }
   ],
   "source": [
    "A = np.array([[8.10],[5,1]])\n",
    "B = np.array([[8,10],[2,5]])\n",
    "comparison = A == B\n",
    "equal_arrays = comparison.all()\n",
    "print (equal_arrays)"
   ]
  },
  {
   "cell_type": "markdown",
   "metadata": {},
   "source": [
    "# 8. Create random vector of size 10 and replace the maximum value by 0"
   ]
  },
  {
   "cell_type": "code",
   "execution_count": 19,
   "metadata": {},
   "outputs": [
    {
     "name": "stdout",
     "output_type": "stream",
     "text": [
      "Random vector of size 10 is:\n",
      "[14 11 18 14  4  6  6 17 16  8]\n",
      "Replacing the maximum value by 0:\n",
      "[14 11  0 14  4  6  6 17 16  8]\n"
     ]
    }
   ],
   "source": [
    "from numpy import array\n",
    "print(\"Random vector of size 10 is:\")\n",
    "v = np.random.randint(1,20, size = 10)\n",
    "print(v)\n",
    "v[v.argmax()] = 0\n",
    "print(\"Replacing the maximum value by 0:\")\n",
    "print(v)"
   ]
  },
  {
   "cell_type": "markdown",
   "metadata": {},
   "source": [
    "# 9. How to print all the values of an array?"
   ]
  },
  {
   "cell_type": "code",
   "execution_count": 21,
   "metadata": {},
   "outputs": [
    {
     "name": "stdout",
     "output_type": "stream",
     "text": [
      "[ 0  1  2  3  4  5  6  7  8  9 10 11 12 13 14 15 16 17 18 19 20 21 22 23\n",
      " 24 25 26 27 28 29 30 31 32 33 34 35 36 37 38 39 40 41 42 43 44 45 46 47\n",
      " 48 49]\n"
     ]
    }
   ],
   "source": [
    "a = np.arange(50)\n",
    "np.set_printoptions(threshold=np.inf)\n",
    "print(a)"
   ]
  },
  {
   "cell_type": "markdown",
   "metadata": {},
   "source": [
    "# 10. Subtract the mean of each row of a matrix?"
   ]
  },
  {
   "cell_type": "code",
   "execution_count": 23,
   "metadata": {},
   "outputs": [
    {
     "name": "stdout",
     "output_type": "stream",
     "text": [
      "Original matrix:\n",
      "[[ 0  1  2  3]\n",
      " [ 4  5  6  7]\n",
      " [ 8  9 10 11]]\n",
      "Subtracting the mean of each row of the matrix:\n",
      "[[-1.5 -0.5  0.5  1.5]\n",
      " [-1.5 -0.5  0.5  1.5]\n",
      " [-1.5 -0.5  0.5  1.5]]\n"
     ]
    }
   ],
   "source": [
    "import numpy as np\n",
    "print(\"Original matrix:\")\n",
    "x = np.arange(12).reshape(3,4)\n",
    "print(x)\n",
    "print(\"Subtracting the mean of each row of the matrix:\")\n",
    "y = x - x.mean(axis=1, keepdims = True)\n",
    "print(y)"
   ]
  },
  {
   "cell_type": "markdown",
   "metadata": {},
   "source": [
    "# 11.Consider a given vector, how to add 1 to each element indexed by a second vector (be careful with repeated indices)?\n"
   ]
  },
  {
   "cell_type": "code",
   "execution_count": 24,
   "metadata": {},
   "outputs": [
    {
     "name": "stdout",
     "output_type": "stream",
     "text": [
      "Given vector: [6 5 1 1 2 7 2 4]\n",
      "Indexing vector: [0 0 0 0 0 0 1 3]\n",
      "Result: [6 5 1 1 2 7 2 4]\n"
     ]
    }
   ],
   "source": [
    "x = np.random.randint(1,8,8)\n",
    "print(\"Given vector:\", x)\n",
    "y = np.random.randint(x)\n",
    "z = []\n",
    "y.sort()\n",
    "for i in y:\n",
    "    if i not in z:\n",
    "        z.append(i)\n",
    "\n",
    "for j in z:\n",
    "    a[j] += 1\n",
    "\n",
    "print(\"Indexing vector:\", y)\n",
    "print(\"Result:\",x)"
   ]
  },
  {
   "cell_type": "markdown",
   "metadata": {},
   "source": [
    "# 12.How to get the diagonal of a dot product?"
   ]
  },
  {
   "cell_type": "code",
   "execution_count": 26,
   "metadata": {},
   "outputs": [
    {
     "data": {
      "text/plain": [
       "array([52, 65])"
      ]
     },
     "execution_count": 26,
     "metadata": {},
     "output_type": "execute_result"
    }
   ],
   "source": [
    "a = [[8,2],[9,7]]\n",
    "b = [[5,1],[6,8]]\n",
    "c = np.diag(np.dot(a,b))\n",
    "c"
   ]
  },
  {
   "cell_type": "markdown",
   "metadata": {},
   "source": [
    "# 13.How to find the most frequent value in an array?\n"
   ]
  },
  {
   "cell_type": "code",
   "execution_count": 27,
   "metadata": {},
   "outputs": [
    {
     "name": "stdout",
     "output_type": "stream",
     "text": [
      "Original array:\n",
      "[2 4 8 0 0 1 1 1 2 3 9 8 5 2 1 6 9 6 0 4]\n",
      "Most frequent value in the above array:\n",
      "1\n"
     ]
    }
   ],
   "source": [
    "import numpy as np\n",
    "x = np.random.randint(0, 10, 20)\n",
    "print(\"Original array:\")\n",
    "print(x)\n",
    "print(\"Most frequent value in the above array:\")\n",
    "print(np.bincount(x).argmax())"
   ]
  },
  {
   "cell_type": "markdown",
   "metadata": {},
   "source": [
    "# 14. How to get the n largest values of an array?"
   ]
  },
  {
   "cell_type": "code",
   "execution_count": 29,
   "metadata": {},
   "outputs": [
    {
     "name": "stdout",
     "output_type": "stream",
     "text": [
      "Original array:\n",
      "[0 1 2 3 4 5 6 7 8 9]\n",
      "Largest value of the array is [9]\n"
     ]
    }
   ],
   "source": [
    "import numpy as np\n",
    "x = np.arange(10)\n",
    "print(\"Original array:\")\n",
    "print(x)\n",
    "np.random.shuffle(x)\n",
    "n = 1\n",
    "print(\"Largest value of the array is\",x[np.argsort(x)[-n:]])"
   ]
  },
  {
   "cell_type": "markdown",
   "metadata": {},
   "source": [
    "# 15. How to create a record array from a regular array?"
   ]
  },
  {
   "cell_type": "code",
   "execution_count": 32,
   "metadata": {},
   "outputs": [
    {
     "name": "stdout",
     "output_type": "stream",
     "text": [
      "('Toyota', 'White')\n",
      "('Honda', 'Pink')\n",
      "('Audi', 'Purple')\n",
      "('BMW', 'Green')\n"
     ]
    }
   ],
   "source": [
    "import numpy as np\n",
    "a1=np.array(['Toyota','Honda','Audi','BMW'])\n",
    "a2=np.array(['White','Pink','Purple','Green'])\n",
    "result= np.core.records.fromarrays([a1, a2])\n",
    "print(result[0])\n",
    "print(result[1])\n",
    "print(result[2])\n",
    "print(result[3])"
   ]
  }
 ],
 "metadata": {
  "kernelspec": {
   "display_name": "Python 3",
   "language": "python",
   "name": "python3"
  },
  "language_info": {
   "codemirror_mode": {
    "name": "ipython",
    "version": 3
   },
   "file_extension": ".py",
   "mimetype": "text/x-python",
   "name": "python",
   "nbconvert_exporter": "python",
   "pygments_lexer": "ipython3",
   "version": "3.7.6"
  }
 },
 "nbformat": 4,
 "nbformat_minor": 4
}
