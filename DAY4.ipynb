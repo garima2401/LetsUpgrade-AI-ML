{
  "nbformat": 4,
  "nbformat_minor": 0,
  "metadata": {
    "colab": {
      "name": "DAY4.ipynb",
      "provenance": []
    },
    "kernelspec": {
      "name": "python3",
      "display_name": "Python 3"
    }
  },
  "cells": [
    {
      "cell_type": "markdown",
      "metadata": {
        "id": "Xn6iHbcBqXe1",
        "colab_type": "text"
      },
      "source": [
        "**Question 1**\n",
        "\n",
        "Research on whether addition, subtraction, multiplication, division, floor division and modulo\n",
        "operations be performed on complex numbers. Based on your study, implement a Python\n",
        "program to demonstrate these operations."
      ]
    },
    {
      "cell_type": "code",
      "metadata": {
        "id": "kg30qe5tqLS2",
        "colab_type": "code",
        "colab": {
          "base_uri": "https://localhost:8080/",
          "height": 129
        },
        "outputId": "4cd5c820-74e6-488c-d766-241dc169ad5c"
      },
      "source": [
        "a = 4 + 3j\n",
        "b = 3 - 7j\n",
        "\n",
        "print (\"The first complex number is:\", a)\n",
        "print (\"The second complex number is:\", b)\n",
        "\n",
        "print (\"Addition of Two complex number is: \", a+b)\n",
        "print (\"Subtraction of Two complex number is: \", a-b)\n",
        "print (\"Multiplication of Two complex number is: \", a*b)\n",
        "print (\"Division of Two complex number is: \", a/b)\n",
        "\n",
        "# The Floor Division\n",
        "#Floor division returns the quotient in which the digits after the decimal points are removed,\n",
        "# but if the operands are negative, then the result is floored i.e. rounded off.\n",
        "\n",
        "# So, the floor division is not possible for complex numbers.\n",
        "\n",
        "# Modulo Operation\n",
        "# Modulo operator returns the remainder of dividing the left hand operaand by right hand operand.\n",
        "# FOr modulo of complex number, we need to use built-in abs() funcion.\n"
      ],
      "execution_count": null,
      "outputs": [
        {
          "output_type": "stream",
          "text": [
            "The first complex number is: (4+3j)\n",
            "The second complex number is: (3-7j)\n",
            "Addition of Two complex number is:  (7-4j)\n",
            "Subtraction of Two complex number is:  (1+10j)\n",
            "Multiplication of Two complex number is:  (33-19j)\n",
            "Division of Two complex number is:  (-0.15517241379310348+0.6379310344827587j)\n"
          ],
          "name": "stdout"
        }
      ]
    },
    {
      "cell_type": "markdown",
      "metadata": {
        "id": "X2rq_Q1f6taG",
        "colab_type": "text"
      },
      "source": [
        "**Question 2**\n",
        "\n",
        "Research on range() functions and its parameters. Create a markdown cell and write in your own\n",
        "words (no copy-paste from google please) what you understand about it. Implement a small\n",
        "program of your choice on the same."
      ]
    },
    {
      "cell_type": "markdown",
      "metadata": {
        "id": "mJnN6TjD7gL7",
        "colab_type": "text"
      },
      "source": [
        "**range() and its parameters**\n",
        "\n",
        "range() is a built-in function that generates integer numbers between the start integer to the stop integer. \n",
        "\n",
        "with the help of for loop, we can iterate over a sequence of numbers produced by range() function.\n",
        "\n",
        "There are 3 parameters for range() funtion.\n",
        "\n",
        "1. start - An integer number must specify at whch posiiton to start. Since default is 0, it is a optional measure.\n",
        "\n",
        "2. stop - An integer number specifying at which position to stop. It is  a required measure.\n",
        "\n",
        "3. step - An integer number specifying the incrementation. Since default is 1, it is a optional measure."
      ]
    },
    {
      "cell_type": "code",
      "metadata": {
        "id": "5C8ET5pT_881",
        "colab_type": "code",
        "colab": {
          "base_uri": "https://localhost:8080/",
          "height": 167
        },
        "outputId": "7457a1e6-af83-4d58-ac0f-9126d5bdf396"
      },
      "source": [
        "# Example for built-in range() function\n",
        "\n",
        "a = range(1,8)\n",
        "\n",
        "print (\"The range of a is:\")\n",
        "\n",
        "for n in a:\n",
        "  print (n)"
      ],
      "execution_count": null,
      "outputs": [
        {
          "output_type": "stream",
          "text": [
            "The range of a is:\n",
            "1\n",
            "2\n",
            "3\n",
            "4\n",
            "5\n",
            "6\n",
            "7\n"
          ],
          "name": "stdout"
        }
      ]
    },
    {
      "cell_type": "markdown",
      "metadata": {
        "id": "4nXi02m7AyIh",
        "colab_type": "text"
      },
      "source": [
        "**Question 3**\n",
        "\n",
        " Consider two numbers. Perform their subtraction and if the result of subtraction is greater than\n",
        "25, print their multiplication result else print their division result."
      ]
    },
    {
      "cell_type": "code",
      "metadata": {
        "id": "9X8iy54qBAvl",
        "colab_type": "code",
        "colab": {
          "base_uri": "https://localhost:8080/",
          "height": 92
        },
        "outputId": "33257bfe-c862-43ff-d05b-1b6b73dc09cc"
      },
      "source": [
        "a = int(input(\"Enter first number: \"))\n",
        "b = int(input(\"ENter second number: \"))\n",
        "\n",
        "sub = a - b\n",
        "\n",
        "print (\"Subtraction is: \", sub)\n",
        "\n",
        "if (sub > 25):\n",
        "  x = a * b\n",
        "  print (\"Mutiplication of the numbers is: \", x)\n",
        "\n",
        "else: \n",
        "  y = a / b\n",
        "  print (\"Division of the numbers is: \", y)"
      ],
      "execution_count": null,
      "outputs": [
        {
          "output_type": "stream",
          "text": [
            "Enter first number: 30\n",
            "ENter second number: 10\n",
            "Subtraction is:  20\n",
            "Division of the numbers is:  3.0\n"
          ],
          "name": "stdout"
        }
      ]
    },
    {
      "cell_type": "markdown",
      "metadata": {
        "id": "fPkHmtMhCehJ",
        "colab_type": "text"
      },
      "source": [
        "**Question 4**\n",
        "\n",
        "Consider a list of 10 elements of integer values. If the number in the list is divisible by 2, print the\n",
        "result as \"square of that number minus 2\"."
      ]
    },
    {
      "cell_type": "code",
      "metadata": {
        "id": "CXCNxo7jCnFR",
        "colab_type": "code",
        "colab": {
          "base_uri": "https://localhost:8080/",
          "height": 111
        },
        "outputId": "890c779e-eb9e-48d1-f426-c4acb4fd8c97"
      },
      "source": [
        "x = [1,2,3,4,5,6,7,8,9,12]\n",
        "\n",
        "for n in x:\n",
        "    if (n%2 == 0):\n",
        "        print (\"Square of {} minus 2 is \" .format(n) + str(n**2 - 2))"
      ],
      "execution_count": null,
      "outputs": [
        {
          "output_type": "stream",
          "text": [
            "Square of 2 minus 2 is 2\n",
            "Square of 4 minus 2 is 14\n",
            "Square of 6 minus 2 is 34\n",
            "Square of 8 minus 2 is 62\n",
            "Square of 12 minus 2 is 142\n"
          ],
          "name": "stdout"
        }
      ]
    },
    {
      "cell_type": "markdown",
      "metadata": {
        "id": "EKcQqmQBEs8g",
        "colab_type": "text"
      },
      "source": [
        "**Question 5**\n",
        "\n",
        "Consider a list of 10 elements. Print all the elements in the list which are greater than 7 when that\n",
        "number is divided 2."
      ]
    },
    {
      "cell_type": "code",
      "metadata": {
        "id": "A5YruQ6IVJYt",
        "colab_type": "code",
        "colab": {
          "base_uri": "https://localhost:8080/",
          "height": 92
        },
        "outputId": "7eb4f8ac-9f8c-432d-c94a-6e2552d41eeb"
      },
      "source": [
        "l = [1,2,3,4,22,24,8,9,38,40]\n",
        "\n",
        "for i in l:\n",
        "    if (i/2)>7:\n",
        "        print (\"Division of\", i, \"with 2 is greater than 7.\")\n",
        "\n"
      ],
      "execution_count": null,
      "outputs": [
        {
          "output_type": "stream",
          "text": [
            "Division of 22 with 2 is greater than 7.\n",
            "Division of 24 with 2 is greater than 7.\n",
            "Division of 38 with 2 is greater than 7.\n",
            "Division of 40 with 2 is greater than 7.\n"
          ],
          "name": "stdout"
        }
      ]
    }
  ]
}