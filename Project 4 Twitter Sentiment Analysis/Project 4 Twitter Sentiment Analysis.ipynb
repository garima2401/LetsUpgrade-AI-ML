{
 "cells": [
  {
   "cell_type": "code",
   "execution_count": 1,
   "metadata": {},
   "outputs": [
    {
     "name": "stdout",
     "output_type": "stream",
     "text": [
      "Requirement already satisfied: tweepy in c:\\users\\arpit\\anaconda3\\anaconda\\lib\\site-packages (3.9.0)\n",
      "Requirement already satisfied: requests[socks]>=2.11.1 in c:\\users\\arpit\\anaconda3\\anaconda\\lib\\site-packages (from tweepy) (2.22.0)\n",
      "Requirement already satisfied: requests-oauthlib>=0.7.0 in c:\\users\\arpit\\anaconda3\\anaconda\\lib\\site-packages (from tweepy) (1.3.0)\n",
      "Requirement already satisfied: six>=1.10.0 in c:\\users\\arpit\\anaconda3\\anaconda\\lib\\site-packages (from tweepy) (1.14.0)\n",
      "Requirement already satisfied: idna<2.9,>=2.5 in c:\\users\\arpit\\anaconda3\\anaconda\\lib\\site-packages (from requests[socks]>=2.11.1->tweepy) (2.8)\n",
      "Requirement already satisfied: chardet<3.1.0,>=3.0.2 in c:\\users\\arpit\\anaconda3\\anaconda\\lib\\site-packages (from requests[socks]>=2.11.1->tweepy) (3.0.4)\n",
      "Requirement already satisfied: urllib3!=1.25.0,!=1.25.1,<1.26,>=1.21.1 in c:\\users\\arpit\\anaconda3\\anaconda\\lib\\site-packages (from requests[socks]>=2.11.1->tweepy) (1.25.8)\n",
      "Requirement already satisfied: certifi>=2017.4.17 in c:\\users\\arpit\\anaconda3\\anaconda\\lib\\site-packages (from requests[socks]>=2.11.1->tweepy) (2019.11.28)\n",
      "Requirement already satisfied: PySocks!=1.5.7,>=1.5.6; extra == \"socks\" in c:\\users\\arpit\\anaconda3\\anaconda\\lib\\site-packages (from requests[socks]>=2.11.1->tweepy) (1.7.1)\n",
      "Requirement already satisfied: oauthlib>=3.0.0 in c:\\users\\arpit\\anaconda3\\anaconda\\lib\\site-packages (from requests-oauthlib>=0.7.0->tweepy) (3.1.0)\n"
     ]
    }
   ],
   "source": [
    "!pip install tweepy"
   ]
  },
  {
   "cell_type": "code",
   "execution_count": 2,
   "metadata": {},
   "outputs": [
    {
     "name": "stdout",
     "output_type": "stream",
     "text": [
      "Requirement already satisfied: openpyxl in c:\\users\\arpit\\anaconda3\\anaconda\\lib\\site-packages (3.0.3)\n",
      "Requirement already satisfied: jdcal in c:\\users\\arpit\\anaconda3\\anaconda\\lib\\site-packages (from openpyxl) (1.4.1)\n",
      "Requirement already satisfied: et-xmlfile in c:\\users\\arpit\\anaconda3\\anaconda\\lib\\site-packages (from openpyxl) (1.0.1)\n"
     ]
    }
   ],
   "source": [
    "!pip install openpyxl"
   ]
  },
  {
   "cell_type": "code",
   "execution_count": 3,
   "metadata": {},
   "outputs": [],
   "source": [
    "import numpy as np\n",
    "import pandas as pd\n",
    "import tweepy\n",
    "import json\n",
    "from tweepy import OAuthHandler"
   ]
  },
  {
   "cell_type": "code",
   "execution_count": 4,
   "metadata": {},
   "outputs": [],
   "source": [
    "consumer_key = \"LzsCOl12ZZ79FObx7BV9a1R3a\"\n",
    "consumer_secret = \"gODxZ1kHJHDGgYfyP12AUN37UTlDd6yn3OsSV9Tl0iwu0K0cRY\"\n",
    "access_token = \"296102538-kYIK8SULCmRK4vgvYD2DhKbwvSXrgTdTkWh0Nvsp\"\n",
    "access_token_secret = \"Ib9obwgcE5tZk4S6tY5rAqI5iXOeJc9FGFg28qHoa4YpP\""
   ]
  },
  {
   "cell_type": "code",
   "execution_count": 5,
   "metadata": {},
   "outputs": [],
   "source": [
    "auth = tweepy.OAuthHandler( consumer_key , consumer_secret )\n",
    "auth.set_access_token( access_token , access_token_secret )\n",
    "api = tweepy.API(auth)"
   ]
  },
  {
   "cell_type": "code",
   "execution_count": 6,
   "metadata": {},
   "outputs": [],
   "source": [
    "query = \"RCB winning IPL\""
   ]
  },
  {
   "cell_type": "code",
   "execution_count": 8,
   "metadata": {},
   "outputs": [
    {
     "name": "stdout",
     "output_type": "stream",
     "text": [
      "Status(_api=<tweepy.api.API object at 0x000001A9BD0206C8>, _json={'created_at': 'Mon Dec 14 21:06:09 +0000 2020', 'id': 1338591130435272704, 'id_str': '1338591130435272704', 'full_text': '@GodlyEye Lmaooo my state had IPL team for like 2 years but he was fighting for rcb and I support mi. I respect everyone but rcb 😐\\U0001f9cd🏻\\u200d♀️\\nThey should open their mouth in front of mi after actually winning a trophy 😂🤚🏻', 'truncated': False, 'display_text_range': [10, 215], 'entities': {'hashtags': [], 'symbols': [], 'user_mentions': [{'screen_name': 'GodlyEye', 'name': 'Yonko ♠︎', 'id': 1066298318991441920, 'id_str': '1066298318991441920', 'indices': [0, 9]}], 'urls': []}, 'metadata': {'iso_language_code': 'en', 'result_type': 'recent'}, 'source': '<a href=\"http://twitter.com/download/android\" rel=\"nofollow\">Twitter for Android</a>', 'in_reply_to_status_id': 1338590643333910528, 'in_reply_to_status_id_str': '1338590643333910528', 'in_reply_to_user_id': 1066298318991441920, 'in_reply_to_user_id_str': '1066298318991441920', 'in_reply_to_screen_name': 'GodlyEye', 'user': {'id': 1298680829665669120, 'id_str': '1298680829665669120', 'name': 'In another life~~', 'screen_name': 'MDsWhore', 'location': \"kuroo's thighs\", 'description': 'she/her, 19 // Anime BL Yaoi, nsfw // DMs open// Dating Kuroo tetsurou 😌', 'url': 'https://t.co/91R1gBRa6L', 'entities': {'url': {'urls': [{'url': 'https://t.co/91R1gBRa6L', 'expanded_url': 'https://www.youtube.com/channel/UCdu9-t1X2Lllw8NhSrbpPFQ', 'display_url': 'youtube.com/channel/UCdu9-…', 'indices': [0, 23]}]}, 'description': {'urls': []}}, 'protected': False, 'followers_count': 2449, 'friends_count': 2719, 'listed_count': 11, 'created_at': 'Wed Aug 26 17:57:01 +0000 2020', 'favourites_count': 13109, 'utc_offset': None, 'time_zone': None, 'geo_enabled': False, 'verified': False, 'statuses_count': 3033, 'lang': None, 'contributors_enabled': False, 'is_translator': False, 'is_translation_enabled': False, 'profile_background_color': 'F5F8FA', 'profile_background_image_url': None, 'profile_background_image_url_https': None, 'profile_background_tile': False, 'profile_image_url': 'http://pbs.twimg.com/profile_images/1332006056898117633/0gjTn9LC_normal.jpg', 'profile_image_url_https': 'https://pbs.twimg.com/profile_images/1332006056898117633/0gjTn9LC_normal.jpg', 'profile_banner_url': 'https://pbs.twimg.com/profile_banners/1298680829665669120/1606409965', 'profile_link_color': '1DA1F2', 'profile_sidebar_border_color': 'C0DEED', 'profile_sidebar_fill_color': 'DDEEF6', 'profile_text_color': '333333', 'profile_use_background_image': True, 'has_extended_profile': True, 'default_profile': True, 'default_profile_image': False, 'following': False, 'follow_request_sent': False, 'notifications': False, 'translator_type': 'none'}, 'geo': None, 'coordinates': None, 'place': None, 'contributors': None, 'is_quote_status': False, 'retweet_count': 0, 'favorite_count': 0, 'favorited': False, 'retweeted': False, 'lang': 'en'}, created_at=datetime.datetime(2020, 12, 14, 21, 6, 9), id=1338591130435272704, id_str='1338591130435272704', full_text='@GodlyEye Lmaooo my state had IPL team for like 2 years but he was fighting for rcb and I support mi. I respect everyone but rcb 😐\\U0001f9cd🏻\\u200d♀️\\nThey should open their mouth in front of mi after actually winning a trophy 😂🤚🏻', truncated=False, display_text_range=[10, 215], entities={'hashtags': [], 'symbols': [], 'user_mentions': [{'screen_name': 'GodlyEye', 'name': 'Yonko ♠︎', 'id': 1066298318991441920, 'id_str': '1066298318991441920', 'indices': [0, 9]}], 'urls': []}, metadata={'iso_language_code': 'en', 'result_type': 'recent'}, source='Twitter for Android', source_url='http://twitter.com/download/android', in_reply_to_status_id=1338590643333910528, in_reply_to_status_id_str='1338590643333910528', in_reply_to_user_id=1066298318991441920, in_reply_to_user_id_str='1066298318991441920', in_reply_to_screen_name='GodlyEye', author=User(_api=<tweepy.api.API object at 0x000001A9BD0206C8>, _json={'id': 1298680829665669120, 'id_str': '1298680829665669120', 'name': 'In another life~~', 'screen_name': 'MDsWhore', 'location': \"kuroo's thighs\", 'description': 'she/her, 19 // Anime BL Yaoi, nsfw // DMs open// Dating Kuroo tetsurou 😌', 'url': 'https://t.co/91R1gBRa6L', 'entities': {'url': {'urls': [{'url': 'https://t.co/91R1gBRa6L', 'expanded_url': 'https://www.youtube.com/channel/UCdu9-t1X2Lllw8NhSrbpPFQ', 'display_url': 'youtube.com/channel/UCdu9-…', 'indices': [0, 23]}]}, 'description': {'urls': []}}, 'protected': False, 'followers_count': 2449, 'friends_count': 2719, 'listed_count': 11, 'created_at': 'Wed Aug 26 17:57:01 +0000 2020', 'favourites_count': 13109, 'utc_offset': None, 'time_zone': None, 'geo_enabled': False, 'verified': False, 'statuses_count': 3033, 'lang': None, 'contributors_enabled': False, 'is_translator': False, 'is_translation_enabled': False, 'profile_background_color': 'F5F8FA', 'profile_background_image_url': None, 'profile_background_image_url_https': None, 'profile_background_tile': False, 'profile_image_url': 'http://pbs.twimg.com/profile_images/1332006056898117633/0gjTn9LC_normal.jpg', 'profile_image_url_https': 'https://pbs.twimg.com/profile_images/1332006056898117633/0gjTn9LC_normal.jpg', 'profile_banner_url': 'https://pbs.twimg.com/profile_banners/1298680829665669120/1606409965', 'profile_link_color': '1DA1F2', 'profile_sidebar_border_color': 'C0DEED', 'profile_sidebar_fill_color': 'DDEEF6', 'profile_text_color': '333333', 'profile_use_background_image': True, 'has_extended_profile': True, 'default_profile': True, 'default_profile_image': False, 'following': False, 'follow_request_sent': False, 'notifications': False, 'translator_type': 'none'}, id=1298680829665669120, id_str='1298680829665669120', name='In another life~~', screen_name='MDsWhore', location=\"kuroo's thighs\", description='she/her, 19 // Anime BL Yaoi, nsfw // DMs open// Dating Kuroo tetsurou 😌', url='https://t.co/91R1gBRa6L', entities={'url': {'urls': [{'url': 'https://t.co/91R1gBRa6L', 'expanded_url': 'https://www.youtube.com/channel/UCdu9-t1X2Lllw8NhSrbpPFQ', 'display_url': 'youtube.com/channel/UCdu9-…', 'indices': [0, 23]}]}, 'description': {'urls': []}}, protected=False, followers_count=2449, friends_count=2719, listed_count=11, created_at=datetime.datetime(2020, 8, 26, 17, 57, 1), favourites_count=13109, utc_offset=None, time_zone=None, geo_enabled=False, verified=False, statuses_count=3033, lang=None, contributors_enabled=False, is_translator=False, is_translation_enabled=False, profile_background_color='F5F8FA', profile_background_image_url=None, profile_background_image_url_https=None, profile_background_tile=False, profile_image_url='http://pbs.twimg.com/profile_images/1332006056898117633/0gjTn9LC_normal.jpg', profile_image_url_https='https://pbs.twimg.com/profile_images/1332006056898117633/0gjTn9LC_normal.jpg', profile_banner_url='https://pbs.twimg.com/profile_banners/1298680829665669120/1606409965', profile_link_color='1DA1F2', profile_sidebar_border_color='C0DEED', profile_sidebar_fill_color='DDEEF6', profile_text_color='333333', profile_use_background_image=True, has_extended_profile=True, default_profile=True, default_profile_image=False, following=False, follow_request_sent=False, notifications=False, translator_type='none'), user=User(_api=<tweepy.api.API object at 0x000001A9BD0206C8>, _json={'id': 1298680829665669120, 'id_str': '1298680829665669120', 'name': 'In another life~~', 'screen_name': 'MDsWhore', 'location': \"kuroo's thighs\", 'description': 'she/her, 19 // Anime BL Yaoi, nsfw // DMs open// Dating Kuroo tetsurou 😌', 'url': 'https://t.co/91R1gBRa6L', 'entities': {'url': {'urls': [{'url': 'https://t.co/91R1gBRa6L', 'expanded_url': 'https://www.youtube.com/channel/UCdu9-t1X2Lllw8NhSrbpPFQ', 'display_url': 'youtube.com/channel/UCdu9-…', 'indices': [0, 23]}]}, 'description': {'urls': []}}, 'protected': False, 'followers_count': 2449, 'friends_count': 2719, 'listed_count': 11, 'created_at': 'Wed Aug 26 17:57:01 +0000 2020', 'favourites_count': 13109, 'utc_offset': None, 'time_zone': None, 'geo_enabled': False, 'verified': False, 'statuses_count': 3033, 'lang': None, 'contributors_enabled': False, 'is_translator': False, 'is_translation_enabled': False, 'profile_background_color': 'F5F8FA', 'profile_background_image_url': None, 'profile_background_image_url_https': None, 'profile_background_tile': False, 'profile_image_url': 'http://pbs.twimg.com/profile_images/1332006056898117633/0gjTn9LC_normal.jpg', 'profile_image_url_https': 'https://pbs.twimg.com/profile_images/1332006056898117633/0gjTn9LC_normal.jpg', 'profile_banner_url': 'https://pbs.twimg.com/profile_banners/1298680829665669120/1606409965', 'profile_link_color': '1DA1F2', 'profile_sidebar_border_color': 'C0DEED', 'profile_sidebar_fill_color': 'DDEEF6', 'profile_text_color': '333333', 'profile_use_background_image': True, 'has_extended_profile': True, 'default_profile': True, 'default_profile_image': False, 'following': False, 'follow_request_sent': False, 'notifications': False, 'translator_type': 'none'}, id=1298680829665669120, id_str='1298680829665669120', name='In another life~~', screen_name='MDsWhore', location=\"kuroo's thighs\", description='she/her, 19 // Anime BL Yaoi, nsfw // DMs open// Dating Kuroo tetsurou 😌', url='https://t.co/91R1gBRa6L', entities={'url': {'urls': [{'url': 'https://t.co/91R1gBRa6L', 'expanded_url': 'https://www.youtube.com/channel/UCdu9-t1X2Lllw8NhSrbpPFQ', 'display_url': 'youtube.com/channel/UCdu9-…', 'indices': [0, 23]}]}, 'description': {'urls': []}}, protected=False, followers_count=2449, friends_count=2719, listed_count=11, created_at=datetime.datetime(2020, 8, 26, 17, 57, 1), favourites_count=13109, utc_offset=None, time_zone=None, geo_enabled=False, verified=False, statuses_count=3033, lang=None, contributors_enabled=False, is_translator=False, is_translation_enabled=False, profile_background_color='F5F8FA', profile_background_image_url=None, profile_background_image_url_https=None, profile_background_tile=False, profile_image_url='http://pbs.twimg.com/profile_images/1332006056898117633/0gjTn9LC_normal.jpg', profile_image_url_https='https://pbs.twimg.com/profile_images/1332006056898117633/0gjTn9LC_normal.jpg', profile_banner_url='https://pbs.twimg.com/profile_banners/1298680829665669120/1606409965', profile_link_color='1DA1F2', profile_sidebar_border_color='C0DEED', profile_sidebar_fill_color='DDEEF6', profile_text_color='333333', profile_use_background_image=True, has_extended_profile=True, default_profile=True, default_profile_image=False, following=False, follow_request_sent=False, notifications=False, translator_type='none'), geo=None, coordinates=None, place=None, contributors=None, is_quote_status=False, retweet_count=0, favorite_count=0, favorited=False, retweeted=False, lang='en') \n",
      "\n",
      ".....................................\n",
      "\n",
      "Status(_api=<tweepy.api.API object at 0x000001A9BD0206C8>, _json={'created_at': 'Mon Dec 14 09:35:17 +0000 2020', 'id': 1338417264836546560, 'id_str': '1338417264836546560', 'full_text': \"Ain't rcb bored of winning hearts ?!\\nBhai kabhi toh ipl trophy bhi jeet lo\", 'truncated': False, 'display_text_range': [0, 74], 'entities': {'hashtags': [], 'symbols': [], 'user_mentions': [], 'urls': []}, 'metadata': {'iso_language_code': 'en', 'result_type': 'recent'}, 'source': '<a href=\"http://twitter.com/download/android\" rel=\"nofollow\">Twitter for Android</a>', 'in_reply_to_status_id': None, 'in_reply_to_status_id_str': None, 'in_reply_to_user_id': None, 'in_reply_to_user_id_str': None, 'in_reply_to_screen_name': None, 'user': {'id': 1301058099189395457, 'id_str': '1301058099189395457', 'name': 'anushka // keshu bb stan acc ❤️❤️', 'screen_name': 'anushkatastic', 'location': 'mars', 'description': '|| RAB RAKHA ||', 'url': None, 'entities': {'description': {'urls': []}}, 'protected': False, 'followers_count': 653, 'friends_count': 699, 'listed_count': 0, 'created_at': 'Wed Sep 02 07:23:36 +0000 2020', 'favourites_count': 12516, 'utc_offset': None, 'time_zone': None, 'geo_enabled': False, 'verified': False, 'statuses_count': 3208, 'lang': None, 'contributors_enabled': False, 'is_translator': False, 'is_translation_enabled': False, 'profile_background_color': 'F5F8FA', 'profile_background_image_url': None, 'profile_background_image_url_https': None, 'profile_background_tile': False, 'profile_image_url': 'http://pbs.twimg.com/profile_images/1337602587684552704/TUMDptpm_normal.jpg', 'profile_image_url_https': 'https://pbs.twimg.com/profile_images/1337602587684552704/TUMDptpm_normal.jpg', 'profile_banner_url': 'https://pbs.twimg.com/profile_banners/1301058099189395457/1607693276', 'profile_link_color': '1DA1F2', 'profile_sidebar_border_color': 'C0DEED', 'profile_sidebar_fill_color': 'DDEEF6', 'profile_text_color': '333333', 'profile_use_background_image': True, 'has_extended_profile': True, 'default_profile': True, 'default_profile_image': False, 'following': False, 'follow_request_sent': False, 'notifications': False, 'translator_type': 'none'}, 'geo': None, 'coordinates': None, 'place': None, 'contributors': None, 'is_quote_status': False, 'retweet_count': 1, 'favorite_count': 24, 'favorited': False, 'retweeted': False, 'lang': 'en'}, created_at=datetime.datetime(2020, 12, 14, 9, 35, 17), id=1338417264836546560, id_str='1338417264836546560', full_text=\"Ain't rcb bored of winning hearts ?!\\nBhai kabhi toh ipl trophy bhi jeet lo\", truncated=False, display_text_range=[0, 74], entities={'hashtags': [], 'symbols': [], 'user_mentions': [], 'urls': []}, metadata={'iso_language_code': 'en', 'result_type': 'recent'}, source='Twitter for Android', source_url='http://twitter.com/download/android', in_reply_to_status_id=None, in_reply_to_status_id_str=None, in_reply_to_user_id=None, in_reply_to_user_id_str=None, in_reply_to_screen_name=None, author=User(_api=<tweepy.api.API object at 0x000001A9BD0206C8>, _json={'id': 1301058099189395457, 'id_str': '1301058099189395457', 'name': 'anushka // keshu bb stan acc ❤️❤️', 'screen_name': 'anushkatastic', 'location': 'mars', 'description': '|| RAB RAKHA ||', 'url': None, 'entities': {'description': {'urls': []}}, 'protected': False, 'followers_count': 653, 'friends_count': 699, 'listed_count': 0, 'created_at': 'Wed Sep 02 07:23:36 +0000 2020', 'favourites_count': 12516, 'utc_offset': None, 'time_zone': None, 'geo_enabled': False, 'verified': False, 'statuses_count': 3208, 'lang': None, 'contributors_enabled': False, 'is_translator': False, 'is_translation_enabled': False, 'profile_background_color': 'F5F8FA', 'profile_background_image_url': None, 'profile_background_image_url_https': None, 'profile_background_tile': False, 'profile_image_url': 'http://pbs.twimg.com/profile_images/1337602587684552704/TUMDptpm_normal.jpg', 'profile_image_url_https': 'https://pbs.twimg.com/profile_images/1337602587684552704/TUMDptpm_normal.jpg', 'profile_banner_url': 'https://pbs.twimg.com/profile_banners/1301058099189395457/1607693276', 'profile_link_color': '1DA1F2', 'profile_sidebar_border_color': 'C0DEED', 'profile_sidebar_fill_color': 'DDEEF6', 'profile_text_color': '333333', 'profile_use_background_image': True, 'has_extended_profile': True, 'default_profile': True, 'default_profile_image': False, 'following': False, 'follow_request_sent': False, 'notifications': False, 'translator_type': 'none'}, id=1301058099189395457, id_str='1301058099189395457', name='anushka // keshu bb stan acc ❤️❤️', screen_name='anushkatastic', location='mars', description='|| RAB RAKHA ||', url=None, entities={'description': {'urls': []}}, protected=False, followers_count=653, friends_count=699, listed_count=0, created_at=datetime.datetime(2020, 9, 2, 7, 23, 36), favourites_count=12516, utc_offset=None, time_zone=None, geo_enabled=False, verified=False, statuses_count=3208, lang=None, contributors_enabled=False, is_translator=False, is_translation_enabled=False, profile_background_color='F5F8FA', profile_background_image_url=None, profile_background_image_url_https=None, profile_background_tile=False, profile_image_url='http://pbs.twimg.com/profile_images/1337602587684552704/TUMDptpm_normal.jpg', profile_image_url_https='https://pbs.twimg.com/profile_images/1337602587684552704/TUMDptpm_normal.jpg', profile_banner_url='https://pbs.twimg.com/profile_banners/1301058099189395457/1607693276', profile_link_color='1DA1F2', profile_sidebar_border_color='C0DEED', profile_sidebar_fill_color='DDEEF6', profile_text_color='333333', profile_use_background_image=True, has_extended_profile=True, default_profile=True, default_profile_image=False, following=False, follow_request_sent=False, notifications=False, translator_type='none'), user=User(_api=<tweepy.api.API object at 0x000001A9BD0206C8>, _json={'id': 1301058099189395457, 'id_str': '1301058099189395457', 'name': 'anushka // keshu bb stan acc ❤️❤️', 'screen_name': 'anushkatastic', 'location': 'mars', 'description': '|| RAB RAKHA ||', 'url': None, 'entities': {'description': {'urls': []}}, 'protected': False, 'followers_count': 653, 'friends_count': 699, 'listed_count': 0, 'created_at': 'Wed Sep 02 07:23:36 +0000 2020', 'favourites_count': 12516, 'utc_offset': None, 'time_zone': None, 'geo_enabled': False, 'verified': False, 'statuses_count': 3208, 'lang': None, 'contributors_enabled': False, 'is_translator': False, 'is_translation_enabled': False, 'profile_background_color': 'F5F8FA', 'profile_background_image_url': None, 'profile_background_image_url_https': None, 'profile_background_tile': False, 'profile_image_url': 'http://pbs.twimg.com/profile_images/1337602587684552704/TUMDptpm_normal.jpg', 'profile_image_url_https': 'https://pbs.twimg.com/profile_images/1337602587684552704/TUMDptpm_normal.jpg', 'profile_banner_url': 'https://pbs.twimg.com/profile_banners/1301058099189395457/1607693276', 'profile_link_color': '1DA1F2', 'profile_sidebar_border_color': 'C0DEED', 'profile_sidebar_fill_color': 'DDEEF6', 'profile_text_color': '333333', 'profile_use_background_image': True, 'has_extended_profile': True, 'default_profile': True, 'default_profile_image': False, 'following': False, 'follow_request_sent': False, 'notifications': False, 'translator_type': 'none'}, id=1301058099189395457, id_str='1301058099189395457', name='anushka // keshu bb stan acc ❤️❤️', screen_name='anushkatastic', location='mars', description='|| RAB RAKHA ||', url=None, entities={'description': {'urls': []}}, protected=False, followers_count=653, friends_count=699, listed_count=0, created_at=datetime.datetime(2020, 9, 2, 7, 23, 36), favourites_count=12516, utc_offset=None, time_zone=None, geo_enabled=False, verified=False, statuses_count=3208, lang=None, contributors_enabled=False, is_translator=False, is_translation_enabled=False, profile_background_color='F5F8FA', profile_background_image_url=None, profile_background_image_url_https=None, profile_background_tile=False, profile_image_url='http://pbs.twimg.com/profile_images/1337602587684552704/TUMDptpm_normal.jpg', profile_image_url_https='https://pbs.twimg.com/profile_images/1337602587684552704/TUMDptpm_normal.jpg', profile_banner_url='https://pbs.twimg.com/profile_banners/1301058099189395457/1607693276', profile_link_color='1DA1F2', profile_sidebar_border_color='C0DEED', profile_sidebar_fill_color='DDEEF6', profile_text_color='333333', profile_use_background_image=True, has_extended_profile=True, default_profile=True, default_profile_image=False, following=False, follow_request_sent=False, notifications=False, translator_type='none'), geo=None, coordinates=None, place=None, contributors=None, is_quote_status=False, retweet_count=1, favorite_count=24, favorited=False, retweeted=False, lang='en') \n",
      "\n",
      ".....................................\n",
      "\n",
      "Status(_api=<tweepy.api.API object at 0x000001A9BD0206C8>, _json={'created_at': 'Sun Dec 13 11:34:58 +0000 2020', 'id': 1338084997895389184, 'id_str': '1338084997895389184', 'full_text': 'I had rather place my bet on RCB winning the IPL than SRM telling us Codetantra is a great online exam platform 😂\\n\\n#boycottcodetantra \\n#srmboycottsprocotor \\n#srmagainststudents', 'truncated': False, 'display_text_range': [0, 176], 'entities': {'hashtags': [{'text': 'boycottcodetantra', 'indices': [115, 133]}, {'text': 'srmboycottsprocotor', 'indices': [135, 155]}, {'text': 'srmagainststudents', 'indices': [157, 176]}], 'symbols': [], 'user_mentions': [], 'urls': []}, 'metadata': {'iso_language_code': 'en', 'result_type': 'recent'}, 'source': '<a href=\"http://twitter.com/download/android\" rel=\"nofollow\">Twitter for Android</a>', 'in_reply_to_status_id': None, 'in_reply_to_status_id_str': None, 'in_reply_to_user_id': None, 'in_reply_to_user_id_str': None, 'in_reply_to_screen_name': None, 'user': {'id': 1220719062629658624, 'id_str': '1220719062629658624', 'name': 'Srijan Pathak', 'screen_name': 'saintpathak', 'location': 'Mumbai, India', 'description': '20 | #SouthamptonFC | #CentreForward | Data Science | Artificial Intelligence and Machine Learning | A Mercedes-f1 fan(not on road)', 'url': None, 'entities': {'description': {'urls': []}}, 'protected': False, 'followers_count': 154, 'friends_count': 292, 'listed_count': 1, 'created_at': 'Fri Jan 24 14:44:47 +0000 2020', 'favourites_count': 1070, 'utc_offset': None, 'time_zone': None, 'geo_enabled': False, 'verified': False, 'statuses_count': 311, 'lang': None, 'contributors_enabled': False, 'is_translator': False, 'is_translation_enabled': False, 'profile_background_color': 'F5F8FA', 'profile_background_image_url': None, 'profile_background_image_url_https': None, 'profile_background_tile': False, 'profile_image_url': 'http://pbs.twimg.com/profile_images/1338352700182806528/4aRLeCJX_normal.jpg', 'profile_image_url_https': 'https://pbs.twimg.com/profile_images/1338352700182806528/4aRLeCJX_normal.jpg', 'profile_banner_url': 'https://pbs.twimg.com/profile_banners/1220719062629658624/1607923017', 'profile_link_color': '1DA1F2', 'profile_sidebar_border_color': 'C0DEED', 'profile_sidebar_fill_color': 'DDEEF6', 'profile_text_color': '333333', 'profile_use_background_image': True, 'has_extended_profile': True, 'default_profile': True, 'default_profile_image': False, 'following': False, 'follow_request_sent': False, 'notifications': False, 'translator_type': 'none'}, 'geo': None, 'coordinates': None, 'place': None, 'contributors': None, 'is_quote_status': False, 'retweet_count': 14, 'favorite_count': 40, 'favorited': False, 'retweeted': False, 'lang': 'en'}, created_at=datetime.datetime(2020, 12, 13, 11, 34, 58), id=1338084997895389184, id_str='1338084997895389184', full_text='I had rather place my bet on RCB winning the IPL than SRM telling us Codetantra is a great online exam platform 😂\\n\\n#boycottcodetantra \\n#srmboycottsprocotor \\n#srmagainststudents', truncated=False, display_text_range=[0, 176], entities={'hashtags': [{'text': 'boycottcodetantra', 'indices': [115, 133]}, {'text': 'srmboycottsprocotor', 'indices': [135, 155]}, {'text': 'srmagainststudents', 'indices': [157, 176]}], 'symbols': [], 'user_mentions': [], 'urls': []}, metadata={'iso_language_code': 'en', 'result_type': 'recent'}, source='Twitter for Android', source_url='http://twitter.com/download/android', in_reply_to_status_id=None, in_reply_to_status_id_str=None, in_reply_to_user_id=None, in_reply_to_user_id_str=None, in_reply_to_screen_name=None, author=User(_api=<tweepy.api.API object at 0x000001A9BD0206C8>, _json={'id': 1220719062629658624, 'id_str': '1220719062629658624', 'name': 'Srijan Pathak', 'screen_name': 'saintpathak', 'location': 'Mumbai, India', 'description': '20 | #SouthamptonFC | #CentreForward | Data Science | Artificial Intelligence and Machine Learning | A Mercedes-f1 fan(not on road)', 'url': None, 'entities': {'description': {'urls': []}}, 'protected': False, 'followers_count': 154, 'friends_count': 292, 'listed_count': 1, 'created_at': 'Fri Jan 24 14:44:47 +0000 2020', 'favourites_count': 1070, 'utc_offset': None, 'time_zone': None, 'geo_enabled': False, 'verified': False, 'statuses_count': 311, 'lang': None, 'contributors_enabled': False, 'is_translator': False, 'is_translation_enabled': False, 'profile_background_color': 'F5F8FA', 'profile_background_image_url': None, 'profile_background_image_url_https': None, 'profile_background_tile': False, 'profile_image_url': 'http://pbs.twimg.com/profile_images/1338352700182806528/4aRLeCJX_normal.jpg', 'profile_image_url_https': 'https://pbs.twimg.com/profile_images/1338352700182806528/4aRLeCJX_normal.jpg', 'profile_banner_url': 'https://pbs.twimg.com/profile_banners/1220719062629658624/1607923017', 'profile_link_color': '1DA1F2', 'profile_sidebar_border_color': 'C0DEED', 'profile_sidebar_fill_color': 'DDEEF6', 'profile_text_color': '333333', 'profile_use_background_image': True, 'has_extended_profile': True, 'default_profile': True, 'default_profile_image': False, 'following': False, 'follow_request_sent': False, 'notifications': False, 'translator_type': 'none'}, id=1220719062629658624, id_str='1220719062629658624', name='Srijan Pathak', screen_name='saintpathak', location='Mumbai, India', description='20 | #SouthamptonFC | #CentreForward | Data Science | Artificial Intelligence and Machine Learning | A Mercedes-f1 fan(not on road)', url=None, entities={'description': {'urls': []}}, protected=False, followers_count=154, friends_count=292, listed_count=1, created_at=datetime.datetime(2020, 1, 24, 14, 44, 47), favourites_count=1070, utc_offset=None, time_zone=None, geo_enabled=False, verified=False, statuses_count=311, lang=None, contributors_enabled=False, is_translator=False, is_translation_enabled=False, profile_background_color='F5F8FA', profile_background_image_url=None, profile_background_image_url_https=None, profile_background_tile=False, profile_image_url='http://pbs.twimg.com/profile_images/1338352700182806528/4aRLeCJX_normal.jpg', profile_image_url_https='https://pbs.twimg.com/profile_images/1338352700182806528/4aRLeCJX_normal.jpg', profile_banner_url='https://pbs.twimg.com/profile_banners/1220719062629658624/1607923017', profile_link_color='1DA1F2', profile_sidebar_border_color='C0DEED', profile_sidebar_fill_color='DDEEF6', profile_text_color='333333', profile_use_background_image=True, has_extended_profile=True, default_profile=True, default_profile_image=False, following=False, follow_request_sent=False, notifications=False, translator_type='none'), user=User(_api=<tweepy.api.API object at 0x000001A9BD0206C8>, _json={'id': 1220719062629658624, 'id_str': '1220719062629658624', 'name': 'Srijan Pathak', 'screen_name': 'saintpathak', 'location': 'Mumbai, India', 'description': '20 | #SouthamptonFC | #CentreForward | Data Science | Artificial Intelligence and Machine Learning | A Mercedes-f1 fan(not on road)', 'url': None, 'entities': {'description': {'urls': []}}, 'protected': False, 'followers_count': 154, 'friends_count': 292, 'listed_count': 1, 'created_at': 'Fri Jan 24 14:44:47 +0000 2020', 'favourites_count': 1070, 'utc_offset': None, 'time_zone': None, 'geo_enabled': False, 'verified': False, 'statuses_count': 311, 'lang': None, 'contributors_enabled': False, 'is_translator': False, 'is_translation_enabled': False, 'profile_background_color': 'F5F8FA', 'profile_background_image_url': None, 'profile_background_image_url_https': None, 'profile_background_tile': False, 'profile_image_url': 'http://pbs.twimg.com/profile_images/1338352700182806528/4aRLeCJX_normal.jpg', 'profile_image_url_https': 'https://pbs.twimg.com/profile_images/1338352700182806528/4aRLeCJX_normal.jpg', 'profile_banner_url': 'https://pbs.twimg.com/profile_banners/1220719062629658624/1607923017', 'profile_link_color': '1DA1F2', 'profile_sidebar_border_color': 'C0DEED', 'profile_sidebar_fill_color': 'DDEEF6', 'profile_text_color': '333333', 'profile_use_background_image': True, 'has_extended_profile': True, 'default_profile': True, 'default_profile_image': False, 'following': False, 'follow_request_sent': False, 'notifications': False, 'translator_type': 'none'}, id=1220719062629658624, id_str='1220719062629658624', name='Srijan Pathak', screen_name='saintpathak', location='Mumbai, India', description='20 | #SouthamptonFC | #CentreForward | Data Science | Artificial Intelligence and Machine Learning | A Mercedes-f1 fan(not on road)', url=None, entities={'description': {'urls': []}}, protected=False, followers_count=154, friends_count=292, listed_count=1, created_at=datetime.datetime(2020, 1, 24, 14, 44, 47), favourites_count=1070, utc_offset=None, time_zone=None, geo_enabled=False, verified=False, statuses_count=311, lang=None, contributors_enabled=False, is_translator=False, is_translation_enabled=False, profile_background_color='F5F8FA', profile_background_image_url=None, profile_background_image_url_https=None, profile_background_tile=False, profile_image_url='http://pbs.twimg.com/profile_images/1338352700182806528/4aRLeCJX_normal.jpg', profile_image_url_https='https://pbs.twimg.com/profile_images/1338352700182806528/4aRLeCJX_normal.jpg', profile_banner_url='https://pbs.twimg.com/profile_banners/1220719062629658624/1607923017', profile_link_color='1DA1F2', profile_sidebar_border_color='C0DEED', profile_sidebar_fill_color='DDEEF6', profile_text_color='333333', profile_use_background_image=True, has_extended_profile=True, default_profile=True, default_profile_image=False, following=False, follow_request_sent=False, notifications=False, translator_type='none'), geo=None, coordinates=None, place=None, contributors=None, is_quote_status=False, retweet_count=14, favorite_count=40, favorited=False, retweeted=False, lang='en') \n",
      "\n",
      ".....................................\n",
      "\n",
      "Status(_api=<tweepy.api.API object at 0x000001A9BD0206C8>, _json={'created_at': 'Thu Dec 10 18:43:29 +0000 2020', 'id': 1337105673398542336, 'id_str': '1337105673398542336', 'full_text': '@afcSyed @SriniMaama16 BCCI stayed fool whole year after 2017 in ODIs dropping him and Jaddu just because they did not play well in Champions Trophy finals...happens seriously sometimes with Kohli....he lost 5 games continuosly for RCB this IPL disturbing the winning team...', 'truncated': False, 'display_text_range': [23, 275], 'entities': {'hashtags': [], 'symbols': [], 'user_mentions': [{'screen_name': 'afcSyed', 'name': 'Shaik 🚀', 'id': 125657994, 'id_str': '125657994', 'indices': [0, 8]}, {'screen_name': 'SriniMaama16', 'name': 'Srini Mama', 'id': 954302570079469568, 'id_str': '954302570079469568', 'indices': [9, 22]}], 'urls': []}, 'metadata': {'iso_language_code': 'en', 'result_type': 'recent'}, 'source': '<a href=\"http://twitter.com/download/android\" rel=\"nofollow\">Twitter for Android</a>', 'in_reply_to_status_id': 1337102776506060800, 'in_reply_to_status_id_str': '1337102776506060800', 'in_reply_to_user_id': 125657994, 'in_reply_to_user_id_str': '125657994', 'in_reply_to_screen_name': 'afcSyed', 'user': {'id': 1324789516469633024, 'id_str': '1324789516469633024', 'name': '@cricaddict', 'screen_name': 'cricaddict5', 'location': '', 'description': 'Started as Cricfan and ended up being Cringe Tweeter! \\nBig fan of Abhijit Kale!', 'url': None, 'entities': {'description': {'urls': []}}, 'protected': False, 'followers_count': 0, 'friends_count': 53, 'listed_count': 0, 'created_at': 'Fri Nov 06 19:03:59 +0000 2020', 'favourites_count': 259, 'utc_offset': None, 'time_zone': None, 'geo_enabled': False, 'verified': False, 'statuses_count': 157, 'lang': None, 'contributors_enabled': False, 'is_translator': False, 'is_translation_enabled': False, 'profile_background_color': 'F5F8FA', 'profile_background_image_url': None, 'profile_background_image_url_https': None, 'profile_background_tile': False, 'profile_image_url': 'http://pbs.twimg.com/profile_images/1324789956284350464/S3W7r94h_normal.jpg', 'profile_image_url_https': 'https://pbs.twimg.com/profile_images/1324789956284350464/S3W7r94h_normal.jpg', 'profile_link_color': '1DA1F2', 'profile_sidebar_border_color': 'C0DEED', 'profile_sidebar_fill_color': 'DDEEF6', 'profile_text_color': '333333', 'profile_use_background_image': True, 'has_extended_profile': True, 'default_profile': True, 'default_profile_image': False, 'following': False, 'follow_request_sent': False, 'notifications': False, 'translator_type': 'none'}, 'geo': None, 'coordinates': None, 'place': None, 'contributors': None, 'is_quote_status': False, 'retweet_count': 0, 'favorite_count': 0, 'favorited': False, 'retweeted': False, 'lang': 'en'}, created_at=datetime.datetime(2020, 12, 10, 18, 43, 29), id=1337105673398542336, id_str='1337105673398542336', full_text='@afcSyed @SriniMaama16 BCCI stayed fool whole year after 2017 in ODIs dropping him and Jaddu just because they did not play well in Champions Trophy finals...happens seriously sometimes with Kohli....he lost 5 games continuosly for RCB this IPL disturbing the winning team...', truncated=False, display_text_range=[23, 275], entities={'hashtags': [], 'symbols': [], 'user_mentions': [{'screen_name': 'afcSyed', 'name': 'Shaik 🚀', 'id': 125657994, 'id_str': '125657994', 'indices': [0, 8]}, {'screen_name': 'SriniMaama16', 'name': 'Srini Mama', 'id': 954302570079469568, 'id_str': '954302570079469568', 'indices': [9, 22]}], 'urls': []}, metadata={'iso_language_code': 'en', 'result_type': 'recent'}, source='Twitter for Android', source_url='http://twitter.com/download/android', in_reply_to_status_id=1337102776506060800, in_reply_to_status_id_str='1337102776506060800', in_reply_to_user_id=125657994, in_reply_to_user_id_str='125657994', in_reply_to_screen_name='afcSyed', author=User(_api=<tweepy.api.API object at 0x000001A9BD0206C8>, _json={'id': 1324789516469633024, 'id_str': '1324789516469633024', 'name': '@cricaddict', 'screen_name': 'cricaddict5', 'location': '', 'description': 'Started as Cricfan and ended up being Cringe Tweeter! \\nBig fan of Abhijit Kale!', 'url': None, 'entities': {'description': {'urls': []}}, 'protected': False, 'followers_count': 0, 'friends_count': 53, 'listed_count': 0, 'created_at': 'Fri Nov 06 19:03:59 +0000 2020', 'favourites_count': 259, 'utc_offset': None, 'time_zone': None, 'geo_enabled': False, 'verified': False, 'statuses_count': 157, 'lang': None, 'contributors_enabled': False, 'is_translator': False, 'is_translation_enabled': False, 'profile_background_color': 'F5F8FA', 'profile_background_image_url': None, 'profile_background_image_url_https': None, 'profile_background_tile': False, 'profile_image_url': 'http://pbs.twimg.com/profile_images/1324789956284350464/S3W7r94h_normal.jpg', 'profile_image_url_https': 'https://pbs.twimg.com/profile_images/1324789956284350464/S3W7r94h_normal.jpg', 'profile_link_color': '1DA1F2', 'profile_sidebar_border_color': 'C0DEED', 'profile_sidebar_fill_color': 'DDEEF6', 'profile_text_color': '333333', 'profile_use_background_image': True, 'has_extended_profile': True, 'default_profile': True, 'default_profile_image': False, 'following': False, 'follow_request_sent': False, 'notifications': False, 'translator_type': 'none'}, id=1324789516469633024, id_str='1324789516469633024', name='@cricaddict', screen_name='cricaddict5', location='', description='Started as Cricfan and ended up being Cringe Tweeter! \\nBig fan of Abhijit Kale!', url=None, entities={'description': {'urls': []}}, protected=False, followers_count=0, friends_count=53, listed_count=0, created_at=datetime.datetime(2020, 11, 6, 19, 3, 59), favourites_count=259, utc_offset=None, time_zone=None, geo_enabled=False, verified=False, statuses_count=157, lang=None, contributors_enabled=False, is_translator=False, is_translation_enabled=False, profile_background_color='F5F8FA', profile_background_image_url=None, profile_background_image_url_https=None, profile_background_tile=False, profile_image_url='http://pbs.twimg.com/profile_images/1324789956284350464/S3W7r94h_normal.jpg', profile_image_url_https='https://pbs.twimg.com/profile_images/1324789956284350464/S3W7r94h_normal.jpg', profile_link_color='1DA1F2', profile_sidebar_border_color='C0DEED', profile_sidebar_fill_color='DDEEF6', profile_text_color='333333', profile_use_background_image=True, has_extended_profile=True, default_profile=True, default_profile_image=False, following=False, follow_request_sent=False, notifications=False, translator_type='none'), user=User(_api=<tweepy.api.API object at 0x000001A9BD0206C8>, _json={'id': 1324789516469633024, 'id_str': '1324789516469633024', 'name': '@cricaddict', 'screen_name': 'cricaddict5', 'location': '', 'description': 'Started as Cricfan and ended up being Cringe Tweeter! \\nBig fan of Abhijit Kale!', 'url': None, 'entities': {'description': {'urls': []}}, 'protected': False, 'followers_count': 0, 'friends_count': 53, 'listed_count': 0, 'created_at': 'Fri Nov 06 19:03:59 +0000 2020', 'favourites_count': 259, 'utc_offset': None, 'time_zone': None, 'geo_enabled': False, 'verified': False, 'statuses_count': 157, 'lang': None, 'contributors_enabled': False, 'is_translator': False, 'is_translation_enabled': False, 'profile_background_color': 'F5F8FA', 'profile_background_image_url': None, 'profile_background_image_url_https': None, 'profile_background_tile': False, 'profile_image_url': 'http://pbs.twimg.com/profile_images/1324789956284350464/S3W7r94h_normal.jpg', 'profile_image_url_https': 'https://pbs.twimg.com/profile_images/1324789956284350464/S3W7r94h_normal.jpg', 'profile_link_color': '1DA1F2', 'profile_sidebar_border_color': 'C0DEED', 'profile_sidebar_fill_color': 'DDEEF6', 'profile_text_color': '333333', 'profile_use_background_image': True, 'has_extended_profile': True, 'default_profile': True, 'default_profile_image': False, 'following': False, 'follow_request_sent': False, 'notifications': False, 'translator_type': 'none'}, id=1324789516469633024, id_str='1324789516469633024', name='@cricaddict', screen_name='cricaddict5', location='', description='Started as Cricfan and ended up being Cringe Tweeter! \\nBig fan of Abhijit Kale!', url=None, entities={'description': {'urls': []}}, protected=False, followers_count=0, friends_count=53, listed_count=0, created_at=datetime.datetime(2020, 11, 6, 19, 3, 59), favourites_count=259, utc_offset=None, time_zone=None, geo_enabled=False, verified=False, statuses_count=157, lang=None, contributors_enabled=False, is_translator=False, is_translation_enabled=False, profile_background_color='F5F8FA', profile_background_image_url=None, profile_background_image_url_https=None, profile_background_tile=False, profile_image_url='http://pbs.twimg.com/profile_images/1324789956284350464/S3W7r94h_normal.jpg', profile_image_url_https='https://pbs.twimg.com/profile_images/1324789956284350464/S3W7r94h_normal.jpg', profile_link_color='1DA1F2', profile_sidebar_border_color='C0DEED', profile_sidebar_fill_color='DDEEF6', profile_text_color='333333', profile_use_background_image=True, has_extended_profile=True, default_profile=True, default_profile_image=False, following=False, follow_request_sent=False, notifications=False, translator_type='none'), geo=None, coordinates=None, place=None, contributors=None, is_quote_status=False, retweet_count=0, favorite_count=0, favorited=False, retweeted=False, lang='en') \n",
      "\n",
      ".....................................\n",
      "\n",
      "Status(_api=<tweepy.api.API object at 0x000001A9BD0206C8>, _json={'created_at': 'Wed Dec 09 09:51:09 +0000 2020', 'id': 1336609320490962944, 'id_str': '1336609320490962944', 'full_text': '@rajasthanroyals RCB winning IPL😔', 'truncated': False, 'display_text_range': [17, 33], 'entities': {'hashtags': [], 'symbols': [], 'user_mentions': [{'screen_name': 'rajasthanroyals', 'name': 'Rajasthan Royals', 'id': 17082958, 'id_str': '17082958', 'indices': [0, 16]}], 'urls': []}, 'metadata': {'iso_language_code': 'en', 'result_type': 'recent'}, 'source': '<a href=\"https://mobile.twitter.com\" rel=\"nofollow\">Twitter Web App</a>', 'in_reply_to_status_id': 1335864161423671299, 'in_reply_to_status_id_str': '1335864161423671299', 'in_reply_to_user_id': 17082958, 'in_reply_to_user_id_str': '17082958', 'in_reply_to_screen_name': 'rajasthanroyals', 'user': {'id': 1209322572090875906, 'id_str': '1209322572090875906', 'name': 'ALLAN BIJI', 'screen_name': 'AllanBiji', 'location': 'dubai', 'description': 'true virat fan,till last breath', 'url': None, 'entities': {'description': {'urls': []}}, 'protected': False, 'followers_count': 2, 'friends_count': 42, 'listed_count': 0, 'created_at': 'Tue Dec 24 03:59:19 +0000 2019', 'favourites_count': 651, 'utc_offset': None, 'time_zone': None, 'geo_enabled': False, 'verified': False, 'statuses_count': 64, 'lang': None, 'contributors_enabled': False, 'is_translator': False, 'is_translation_enabled': False, 'profile_background_color': 'F5F8FA', 'profile_background_image_url': None, 'profile_background_image_url_https': None, 'profile_background_tile': False, 'profile_image_url': 'http://pbs.twimg.com/profile_images/1209323308044488704/mrtf6fLX_normal.jpg', 'profile_image_url_https': 'https://pbs.twimg.com/profile_images/1209323308044488704/mrtf6fLX_normal.jpg', 'profile_link_color': '1DA1F2', 'profile_sidebar_border_color': 'C0DEED', 'profile_sidebar_fill_color': 'DDEEF6', 'profile_text_color': '333333', 'profile_use_background_image': True, 'has_extended_profile': True, 'default_profile': True, 'default_profile_image': False, 'following': False, 'follow_request_sent': False, 'notifications': False, 'translator_type': 'none'}, 'geo': None, 'coordinates': None, 'place': None, 'contributors': None, 'is_quote_status': False, 'retweet_count': 0, 'favorite_count': 0, 'favorited': False, 'retweeted': False, 'lang': 'en'}, created_at=datetime.datetime(2020, 12, 9, 9, 51, 9), id=1336609320490962944, id_str='1336609320490962944', full_text='@rajasthanroyals RCB winning IPL😔', truncated=False, display_text_range=[17, 33], entities={'hashtags': [], 'symbols': [], 'user_mentions': [{'screen_name': 'rajasthanroyals', 'name': 'Rajasthan Royals', 'id': 17082958, 'id_str': '17082958', 'indices': [0, 16]}], 'urls': []}, metadata={'iso_language_code': 'en', 'result_type': 'recent'}, source='Twitter Web App', source_url='https://mobile.twitter.com', in_reply_to_status_id=1335864161423671299, in_reply_to_status_id_str='1335864161423671299', in_reply_to_user_id=17082958, in_reply_to_user_id_str='17082958', in_reply_to_screen_name='rajasthanroyals', author=User(_api=<tweepy.api.API object at 0x000001A9BD0206C8>, _json={'id': 1209322572090875906, 'id_str': '1209322572090875906', 'name': 'ALLAN BIJI', 'screen_name': 'AllanBiji', 'location': 'dubai', 'description': 'true virat fan,till last breath', 'url': None, 'entities': {'description': {'urls': []}}, 'protected': False, 'followers_count': 2, 'friends_count': 42, 'listed_count': 0, 'created_at': 'Tue Dec 24 03:59:19 +0000 2019', 'favourites_count': 651, 'utc_offset': None, 'time_zone': None, 'geo_enabled': False, 'verified': False, 'statuses_count': 64, 'lang': None, 'contributors_enabled': False, 'is_translator': False, 'is_translation_enabled': False, 'profile_background_color': 'F5F8FA', 'profile_background_image_url': None, 'profile_background_image_url_https': None, 'profile_background_tile': False, 'profile_image_url': 'http://pbs.twimg.com/profile_images/1209323308044488704/mrtf6fLX_normal.jpg', 'profile_image_url_https': 'https://pbs.twimg.com/profile_images/1209323308044488704/mrtf6fLX_normal.jpg', 'profile_link_color': '1DA1F2', 'profile_sidebar_border_color': 'C0DEED', 'profile_sidebar_fill_color': 'DDEEF6', 'profile_text_color': '333333', 'profile_use_background_image': True, 'has_extended_profile': True, 'default_profile': True, 'default_profile_image': False, 'following': False, 'follow_request_sent': False, 'notifications': False, 'translator_type': 'none'}, id=1209322572090875906, id_str='1209322572090875906', name='ALLAN BIJI', screen_name='AllanBiji', location='dubai', description='true virat fan,till last breath', url=None, entities={'description': {'urls': []}}, protected=False, followers_count=2, friends_count=42, listed_count=0, created_at=datetime.datetime(2019, 12, 24, 3, 59, 19), favourites_count=651, utc_offset=None, time_zone=None, geo_enabled=False, verified=False, statuses_count=64, lang=None, contributors_enabled=False, is_translator=False, is_translation_enabled=False, profile_background_color='F5F8FA', profile_background_image_url=None, profile_background_image_url_https=None, profile_background_tile=False, profile_image_url='http://pbs.twimg.com/profile_images/1209323308044488704/mrtf6fLX_normal.jpg', profile_image_url_https='https://pbs.twimg.com/profile_images/1209323308044488704/mrtf6fLX_normal.jpg', profile_link_color='1DA1F2', profile_sidebar_border_color='C0DEED', profile_sidebar_fill_color='DDEEF6', profile_text_color='333333', profile_use_background_image=True, has_extended_profile=True, default_profile=True, default_profile_image=False, following=False, follow_request_sent=False, notifications=False, translator_type='none'), user=User(_api=<tweepy.api.API object at 0x000001A9BD0206C8>, _json={'id': 1209322572090875906, 'id_str': '1209322572090875906', 'name': 'ALLAN BIJI', 'screen_name': 'AllanBiji', 'location': 'dubai', 'description': 'true virat fan,till last breath', 'url': None, 'entities': {'description': {'urls': []}}, 'protected': False, 'followers_count': 2, 'friends_count': 42, 'listed_count': 0, 'created_at': 'Tue Dec 24 03:59:19 +0000 2019', 'favourites_count': 651, 'utc_offset': None, 'time_zone': None, 'geo_enabled': False, 'verified': False, 'statuses_count': 64, 'lang': None, 'contributors_enabled': False, 'is_translator': False, 'is_translation_enabled': False, 'profile_background_color': 'F5F8FA', 'profile_background_image_url': None, 'profile_background_image_url_https': None, 'profile_background_tile': False, 'profile_image_url': 'http://pbs.twimg.com/profile_images/1209323308044488704/mrtf6fLX_normal.jpg', 'profile_image_url_https': 'https://pbs.twimg.com/profile_images/1209323308044488704/mrtf6fLX_normal.jpg', 'profile_link_color': '1DA1F2', 'profile_sidebar_border_color': 'C0DEED', 'profile_sidebar_fill_color': 'DDEEF6', 'profile_text_color': '333333', 'profile_use_background_image': True, 'has_extended_profile': True, 'default_profile': True, 'default_profile_image': False, 'following': False, 'follow_request_sent': False, 'notifications': False, 'translator_type': 'none'}, id=1209322572090875906, id_str='1209322572090875906', name='ALLAN BIJI', screen_name='AllanBiji', location='dubai', description='true virat fan,till last breath', url=None, entities={'description': {'urls': []}}, protected=False, followers_count=2, friends_count=42, listed_count=0, created_at=datetime.datetime(2019, 12, 24, 3, 59, 19), favourites_count=651, utc_offset=None, time_zone=None, geo_enabled=False, verified=False, statuses_count=64, lang=None, contributors_enabled=False, is_translator=False, is_translation_enabled=False, profile_background_color='F5F8FA', profile_background_image_url=None, profile_background_image_url_https=None, profile_background_tile=False, profile_image_url='http://pbs.twimg.com/profile_images/1209323308044488704/mrtf6fLX_normal.jpg', profile_image_url_https='https://pbs.twimg.com/profile_images/1209323308044488704/mrtf6fLX_normal.jpg', profile_link_color='1DA1F2', profile_sidebar_border_color='C0DEED', profile_sidebar_fill_color='DDEEF6', profile_text_color='333333', profile_use_background_image=True, has_extended_profile=True, default_profile=True, default_profile_image=False, following=False, follow_request_sent=False, notifications=False, translator_type='none'), geo=None, coordinates=None, place=None, contributors=None, is_quote_status=False, retweet_count=0, favorite_count=0, favorited=False, retweeted=False, lang='en') \n",
      "\n",
      ".....................................\n",
      "\n",
      "Status(_api=<tweepy.api.API object at 0x000001A9BD0206C8>, _json={'created_at': 'Wed Dec 09 07:55:57 +0000 2020', 'id': 1336580328098426880, 'id_str': '1336580328098426880', 'full_text': 'Well played. Wonderful journey  👏🙏\\nYour direct throw leaving Shardul short of his crease and RCB winning by 1 run is always a sensational one in the IPL history. \\n@parthiv9\\n#ParthivPatel https://t.co/mpZtqKIFCG', 'truncated': False, 'display_text_range': [0, 186], 'entities': {'hashtags': [{'text': 'ParthivPatel', 'indices': [173, 186]}], 'symbols': [], 'user_mentions': [{'screen_name': 'parthiv9', 'name': 'parthiv patel', 'id': 75050496, 'id_str': '75050496', 'indices': [163, 172]}], 'urls': [{'url': 'https://t.co/mpZtqKIFCG', 'expanded_url': 'https://twitter.com/parthiv9/status/1336547838969475073', 'display_url': 'twitter.com/parthiv9/statu…', 'indices': [187, 210]}]}, 'metadata': {'iso_language_code': 'en', 'result_type': 'recent'}, 'source': '<a href=\"https://mobile.twitter.com\" rel=\"nofollow\">Twitter Web App</a>', 'in_reply_to_status_id': None, 'in_reply_to_status_id_str': None, 'in_reply_to_user_id': None, 'in_reply_to_user_id_str': None, 'in_reply_to_screen_name': None, 'user': {'id': 1304136130229497856, 'id_str': '1304136130229497856', 'name': 'Nivedita🍁', 'screen_name': 'Whyyyyyso', 'location': 'Chennai, India', 'description': 'Live Love Laugh ♥️✨\\nHar Har Mahadev 🙏', 'url': None, 'entities': {'description': {'urls': []}}, 'protected': False, 'followers_count': 261, 'friends_count': 1013, 'listed_count': 0, 'created_at': 'Thu Sep 10 19:14:33 +0000 2020', 'favourites_count': 4437, 'utc_offset': None, 'time_zone': None, 'geo_enabled': False, 'verified': False, 'statuses_count': 380, 'lang': None, 'contributors_enabled': False, 'is_translator': False, 'is_translation_enabled': False, 'profile_background_color': 'F5F8FA', 'profile_background_image_url': None, 'profile_background_image_url_https': None, 'profile_background_tile': False, 'profile_image_url': 'http://pbs.twimg.com/profile_images/1333775923758342151/3JqfAJhZ_normal.jpg', 'profile_image_url_https': 'https://pbs.twimg.com/profile_images/1333775923758342151/3JqfAJhZ_normal.jpg', 'profile_banner_url': 'https://pbs.twimg.com/profile_banners/1304136130229497856/1606825170', 'profile_link_color': '1DA1F2', 'profile_sidebar_border_color': 'C0DEED', 'profile_sidebar_fill_color': 'DDEEF6', 'profile_text_color': '333333', 'profile_use_background_image': True, 'has_extended_profile': True, 'default_profile': True, 'default_profile_image': False, 'following': False, 'follow_request_sent': False, 'notifications': False, 'translator_type': 'none'}, 'geo': None, 'coordinates': None, 'place': None, 'contributors': None, 'is_quote_status': True, 'quoted_status_id': 1336547838969475073, 'quoted_status_id_str': '1336547838969475073', 'quoted_status': {'created_at': 'Wed Dec 09 05:46:51 +0000 2020', 'id': 1336547838969475073, 'id_str': '1336547838969475073', 'full_text': 'https://t.co/QbqdHX00dR', 'truncated': False, 'display_text_range': [0, 0], 'entities': {'hashtags': [], 'symbols': [], 'user_mentions': [], 'urls': [], 'media': [{'id': 1336547822011871233, 'id_str': '1336547822011871233', 'indices': [0, 23], 'media_url': 'http://pbs.twimg.com/media/EoxfKaxW8AEwrw3.jpg', 'media_url_https': 'https://pbs.twimg.com/media/EoxfKaxW8AEwrw3.jpg', 'url': 'https://t.co/QbqdHX00dR', 'display_url': 'pic.twitter.com/QbqdHX00dR', 'expanded_url': 'https://twitter.com/parthiv9/status/1336547838969475073/photo/1', 'type': 'photo', 'sizes': {'small': {'w': 544, 'h': 680, 'resize': 'fit'}, 'thumb': {'w': 150, 'h': 150, 'resize': 'crop'}, 'large': {'w': 1024, 'h': 1280, 'resize': 'fit'}, 'medium': {'w': 960, 'h': 1200, 'resize': 'fit'}}}]}, 'extended_entities': {'media': [{'id': 1336547822011871233, 'id_str': '1336547822011871233', 'indices': [0, 23], 'media_url': 'http://pbs.twimg.com/media/EoxfKaxW8AEwrw3.jpg', 'media_url_https': 'https://pbs.twimg.com/media/EoxfKaxW8AEwrw3.jpg', 'url': 'https://t.co/QbqdHX00dR', 'display_url': 'pic.twitter.com/QbqdHX00dR', 'expanded_url': 'https://twitter.com/parthiv9/status/1336547838969475073/photo/1', 'type': 'photo', 'sizes': {'small': {'w': 544, 'h': 680, 'resize': 'fit'}, 'thumb': {'w': 150, 'h': 150, 'resize': 'crop'}, 'large': {'w': 1024, 'h': 1280, 'resize': 'fit'}, 'medium': {'w': 960, 'h': 1200, 'resize': 'fit'}}}]}, 'metadata': {'iso_language_code': 'en', 'result_type': 'recent'}, 'source': '<a href=\"http://twitter.com/download/iphone\" rel=\"nofollow\">Twitter for iPhone</a>', 'in_reply_to_status_id': None, 'in_reply_to_status_id_str': None, 'in_reply_to_user_id': None, 'in_reply_to_user_id_str': None, 'in_reply_to_screen_name': None, 'user': {'id': 75050496, 'id_str': '75050496', 'name': 'parthiv patel', 'screen_name': 'parthiv9', 'location': 'Ahmadabad City, India', 'description': 'cricketer', 'url': 'https://t.co/iP7a9AvcIs', 'entities': {'url': {'urls': [{'url': 'https://t.co/iP7a9AvcIs', 'expanded_url': 'http://www.facebook.com/pages/Parthiv-Patel-Official/158984814176991', 'display_url': 'facebook.com/pages/Parthiv-…', 'indices': [0, 23]}]}, 'description': {'urls': []}}, 'protected': False, 'followers_count': 1790461, 'friends_count': 173, 'listed_count': 1163, 'created_at': 'Thu Sep 17 16:24:30 +0000 2009', 'favourites_count': 336, 'utc_offset': None, 'time_zone': None, 'geo_enabled': False, 'verified': True, 'statuses_count': 2341, 'lang': None, 'contributors_enabled': False, 'is_translator': False, 'is_translation_enabled': False, 'profile_background_color': 'C0DEED', 'profile_background_image_url': 'http://abs.twimg.com/images/themes/theme1/bg.png', 'profile_background_image_url_https': 'https://abs.twimg.com/images/themes/theme1/bg.png', 'profile_background_tile': True, 'profile_image_url': 'http://pbs.twimg.com/profile_images/1308315502532534274/ntxP_bny_normal.jpg', 'profile_image_url_https': 'https://pbs.twimg.com/profile_images/1308315502532534274/ntxP_bny_normal.jpg', 'profile_banner_url': 'https://pbs.twimg.com/profile_banners/75050496/1607090306', 'profile_link_color': '0084B4', 'profile_sidebar_border_color': 'C0DEED', 'profile_sidebar_fill_color': 'DDEEF6', 'profile_text_color': '333333', 'profile_use_background_image': True, 'has_extended_profile': True, 'default_profile': False, 'default_profile_image': False, 'following': False, 'follow_request_sent': False, 'notifications': False, 'translator_type': 'none'}, 'geo': None, 'coordinates': None, 'place': None, 'contributors': None, 'is_quote_status': False, 'retweet_count': 5463, 'favorite_count': 88972, 'favorited': False, 'retweeted': False, 'possibly_sensitive': False, 'lang': 'und'}, 'retweet_count': 0, 'favorite_count': 1, 'favorited': False, 'retweeted': False, 'possibly_sensitive': True, 'lang': 'en'}, created_at=datetime.datetime(2020, 12, 9, 7, 55, 57), id=1336580328098426880, id_str='1336580328098426880', full_text='Well played. Wonderful journey  👏🙏\\nYour direct throw leaving Shardul short of his crease and RCB winning by 1 run is always a sensational one in the IPL history. \\n@parthiv9\\n#ParthivPatel https://t.co/mpZtqKIFCG', truncated=False, display_text_range=[0, 186], entities={'hashtags': [{'text': 'ParthivPatel', 'indices': [173, 186]}], 'symbols': [], 'user_mentions': [{'screen_name': 'parthiv9', 'name': 'parthiv patel', 'id': 75050496, 'id_str': '75050496', 'indices': [163, 172]}], 'urls': [{'url': 'https://t.co/mpZtqKIFCG', 'expanded_url': 'https://twitter.com/parthiv9/status/1336547838969475073', 'display_url': 'twitter.com/parthiv9/statu…', 'indices': [187, 210]}]}, metadata={'iso_language_code': 'en', 'result_type': 'recent'}, source='Twitter Web App', source_url='https://mobile.twitter.com', in_reply_to_status_id=None, in_reply_to_status_id_str=None, in_reply_to_user_id=None, in_reply_to_user_id_str=None, in_reply_to_screen_name=None, author=User(_api=<tweepy.api.API object at 0x000001A9BD0206C8>, _json={'id': 1304136130229497856, 'id_str': '1304136130229497856', 'name': 'Nivedita🍁', 'screen_name': 'Whyyyyyso', 'location': 'Chennai, India', 'description': 'Live Love Laugh ♥️✨\\nHar Har Mahadev 🙏', 'url': None, 'entities': {'description': {'urls': []}}, 'protected': False, 'followers_count': 261, 'friends_count': 1013, 'listed_count': 0, 'created_at': 'Thu Sep 10 19:14:33 +0000 2020', 'favourites_count': 4437, 'utc_offset': None, 'time_zone': None, 'geo_enabled': False, 'verified': False, 'statuses_count': 380, 'lang': None, 'contributors_enabled': False, 'is_translator': False, 'is_translation_enabled': False, 'profile_background_color': 'F5F8FA', 'profile_background_image_url': None, 'profile_background_image_url_https': None, 'profile_background_tile': False, 'profile_image_url': 'http://pbs.twimg.com/profile_images/1333775923758342151/3JqfAJhZ_normal.jpg', 'profile_image_url_https': 'https://pbs.twimg.com/profile_images/1333775923758342151/3JqfAJhZ_normal.jpg', 'profile_banner_url': 'https://pbs.twimg.com/profile_banners/1304136130229497856/1606825170', 'profile_link_color': '1DA1F2', 'profile_sidebar_border_color': 'C0DEED', 'profile_sidebar_fill_color': 'DDEEF6', 'profile_text_color': '333333', 'profile_use_background_image': True, 'has_extended_profile': True, 'default_profile': True, 'default_profile_image': False, 'following': False, 'follow_request_sent': False, 'notifications': False, 'translator_type': 'none'}, id=1304136130229497856, id_str='1304136130229497856', name='Nivedita🍁', screen_name='Whyyyyyso', location='Chennai, India', description='Live Love Laugh ♥️✨\\nHar Har Mahadev 🙏', url=None, entities={'description': {'urls': []}}, protected=False, followers_count=261, friends_count=1013, listed_count=0, created_at=datetime.datetime(2020, 9, 10, 19, 14, 33), favourites_count=4437, utc_offset=None, time_zone=None, geo_enabled=False, verified=False, statuses_count=380, lang=None, contributors_enabled=False, is_translator=False, is_translation_enabled=False, profile_background_color='F5F8FA', profile_background_image_url=None, profile_background_image_url_https=None, profile_background_tile=False, profile_image_url='http://pbs.twimg.com/profile_images/1333775923758342151/3JqfAJhZ_normal.jpg', profile_image_url_https='https://pbs.twimg.com/profile_images/1333775923758342151/3JqfAJhZ_normal.jpg', profile_banner_url='https://pbs.twimg.com/profile_banners/1304136130229497856/1606825170', profile_link_color='1DA1F2', profile_sidebar_border_color='C0DEED', profile_sidebar_fill_color='DDEEF6', profile_text_color='333333', profile_use_background_image=True, has_extended_profile=True, default_profile=True, default_profile_image=False, following=False, follow_request_sent=False, notifications=False, translator_type='none'), user=User(_api=<tweepy.api.API object at 0x000001A9BD0206C8>, _json={'id': 1304136130229497856, 'id_str': '1304136130229497856', 'name': 'Nivedita🍁', 'screen_name': 'Whyyyyyso', 'location': 'Chennai, India', 'description': 'Live Love Laugh ♥️✨\\nHar Har Mahadev 🙏', 'url': None, 'entities': {'description': {'urls': []}}, 'protected': False, 'followers_count': 261, 'friends_count': 1013, 'listed_count': 0, 'created_at': 'Thu Sep 10 19:14:33 +0000 2020', 'favourites_count': 4437, 'utc_offset': None, 'time_zone': None, 'geo_enabled': False, 'verified': False, 'statuses_count': 380, 'lang': None, 'contributors_enabled': False, 'is_translator': False, 'is_translation_enabled': False, 'profile_background_color': 'F5F8FA', 'profile_background_image_url': None, 'profile_background_image_url_https': None, 'profile_background_tile': False, 'profile_image_url': 'http://pbs.twimg.com/profile_images/1333775923758342151/3JqfAJhZ_normal.jpg', 'profile_image_url_https': 'https://pbs.twimg.com/profile_images/1333775923758342151/3JqfAJhZ_normal.jpg', 'profile_banner_url': 'https://pbs.twimg.com/profile_banners/1304136130229497856/1606825170', 'profile_link_color': '1DA1F2', 'profile_sidebar_border_color': 'C0DEED', 'profile_sidebar_fill_color': 'DDEEF6', 'profile_text_color': '333333', 'profile_use_background_image': True, 'has_extended_profile': True, 'default_profile': True, 'default_profile_image': False, 'following': False, 'follow_request_sent': False, 'notifications': False, 'translator_type': 'none'}, id=1304136130229497856, id_str='1304136130229497856', name='Nivedita🍁', screen_name='Whyyyyyso', location='Chennai, India', description='Live Love Laugh ♥️✨\\nHar Har Mahadev 🙏', url=None, entities={'description': {'urls': []}}, protected=False, followers_count=261, friends_count=1013, listed_count=0, created_at=datetime.datetime(2020, 9, 10, 19, 14, 33), favourites_count=4437, utc_offset=None, time_zone=None, geo_enabled=False, verified=False, statuses_count=380, lang=None, contributors_enabled=False, is_translator=False, is_translation_enabled=False, profile_background_color='F5F8FA', profile_background_image_url=None, profile_background_image_url_https=None, profile_background_tile=False, profile_image_url='http://pbs.twimg.com/profile_images/1333775923758342151/3JqfAJhZ_normal.jpg', profile_image_url_https='https://pbs.twimg.com/profile_images/1333775923758342151/3JqfAJhZ_normal.jpg', profile_banner_url='https://pbs.twimg.com/profile_banners/1304136130229497856/1606825170', profile_link_color='1DA1F2', profile_sidebar_border_color='C0DEED', profile_sidebar_fill_color='DDEEF6', profile_text_color='333333', profile_use_background_image=True, has_extended_profile=True, default_profile=True, default_profile_image=False, following=False, follow_request_sent=False, notifications=False, translator_type='none'), geo=None, coordinates=None, place=None, contributors=None, is_quote_status=True, quoted_status_id=1336547838969475073, quoted_status_id_str='1336547838969475073', quoted_status=Status(_api=<tweepy.api.API object at 0x000001A9BD0206C8>, _json={'created_at': 'Wed Dec 09 05:46:51 +0000 2020', 'id': 1336547838969475073, 'id_str': '1336547838969475073', 'full_text': 'https://t.co/QbqdHX00dR', 'truncated': False, 'display_text_range': [0, 0], 'entities': {'hashtags': [], 'symbols': [], 'user_mentions': [], 'urls': [], 'media': [{'id': 1336547822011871233, 'id_str': '1336547822011871233', 'indices': [0, 23], 'media_url': 'http://pbs.twimg.com/media/EoxfKaxW8AEwrw3.jpg', 'media_url_https': 'https://pbs.twimg.com/media/EoxfKaxW8AEwrw3.jpg', 'url': 'https://t.co/QbqdHX00dR', 'display_url': 'pic.twitter.com/QbqdHX00dR', 'expanded_url': 'https://twitter.com/parthiv9/status/1336547838969475073/photo/1', 'type': 'photo', 'sizes': {'small': {'w': 544, 'h': 680, 'resize': 'fit'}, 'thumb': {'w': 150, 'h': 150, 'resize': 'crop'}, 'large': {'w': 1024, 'h': 1280, 'resize': 'fit'}, 'medium': {'w': 960, 'h': 1200, 'resize': 'fit'}}}]}, 'extended_entities': {'media': [{'id': 1336547822011871233, 'id_str': '1336547822011871233', 'indices': [0, 23], 'media_url': 'http://pbs.twimg.com/media/EoxfKaxW8AEwrw3.jpg', 'media_url_https': 'https://pbs.twimg.com/media/EoxfKaxW8AEwrw3.jpg', 'url': 'https://t.co/QbqdHX00dR', 'display_url': 'pic.twitter.com/QbqdHX00dR', 'expanded_url': 'https://twitter.com/parthiv9/status/1336547838969475073/photo/1', 'type': 'photo', 'sizes': {'small': {'w': 544, 'h': 680, 'resize': 'fit'}, 'thumb': {'w': 150, 'h': 150, 'resize': 'crop'}, 'large': {'w': 1024, 'h': 1280, 'resize': 'fit'}, 'medium': {'w': 960, 'h': 1200, 'resize': 'fit'}}}]}, 'metadata': {'iso_language_code': 'en', 'result_type': 'recent'}, 'source': '<a href=\"http://twitter.com/download/iphone\" rel=\"nofollow\">Twitter for iPhone</a>', 'in_reply_to_status_id': None, 'in_reply_to_status_id_str': None, 'in_reply_to_user_id': None, 'in_reply_to_user_id_str': None, 'in_reply_to_screen_name': None, 'user': {'id': 75050496, 'id_str': '75050496', 'name': 'parthiv patel', 'screen_name': 'parthiv9', 'location': 'Ahmadabad City, India', 'description': 'cricketer', 'url': 'https://t.co/iP7a9AvcIs', 'entities': {'url': {'urls': [{'url': 'https://t.co/iP7a9AvcIs', 'expanded_url': 'http://www.facebook.com/pages/Parthiv-Patel-Official/158984814176991', 'display_url': 'facebook.com/pages/Parthiv-…', 'indices': [0, 23]}]}, 'description': {'urls': []}}, 'protected': False, 'followers_count': 1790461, 'friends_count': 173, 'listed_count': 1163, 'created_at': 'Thu Sep 17 16:24:30 +0000 2009', 'favourites_count': 336, 'utc_offset': None, 'time_zone': None, 'geo_enabled': False, 'verified': True, 'statuses_count': 2341, 'lang': None, 'contributors_enabled': False, 'is_translator': False, 'is_translation_enabled': False, 'profile_background_color': 'C0DEED', 'profile_background_image_url': 'http://abs.twimg.com/images/themes/theme1/bg.png', 'profile_background_image_url_https': 'https://abs.twimg.com/images/themes/theme1/bg.png', 'profile_background_tile': True, 'profile_image_url': 'http://pbs.twimg.com/profile_images/1308315502532534274/ntxP_bny_normal.jpg', 'profile_image_url_https': 'https://pbs.twimg.com/profile_images/1308315502532534274/ntxP_bny_normal.jpg', 'profile_banner_url': 'https://pbs.twimg.com/profile_banners/75050496/1607090306', 'profile_link_color': '0084B4', 'profile_sidebar_border_color': 'C0DEED', 'profile_sidebar_fill_color': 'DDEEF6', 'profile_text_color': '333333', 'profile_use_background_image': True, 'has_extended_profile': True, 'default_profile': False, 'default_profile_image': False, 'following': False, 'follow_request_sent': False, 'notifications': False, 'translator_type': 'none'}, 'geo': None, 'coordinates': None, 'place': None, 'contributors': None, 'is_quote_status': False, 'retweet_count': 5463, 'favorite_count': 88972, 'favorited': False, 'retweeted': False, 'possibly_sensitive': False, 'lang': 'und'}, created_at=datetime.datetime(2020, 12, 9, 5, 46, 51), id=1336547838969475073, id_str='1336547838969475073', full_text='https://t.co/QbqdHX00dR', truncated=False, display_text_range=[0, 0], entities={'hashtags': [], 'symbols': [], 'user_mentions': [], 'urls': [], 'media': [{'id': 1336547822011871233, 'id_str': '1336547822011871233', 'indices': [0, 23], 'media_url': 'http://pbs.twimg.com/media/EoxfKaxW8AEwrw3.jpg', 'media_url_https': 'https://pbs.twimg.com/media/EoxfKaxW8AEwrw3.jpg', 'url': 'https://t.co/QbqdHX00dR', 'display_url': 'pic.twitter.com/QbqdHX00dR', 'expanded_url': 'https://twitter.com/parthiv9/status/1336547838969475073/photo/1', 'type': 'photo', 'sizes': {'small': {'w': 544, 'h': 680, 'resize': 'fit'}, 'thumb': {'w': 150, 'h': 150, 'resize': 'crop'}, 'large': {'w': 1024, 'h': 1280, 'resize': 'fit'}, 'medium': {'w': 960, 'h': 1200, 'resize': 'fit'}}}]}, extended_entities={'media': [{'id': 1336547822011871233, 'id_str': '1336547822011871233', 'indices': [0, 23], 'media_url': 'http://pbs.twimg.com/media/EoxfKaxW8AEwrw3.jpg', 'media_url_https': 'https://pbs.twimg.com/media/EoxfKaxW8AEwrw3.jpg', 'url': 'https://t.co/QbqdHX00dR', 'display_url': 'pic.twitter.com/QbqdHX00dR', 'expanded_url': 'https://twitter.com/parthiv9/status/1336547838969475073/photo/1', 'type': 'photo', 'sizes': {'small': {'w': 544, 'h': 680, 'resize': 'fit'}, 'thumb': {'w': 150, 'h': 150, 'resize': 'crop'}, 'large': {'w': 1024, 'h': 1280, 'resize': 'fit'}, 'medium': {'w': 960, 'h': 1200, 'resize': 'fit'}}}]}, metadata={'iso_language_code': 'en', 'result_type': 'recent'}, source='Twitter for iPhone', source_url='http://twitter.com/download/iphone', in_reply_to_status_id=None, in_reply_to_status_id_str=None, in_reply_to_user_id=None, in_reply_to_user_id_str=None, in_reply_to_screen_name=None, author=User(_api=<tweepy.api.API object at 0x000001A9BD0206C8>, _json={'id': 75050496, 'id_str': '75050496', 'name': 'parthiv patel', 'screen_name': 'parthiv9', 'location': 'Ahmadabad City, India', 'description': 'cricketer', 'url': 'https://t.co/iP7a9AvcIs', 'entities': {'url': {'urls': [{'url': 'https://t.co/iP7a9AvcIs', 'expanded_url': 'http://www.facebook.com/pages/Parthiv-Patel-Official/158984814176991', 'display_url': 'facebook.com/pages/Parthiv-…', 'indices': [0, 23]}]}, 'description': {'urls': []}}, 'protected': False, 'followers_count': 1790461, 'friends_count': 173, 'listed_count': 1163, 'created_at': 'Thu Sep 17 16:24:30 +0000 2009', 'favourites_count': 336, 'utc_offset': None, 'time_zone': None, 'geo_enabled': False, 'verified': True, 'statuses_count': 2341, 'lang': None, 'contributors_enabled': False, 'is_translator': False, 'is_translation_enabled': False, 'profile_background_color': 'C0DEED', 'profile_background_image_url': 'http://abs.twimg.com/images/themes/theme1/bg.png', 'profile_background_image_url_https': 'https://abs.twimg.com/images/themes/theme1/bg.png', 'profile_background_tile': True, 'profile_image_url': 'http://pbs.twimg.com/profile_images/1308315502532534274/ntxP_bny_normal.jpg', 'profile_image_url_https': 'https://pbs.twimg.com/profile_images/1308315502532534274/ntxP_bny_normal.jpg', 'profile_banner_url': 'https://pbs.twimg.com/profile_banners/75050496/1607090306', 'profile_link_color': '0084B4', 'profile_sidebar_border_color': 'C0DEED', 'profile_sidebar_fill_color': 'DDEEF6', 'profile_text_color': '333333', 'profile_use_background_image': True, 'has_extended_profile': True, 'default_profile': False, 'default_profile_image': False, 'following': False, 'follow_request_sent': False, 'notifications': False, 'translator_type': 'none'}, id=75050496, id_str='75050496', name='parthiv patel', screen_name='parthiv9', location='Ahmadabad City, India', description='cricketer', url='https://t.co/iP7a9AvcIs', entities={'url': {'urls': [{'url': 'https://t.co/iP7a9AvcIs', 'expanded_url': 'http://www.facebook.com/pages/Parthiv-Patel-Official/158984814176991', 'display_url': 'facebook.com/pages/Parthiv-…', 'indices': [0, 23]}]}, 'description': {'urls': []}}, protected=False, followers_count=1790461, friends_count=173, listed_count=1163, created_at=datetime.datetime(2009, 9, 17, 16, 24, 30), favourites_count=336, utc_offset=None, time_zone=None, geo_enabled=False, verified=True, statuses_count=2341, lang=None, contributors_enabled=False, is_translator=False, is_translation_enabled=False, profile_background_color='C0DEED', profile_background_image_url='http://abs.twimg.com/images/themes/theme1/bg.png', profile_background_image_url_https='https://abs.twimg.com/images/themes/theme1/bg.png', profile_background_tile=True, profile_image_url='http://pbs.twimg.com/profile_images/1308315502532534274/ntxP_bny_normal.jpg', profile_image_url_https='https://pbs.twimg.com/profile_images/1308315502532534274/ntxP_bny_normal.jpg', profile_banner_url='https://pbs.twimg.com/profile_banners/75050496/1607090306', profile_link_color='0084B4', profile_sidebar_border_color='C0DEED', profile_sidebar_fill_color='DDEEF6', profile_text_color='333333', profile_use_background_image=True, has_extended_profile=True, default_profile=False, default_profile_image=False, following=False, follow_request_sent=False, notifications=False, translator_type='none'), user=User(_api=<tweepy.api.API object at 0x000001A9BD0206C8>, _json={'id': 75050496, 'id_str': '75050496', 'name': 'parthiv patel', 'screen_name': 'parthiv9', 'location': 'Ahmadabad City, India', 'description': 'cricketer', 'url': 'https://t.co/iP7a9AvcIs', 'entities': {'url': {'urls': [{'url': 'https://t.co/iP7a9AvcIs', 'expanded_url': 'http://www.facebook.com/pages/Parthiv-Patel-Official/158984814176991', 'display_url': 'facebook.com/pages/Parthiv-…', 'indices': [0, 23]}]}, 'description': {'urls': []}}, 'protected': False, 'followers_count': 1790461, 'friends_count': 173, 'listed_count': 1163, 'created_at': 'Thu Sep 17 16:24:30 +0000 2009', 'favourites_count': 336, 'utc_offset': None, 'time_zone': None, 'geo_enabled': False, 'verified': True, 'statuses_count': 2341, 'lang': None, 'contributors_enabled': False, 'is_translator': False, 'is_translation_enabled': False, 'profile_background_color': 'C0DEED', 'profile_background_image_url': 'http://abs.twimg.com/images/themes/theme1/bg.png', 'profile_background_image_url_https': 'https://abs.twimg.com/images/themes/theme1/bg.png', 'profile_background_tile': True, 'profile_image_url': 'http://pbs.twimg.com/profile_images/1308315502532534274/ntxP_bny_normal.jpg', 'profile_image_url_https': 'https://pbs.twimg.com/profile_images/1308315502532534274/ntxP_bny_normal.jpg', 'profile_banner_url': 'https://pbs.twimg.com/profile_banners/75050496/1607090306', 'profile_link_color': '0084B4', 'profile_sidebar_border_color': 'C0DEED', 'profile_sidebar_fill_color': 'DDEEF6', 'profile_text_color': '333333', 'profile_use_background_image': True, 'has_extended_profile': True, 'default_profile': False, 'default_profile_image': False, 'following': False, 'follow_request_sent': False, 'notifications': False, 'translator_type': 'none'}, id=75050496, id_str='75050496', name='parthiv patel', screen_name='parthiv9', location='Ahmadabad City, India', description='cricketer', url='https://t.co/iP7a9AvcIs', entities={'url': {'urls': [{'url': 'https://t.co/iP7a9AvcIs', 'expanded_url': 'http://www.facebook.com/pages/Parthiv-Patel-Official/158984814176991', 'display_url': 'facebook.com/pages/Parthiv-…', 'indices': [0, 23]}]}, 'description': {'urls': []}}, protected=False, followers_count=1790461, friends_count=173, listed_count=1163, created_at=datetime.datetime(2009, 9, 17, 16, 24, 30), favourites_count=336, utc_offset=None, time_zone=None, geo_enabled=False, verified=True, statuses_count=2341, lang=None, contributors_enabled=False, is_translator=False, is_translation_enabled=False, profile_background_color='C0DEED', profile_background_image_url='http://abs.twimg.com/images/themes/theme1/bg.png', profile_background_image_url_https='https://abs.twimg.com/images/themes/theme1/bg.png', profile_background_tile=True, profile_image_url='http://pbs.twimg.com/profile_images/1308315502532534274/ntxP_bny_normal.jpg', profile_image_url_https='https://pbs.twimg.com/profile_images/1308315502532534274/ntxP_bny_normal.jpg', profile_banner_url='https://pbs.twimg.com/profile_banners/75050496/1607090306', profile_link_color='0084B4', profile_sidebar_border_color='C0DEED', profile_sidebar_fill_color='DDEEF6', profile_text_color='333333', profile_use_background_image=True, has_extended_profile=True, default_profile=False, default_profile_image=False, following=False, follow_request_sent=False, notifications=False, translator_type='none'), geo=None, coordinates=None, place=None, contributors=None, is_quote_status=False, retweet_count=5463, favorite_count=88972, favorited=False, retweeted=False, possibly_sensitive=False, lang='und'), retweet_count=0, favorite_count=1, favorited=False, retweeted=False, possibly_sensitive=True, lang='en') \n",
      "\n",
      ".....................................\n",
      "\n",
      "Status(_api=<tweepy.api.API object at 0x000001A9BD0206C8>, _json={'created_at': 'Wed Dec 09 07:36:37 +0000 2020', 'id': 1336575462546366465, 'id_str': '1336575462546366465', 'full_text': 'Parthiv Patel is a very seasoned IPL player. Over the years has played for 6 IPL teams, winning 3 trophies- MI(2) and CSK(1). He has also led Kochi Tuskers Kerala in 2011.\\nIn 2019 he was the highest run scorer for RCB only behind Virat Kohli &amp; AB de Villiers (^o^)\\n\\n#ParthivPatel', 'truncated': False, 'display_text_range': [0, 283], 'entities': {'hashtags': [{'text': 'ParthivPatel', 'indices': [270, 283]}], 'symbols': [], 'user_mentions': [], 'urls': []}, 'metadata': {'iso_language_code': 'en', 'result_type': 'recent'}, 'source': '<a href=\"https://mobile.twitter.com\" rel=\"nofollow\">Twitter Web App</a>', 'in_reply_to_status_id': 1336572835842514950, 'in_reply_to_status_id_str': '1336572835842514950', 'in_reply_to_user_id': 506010814, 'in_reply_to_user_id_str': '506010814', 'in_reply_to_screen_name': 'sangitahermione', 'user': {'id': 506010814, 'id_str': '506010814', 'name': 's a n g i t a. 💚', 'screen_name': 'sangitahermione', 'location': 'ବାଟ ରେ ଚାଲୁ ଚାଲୁ || 印度', 'description': 'Mostly fiction. Sometimes cricket.\\n\\n📺📽📒📚👩🏻\\u200d💻🏏🏸🏑⛸☘️\\n\\n// tweets in multiple languages\\nfangirling account 👉 @sunshinechimes', 'url': None, 'entities': {'description': {'urls': []}}, 'protected': False, 'followers_count': 573, 'friends_count': 74, 'listed_count': 5, 'created_at': 'Mon Feb 27 15:44:03 +0000 2012', 'favourites_count': 83591, 'utc_offset': None, 'time_zone': None, 'geo_enabled': False, 'verified': False, 'statuses_count': 23710, 'lang': None, 'contributors_enabled': False, 'is_translator': False, 'is_translation_enabled': False, 'profile_background_color': '000000', 'profile_background_image_url': 'http://abs.twimg.com/images/themes/theme1/bg.png', 'profile_background_image_url_https': 'https://abs.twimg.com/images/themes/theme1/bg.png', 'profile_background_tile': False, 'profile_image_url': 'http://pbs.twimg.com/profile_images/1330858196668280832/g_vMtckC_normal.jpg', 'profile_image_url_https': 'https://pbs.twimg.com/profile_images/1330858196668280832/g_vMtckC_normal.jpg', 'profile_banner_url': 'https://pbs.twimg.com/profile_banners/506010814/1607091957', 'profile_link_color': 'E81C4F', 'profile_sidebar_border_color': '000000', 'profile_sidebar_fill_color': '000000', 'profile_text_color': '000000', 'profile_use_background_image': False, 'has_extended_profile': False, 'default_profile': False, 'default_profile_image': False, 'following': False, 'follow_request_sent': False, 'notifications': False, 'translator_type': 'none'}, 'geo': None, 'coordinates': None, 'place': None, 'contributors': None, 'is_quote_status': False, 'retweet_count': 2, 'favorite_count': 2, 'favorited': False, 'retweeted': False, 'lang': 'en'}, created_at=datetime.datetime(2020, 12, 9, 7, 36, 37), id=1336575462546366465, id_str='1336575462546366465', full_text='Parthiv Patel is a very seasoned IPL player. Over the years has played for 6 IPL teams, winning 3 trophies- MI(2) and CSK(1). He has also led Kochi Tuskers Kerala in 2011.\\nIn 2019 he was the highest run scorer for RCB only behind Virat Kohli &amp; AB de Villiers (^o^)\\n\\n#ParthivPatel', truncated=False, display_text_range=[0, 283], entities={'hashtags': [{'text': 'ParthivPatel', 'indices': [270, 283]}], 'symbols': [], 'user_mentions': [], 'urls': []}, metadata={'iso_language_code': 'en', 'result_type': 'recent'}, source='Twitter Web App', source_url='https://mobile.twitter.com', in_reply_to_status_id=1336572835842514950, in_reply_to_status_id_str='1336572835842514950', in_reply_to_user_id=506010814, in_reply_to_user_id_str='506010814', in_reply_to_screen_name='sangitahermione', author=User(_api=<tweepy.api.API object at 0x000001A9BD0206C8>, _json={'id': 506010814, 'id_str': '506010814', 'name': 's a n g i t a. 💚', 'screen_name': 'sangitahermione', 'location': 'ବାଟ ରେ ଚାଲୁ ଚାଲୁ || 印度', 'description': 'Mostly fiction. Sometimes cricket.\\n\\n📺📽📒📚👩🏻\\u200d💻🏏🏸🏑⛸☘️\\n\\n// tweets in multiple languages\\nfangirling account 👉 @sunshinechimes', 'url': None, 'entities': {'description': {'urls': []}}, 'protected': False, 'followers_count': 573, 'friends_count': 74, 'listed_count': 5, 'created_at': 'Mon Feb 27 15:44:03 +0000 2012', 'favourites_count': 83591, 'utc_offset': None, 'time_zone': None, 'geo_enabled': False, 'verified': False, 'statuses_count': 23710, 'lang': None, 'contributors_enabled': False, 'is_translator': False, 'is_translation_enabled': False, 'profile_background_color': '000000', 'profile_background_image_url': 'http://abs.twimg.com/images/themes/theme1/bg.png', 'profile_background_image_url_https': 'https://abs.twimg.com/images/themes/theme1/bg.png', 'profile_background_tile': False, 'profile_image_url': 'http://pbs.twimg.com/profile_images/1330858196668280832/g_vMtckC_normal.jpg', 'profile_image_url_https': 'https://pbs.twimg.com/profile_images/1330858196668280832/g_vMtckC_normal.jpg', 'profile_banner_url': 'https://pbs.twimg.com/profile_banners/506010814/1607091957', 'profile_link_color': 'E81C4F', 'profile_sidebar_border_color': '000000', 'profile_sidebar_fill_color': '000000', 'profile_text_color': '000000', 'profile_use_background_image': False, 'has_extended_profile': False, 'default_profile': False, 'default_profile_image': False, 'following': False, 'follow_request_sent': False, 'notifications': False, 'translator_type': 'none'}, id=506010814, id_str='506010814', name='s a n g i t a. 💚', screen_name='sangitahermione', location='ବାଟ ରେ ଚାଲୁ ଚାଲୁ || 印度', description='Mostly fiction. Sometimes cricket.\\n\\n📺📽📒📚👩🏻\\u200d💻🏏🏸🏑⛸☘️\\n\\n// tweets in multiple languages\\nfangirling account 👉 @sunshinechimes', url=None, entities={'description': {'urls': []}}, protected=False, followers_count=573, friends_count=74, listed_count=5, created_at=datetime.datetime(2012, 2, 27, 15, 44, 3), favourites_count=83591, utc_offset=None, time_zone=None, geo_enabled=False, verified=False, statuses_count=23710, lang=None, contributors_enabled=False, is_translator=False, is_translation_enabled=False, profile_background_color='000000', profile_background_image_url='http://abs.twimg.com/images/themes/theme1/bg.png', profile_background_image_url_https='https://abs.twimg.com/images/themes/theme1/bg.png', profile_background_tile=False, profile_image_url='http://pbs.twimg.com/profile_images/1330858196668280832/g_vMtckC_normal.jpg', profile_image_url_https='https://pbs.twimg.com/profile_images/1330858196668280832/g_vMtckC_normal.jpg', profile_banner_url='https://pbs.twimg.com/profile_banners/506010814/1607091957', profile_link_color='E81C4F', profile_sidebar_border_color='000000', profile_sidebar_fill_color='000000', profile_text_color='000000', profile_use_background_image=False, has_extended_profile=False, default_profile=False, default_profile_image=False, following=False, follow_request_sent=False, notifications=False, translator_type='none'), user=User(_api=<tweepy.api.API object at 0x000001A9BD0206C8>, _json={'id': 506010814, 'id_str': '506010814', 'name': 's a n g i t a. 💚', 'screen_name': 'sangitahermione', 'location': 'ବାଟ ରେ ଚାଲୁ ଚାଲୁ || 印度', 'description': 'Mostly fiction. Sometimes cricket.\\n\\n📺📽📒📚👩🏻\\u200d💻🏏🏸🏑⛸☘️\\n\\n// tweets in multiple languages\\nfangirling account 👉 @sunshinechimes', 'url': None, 'entities': {'description': {'urls': []}}, 'protected': False, 'followers_count': 573, 'friends_count': 74, 'listed_count': 5, 'created_at': 'Mon Feb 27 15:44:03 +0000 2012', 'favourites_count': 83591, 'utc_offset': None, 'time_zone': None, 'geo_enabled': False, 'verified': False, 'statuses_count': 23710, 'lang': None, 'contributors_enabled': False, 'is_translator': False, 'is_translation_enabled': False, 'profile_background_color': '000000', 'profile_background_image_url': 'http://abs.twimg.com/images/themes/theme1/bg.png', 'profile_background_image_url_https': 'https://abs.twimg.com/images/themes/theme1/bg.png', 'profile_background_tile': False, 'profile_image_url': 'http://pbs.twimg.com/profile_images/1330858196668280832/g_vMtckC_normal.jpg', 'profile_image_url_https': 'https://pbs.twimg.com/profile_images/1330858196668280832/g_vMtckC_normal.jpg', 'profile_banner_url': 'https://pbs.twimg.com/profile_banners/506010814/1607091957', 'profile_link_color': 'E81C4F', 'profile_sidebar_border_color': '000000', 'profile_sidebar_fill_color': '000000', 'profile_text_color': '000000', 'profile_use_background_image': False, 'has_extended_profile': False, 'default_profile': False, 'default_profile_image': False, 'following': False, 'follow_request_sent': False, 'notifications': False, 'translator_type': 'none'}, id=506010814, id_str='506010814', name='s a n g i t a. 💚', screen_name='sangitahermione', location='ବାଟ ରେ ଚାଲୁ ଚାଲୁ || 印度', description='Mostly fiction. Sometimes cricket.\\n\\n📺📽📒📚👩🏻\\u200d💻🏏🏸🏑⛸☘️\\n\\n// tweets in multiple languages\\nfangirling account 👉 @sunshinechimes', url=None, entities={'description': {'urls': []}}, protected=False, followers_count=573, friends_count=74, listed_count=5, created_at=datetime.datetime(2012, 2, 27, 15, 44, 3), favourites_count=83591, utc_offset=None, time_zone=None, geo_enabled=False, verified=False, statuses_count=23710, lang=None, contributors_enabled=False, is_translator=False, is_translation_enabled=False, profile_background_color='000000', profile_background_image_url='http://abs.twimg.com/images/themes/theme1/bg.png', profile_background_image_url_https='https://abs.twimg.com/images/themes/theme1/bg.png', profile_background_tile=False, profile_image_url='http://pbs.twimg.com/profile_images/1330858196668280832/g_vMtckC_normal.jpg', profile_image_url_https='https://pbs.twimg.com/profile_images/1330858196668280832/g_vMtckC_normal.jpg', profile_banner_url='https://pbs.twimg.com/profile_banners/506010814/1607091957', profile_link_color='E81C4F', profile_sidebar_border_color='000000', profile_sidebar_fill_color='000000', profile_text_color='000000', profile_use_background_image=False, has_extended_profile=False, default_profile=False, default_profile_image=False, following=False, follow_request_sent=False, notifications=False, translator_type='none'), geo=None, coordinates=None, place=None, contributors=None, is_quote_status=False, retweet_count=2, favorite_count=2, favorited=False, retweeted=False, lang='en') \n",
      "\n",
      ".....................................\n",
      "\n",
      "Status(_api=<tweepy.api.API object at 0x000001A9BD0206C8>, _json={'created_at': 'Tue Dec 08 16:08:47 +0000 2020', 'id': 1336341966737436677, 'id_str': '1336341966737436677', 'full_text': '@DrNupurrk All that and rcb not winning the ipl finals', 'truncated': False, 'display_text_range': [11, 54], 'entities': {'hashtags': [], 'symbols': [], 'user_mentions': [{'screen_name': 'DrNupurrk', 'name': 'Dr.Nupur ❤️💅', 'id': 2240370774, 'id_str': '2240370774', 'indices': [0, 10]}], 'urls': []}, 'metadata': {'iso_language_code': 'en', 'result_type': 'recent'}, 'source': '<a href=\"http://twitter.com/download/android\" rel=\"nofollow\">Twitter for Android</a>', 'in_reply_to_status_id': 1336341597429006338, 'in_reply_to_status_id_str': '1336341597429006338', 'in_reply_to_user_id': 2240370774, 'in_reply_to_user_id_str': '2240370774', 'in_reply_to_screen_name': 'DrNupurrk', 'user': {'id': 60081336, 'id_str': '60081336', 'name': 'Jyothi', 'screen_name': 'jyothi_cool', 'location': 'India', 'description': '', 'url': None, 'entities': {'description': {'urls': []}}, 'protected': False, 'followers_count': 491, 'friends_count': 373, 'listed_count': 1, 'created_at': 'Sat Jul 25 15:35:49 +0000 2009', 'favourites_count': 12148, 'utc_offset': None, 'time_zone': None, 'geo_enabled': True, 'verified': False, 'statuses_count': 15273, 'lang': None, 'contributors_enabled': False, 'is_translator': False, 'is_translation_enabled': False, 'profile_background_color': 'FFF04D', 'profile_background_image_url': 'http://abs.twimg.com/images/themes/theme19/bg.gif', 'profile_background_image_url_https': 'https://abs.twimg.com/images/themes/theme19/bg.gif', 'profile_background_tile': False, 'profile_image_url': 'http://pbs.twimg.com/profile_images/1337834002518982656/wlh_ftL6_normal.jpg', 'profile_image_url_https': 'https://pbs.twimg.com/profile_images/1337834002518982656/wlh_ftL6_normal.jpg', 'profile_banner_url': 'https://pbs.twimg.com/profile_banners/60081336/1607793706', 'profile_link_color': '0099CC', 'profile_sidebar_border_color': 'FFF8AD', 'profile_sidebar_fill_color': 'F6FFD1', 'profile_text_color': '333333', 'profile_use_background_image': True, 'has_extended_profile': True, 'default_profile': False, 'default_profile_image': False, 'following': False, 'follow_request_sent': False, 'notifications': False, 'translator_type': 'none'}, 'geo': None, 'coordinates': None, 'place': None, 'contributors': None, 'is_quote_status': False, 'retweet_count': 0, 'favorite_count': 0, 'favorited': False, 'retweeted': False, 'lang': 'en'}, created_at=datetime.datetime(2020, 12, 8, 16, 8, 47), id=1336341966737436677, id_str='1336341966737436677', full_text='@DrNupurrk All that and rcb not winning the ipl finals', truncated=False, display_text_range=[11, 54], entities={'hashtags': [], 'symbols': [], 'user_mentions': [{'screen_name': 'DrNupurrk', 'name': 'Dr.Nupur ❤️💅', 'id': 2240370774, 'id_str': '2240370774', 'indices': [0, 10]}], 'urls': []}, metadata={'iso_language_code': 'en', 'result_type': 'recent'}, source='Twitter for Android', source_url='http://twitter.com/download/android', in_reply_to_status_id=1336341597429006338, in_reply_to_status_id_str='1336341597429006338', in_reply_to_user_id=2240370774, in_reply_to_user_id_str='2240370774', in_reply_to_screen_name='DrNupurrk', author=User(_api=<tweepy.api.API object at 0x000001A9BD0206C8>, _json={'id': 60081336, 'id_str': '60081336', 'name': 'Jyothi', 'screen_name': 'jyothi_cool', 'location': 'India', 'description': '', 'url': None, 'entities': {'description': {'urls': []}}, 'protected': False, 'followers_count': 491, 'friends_count': 373, 'listed_count': 1, 'created_at': 'Sat Jul 25 15:35:49 +0000 2009', 'favourites_count': 12148, 'utc_offset': None, 'time_zone': None, 'geo_enabled': True, 'verified': False, 'statuses_count': 15273, 'lang': None, 'contributors_enabled': False, 'is_translator': False, 'is_translation_enabled': False, 'profile_background_color': 'FFF04D', 'profile_background_image_url': 'http://abs.twimg.com/images/themes/theme19/bg.gif', 'profile_background_image_url_https': 'https://abs.twimg.com/images/themes/theme19/bg.gif', 'profile_background_tile': False, 'profile_image_url': 'http://pbs.twimg.com/profile_images/1337834002518982656/wlh_ftL6_normal.jpg', 'profile_image_url_https': 'https://pbs.twimg.com/profile_images/1337834002518982656/wlh_ftL6_normal.jpg', 'profile_banner_url': 'https://pbs.twimg.com/profile_banners/60081336/1607793706', 'profile_link_color': '0099CC', 'profile_sidebar_border_color': 'FFF8AD', 'profile_sidebar_fill_color': 'F6FFD1', 'profile_text_color': '333333', 'profile_use_background_image': True, 'has_extended_profile': True, 'default_profile': False, 'default_profile_image': False, 'following': False, 'follow_request_sent': False, 'notifications': False, 'translator_type': 'none'}, id=60081336, id_str='60081336', name='Jyothi', screen_name='jyothi_cool', location='India', description='', url=None, entities={'description': {'urls': []}}, protected=False, followers_count=491, friends_count=373, listed_count=1, created_at=datetime.datetime(2009, 7, 25, 15, 35, 49), favourites_count=12148, utc_offset=None, time_zone=None, geo_enabled=True, verified=False, statuses_count=15273, lang=None, contributors_enabled=False, is_translator=False, is_translation_enabled=False, profile_background_color='FFF04D', profile_background_image_url='http://abs.twimg.com/images/themes/theme19/bg.gif', profile_background_image_url_https='https://abs.twimg.com/images/themes/theme19/bg.gif', profile_background_tile=False, profile_image_url='http://pbs.twimg.com/profile_images/1337834002518982656/wlh_ftL6_normal.jpg', profile_image_url_https='https://pbs.twimg.com/profile_images/1337834002518982656/wlh_ftL6_normal.jpg', profile_banner_url='https://pbs.twimg.com/profile_banners/60081336/1607793706', profile_link_color='0099CC', profile_sidebar_border_color='FFF8AD', profile_sidebar_fill_color='F6FFD1', profile_text_color='333333', profile_use_background_image=True, has_extended_profile=True, default_profile=False, default_profile_image=False, following=False, follow_request_sent=False, notifications=False, translator_type='none'), user=User(_api=<tweepy.api.API object at 0x000001A9BD0206C8>, _json={'id': 60081336, 'id_str': '60081336', 'name': 'Jyothi', 'screen_name': 'jyothi_cool', 'location': 'India', 'description': '', 'url': None, 'entities': {'description': {'urls': []}}, 'protected': False, 'followers_count': 491, 'friends_count': 373, 'listed_count': 1, 'created_at': 'Sat Jul 25 15:35:49 +0000 2009', 'favourites_count': 12148, 'utc_offset': None, 'time_zone': None, 'geo_enabled': True, 'verified': False, 'statuses_count': 15273, 'lang': None, 'contributors_enabled': False, 'is_translator': False, 'is_translation_enabled': False, 'profile_background_color': 'FFF04D', 'profile_background_image_url': 'http://abs.twimg.com/images/themes/theme19/bg.gif', 'profile_background_image_url_https': 'https://abs.twimg.com/images/themes/theme19/bg.gif', 'profile_background_tile': False, 'profile_image_url': 'http://pbs.twimg.com/profile_images/1337834002518982656/wlh_ftL6_normal.jpg', 'profile_image_url_https': 'https://pbs.twimg.com/profile_images/1337834002518982656/wlh_ftL6_normal.jpg', 'profile_banner_url': 'https://pbs.twimg.com/profile_banners/60081336/1607793706', 'profile_link_color': '0099CC', 'profile_sidebar_border_color': 'FFF8AD', 'profile_sidebar_fill_color': 'F6FFD1', 'profile_text_color': '333333', 'profile_use_background_image': True, 'has_extended_profile': True, 'default_profile': False, 'default_profile_image': False, 'following': False, 'follow_request_sent': False, 'notifications': False, 'translator_type': 'none'}, id=60081336, id_str='60081336', name='Jyothi', screen_name='jyothi_cool', location='India', description='', url=None, entities={'description': {'urls': []}}, protected=False, followers_count=491, friends_count=373, listed_count=1, created_at=datetime.datetime(2009, 7, 25, 15, 35, 49), favourites_count=12148, utc_offset=None, time_zone=None, geo_enabled=True, verified=False, statuses_count=15273, lang=None, contributors_enabled=False, is_translator=False, is_translation_enabled=False, profile_background_color='FFF04D', profile_background_image_url='http://abs.twimg.com/images/themes/theme19/bg.gif', profile_background_image_url_https='https://abs.twimg.com/images/themes/theme19/bg.gif', profile_background_tile=False, profile_image_url='http://pbs.twimg.com/profile_images/1337834002518982656/wlh_ftL6_normal.jpg', profile_image_url_https='https://pbs.twimg.com/profile_images/1337834002518982656/wlh_ftL6_normal.jpg', profile_banner_url='https://pbs.twimg.com/profile_banners/60081336/1607793706', profile_link_color='0099CC', profile_sidebar_border_color='FFF8AD', profile_sidebar_fill_color='F6FFD1', profile_text_color='333333', profile_use_background_image=True, has_extended_profile=True, default_profile=False, default_profile_image=False, following=False, follow_request_sent=False, notifications=False, translator_type='none'), geo=None, coordinates=None, place=None, contributors=None, is_quote_status=False, retweet_count=0, favorite_count=0, favorited=False, retweeted=False, lang='en') \n",
      "\n",
      ".....................................\n",
      "\n",
      "Status(_api=<tweepy.api.API object at 0x000001A9BD0206C8>, _json={'created_at': 'Tue Dec 08 10:45:48 +0000 2020', 'id': 1336260686746251264, 'id_str': '1336260686746251264', 'full_text': \"@satyam00987444 @imhprusti @Padmana77819026 @cricketaakash Leave IPL, let's talk about internal cricket because a captain is as good as a team and even the Kohli haters know how good RCB bowlers are!\\nIn int cricket, Kohli has the highest winning percentage in all the formats as a permanent captain, and has played just 2 cups.\", 'truncated': False, 'display_text_range': [59, 327], 'entities': {'hashtags': [], 'symbols': [], 'user_mentions': [{'screen_name': 'satyam00987444', 'name': 'satyam', 'id': 726427802657001472, 'id_str': '726427802657001472', 'indices': [0, 15]}, {'screen_name': 'imhprusti', 'name': 'Hrushikesh', 'id': 803915315721617408, 'id_str': '803915315721617408', 'indices': [16, 26]}, {'screen_name': 'Padmana77819026', 'name': 'Laughter express', 'id': 1122664621599387649, 'id_str': '1122664621599387649', 'indices': [27, 43]}, {'screen_name': 'cricketaakash', 'name': 'Aakash Chopra', 'id': 70663487, 'id_str': '70663487', 'indices': [44, 58]}], 'urls': []}, 'metadata': {'iso_language_code': 'en', 'result_type': 'recent'}, 'source': '<a href=\"https://mobile.twitter.com\" rel=\"nofollow\">Twitter Web App</a>', 'in_reply_to_status_id': 1336260043818201088, 'in_reply_to_status_id_str': '1336260043818201088', 'in_reply_to_user_id': 726427802657001472, 'in_reply_to_user_id_str': '726427802657001472', 'in_reply_to_screen_name': 'satyam00987444', 'user': {'id': 1244234176426983424, 'id_str': '1244234176426983424', 'name': '```~_Saksham_~```', 'screen_name': 'Its_SakshamR', 'location': 'India', 'description': 'Indian 🇮🇳| Student and Learner 👨\\u200d🎓| Tech enthusiast 📱| Cricket Lover 🏏| PotterHead 🧙| RCBian 🏆| SuperHero Fan 🦸| Iron Man 🤖 |', 'url': 'https://t.co/DAbMbkstGs', 'entities': {'url': {'urls': [{'url': 'https://t.co/DAbMbkstGs', 'expanded_url': 'https://twitter.com/Saksham9504', 'display_url': 'twitter.com/Saksham9504', 'indices': [0, 23]}]}, 'description': {'urls': []}}, 'protected': False, 'followers_count': 51, 'friends_count': 88, 'listed_count': 0, 'created_at': 'Sun Mar 29 12:05:47 +0000 2020', 'favourites_count': 5614, 'utc_offset': None, 'time_zone': None, 'geo_enabled': False, 'verified': False, 'statuses_count': 9252, 'lang': None, 'contributors_enabled': False, 'is_translator': False, 'is_translation_enabled': False, 'profile_background_color': 'F5F8FA', 'profile_background_image_url': None, 'profile_background_image_url_https': None, 'profile_background_tile': False, 'profile_image_url': 'http://pbs.twimg.com/profile_images/1327094203021627392/OpTfJ_FU_normal.jpg', 'profile_image_url_https': 'https://pbs.twimg.com/profile_images/1327094203021627392/OpTfJ_FU_normal.jpg', 'profile_banner_url': 'https://pbs.twimg.com/profile_banners/1244234176426983424/1607603067', 'profile_link_color': '1DA1F2', 'profile_sidebar_border_color': 'C0DEED', 'profile_sidebar_fill_color': 'DDEEF6', 'profile_text_color': '333333', 'profile_use_background_image': True, 'has_extended_profile': True, 'default_profile': True, 'default_profile_image': False, 'following': False, 'follow_request_sent': False, 'notifications': False, 'translator_type': 'none'}, 'geo': None, 'coordinates': None, 'place': None, 'contributors': None, 'is_quote_status': False, 'retweet_count': 0, 'favorite_count': 0, 'favorited': False, 'retweeted': False, 'lang': 'en'}, created_at=datetime.datetime(2020, 12, 8, 10, 45, 48), id=1336260686746251264, id_str='1336260686746251264', full_text=\"@satyam00987444 @imhprusti @Padmana77819026 @cricketaakash Leave IPL, let's talk about internal cricket because a captain is as good as a team and even the Kohli haters know how good RCB bowlers are!\\nIn int cricket, Kohli has the highest winning percentage in all the formats as a permanent captain, and has played just 2 cups.\", truncated=False, display_text_range=[59, 327], entities={'hashtags': [], 'symbols': [], 'user_mentions': [{'screen_name': 'satyam00987444', 'name': 'satyam', 'id': 726427802657001472, 'id_str': '726427802657001472', 'indices': [0, 15]}, {'screen_name': 'imhprusti', 'name': 'Hrushikesh', 'id': 803915315721617408, 'id_str': '803915315721617408', 'indices': [16, 26]}, {'screen_name': 'Padmana77819026', 'name': 'Laughter express', 'id': 1122664621599387649, 'id_str': '1122664621599387649', 'indices': [27, 43]}, {'screen_name': 'cricketaakash', 'name': 'Aakash Chopra', 'id': 70663487, 'id_str': '70663487', 'indices': [44, 58]}], 'urls': []}, metadata={'iso_language_code': 'en', 'result_type': 'recent'}, source='Twitter Web App', source_url='https://mobile.twitter.com', in_reply_to_status_id=1336260043818201088, in_reply_to_status_id_str='1336260043818201088', in_reply_to_user_id=726427802657001472, in_reply_to_user_id_str='726427802657001472', in_reply_to_screen_name='satyam00987444', author=User(_api=<tweepy.api.API object at 0x000001A9BD0206C8>, _json={'id': 1244234176426983424, 'id_str': '1244234176426983424', 'name': '```~_Saksham_~```', 'screen_name': 'Its_SakshamR', 'location': 'India', 'description': 'Indian 🇮🇳| Student and Learner 👨\\u200d🎓| Tech enthusiast 📱| Cricket Lover 🏏| PotterHead 🧙| RCBian 🏆| SuperHero Fan 🦸| Iron Man 🤖 |', 'url': 'https://t.co/DAbMbkstGs', 'entities': {'url': {'urls': [{'url': 'https://t.co/DAbMbkstGs', 'expanded_url': 'https://twitter.com/Saksham9504', 'display_url': 'twitter.com/Saksham9504', 'indices': [0, 23]}]}, 'description': {'urls': []}}, 'protected': False, 'followers_count': 51, 'friends_count': 88, 'listed_count': 0, 'created_at': 'Sun Mar 29 12:05:47 +0000 2020', 'favourites_count': 5614, 'utc_offset': None, 'time_zone': None, 'geo_enabled': False, 'verified': False, 'statuses_count': 9252, 'lang': None, 'contributors_enabled': False, 'is_translator': False, 'is_translation_enabled': False, 'profile_background_color': 'F5F8FA', 'profile_background_image_url': None, 'profile_background_image_url_https': None, 'profile_background_tile': False, 'profile_image_url': 'http://pbs.twimg.com/profile_images/1327094203021627392/OpTfJ_FU_normal.jpg', 'profile_image_url_https': 'https://pbs.twimg.com/profile_images/1327094203021627392/OpTfJ_FU_normal.jpg', 'profile_banner_url': 'https://pbs.twimg.com/profile_banners/1244234176426983424/1607603067', 'profile_link_color': '1DA1F2', 'profile_sidebar_border_color': 'C0DEED', 'profile_sidebar_fill_color': 'DDEEF6', 'profile_text_color': '333333', 'profile_use_background_image': True, 'has_extended_profile': True, 'default_profile': True, 'default_profile_image': False, 'following': False, 'follow_request_sent': False, 'notifications': False, 'translator_type': 'none'}, id=1244234176426983424, id_str='1244234176426983424', name='```~_Saksham_~```', screen_name='Its_SakshamR', location='India', description='Indian 🇮🇳| Student and Learner 👨\\u200d🎓| Tech enthusiast 📱| Cricket Lover 🏏| PotterHead 🧙| RCBian 🏆| SuperHero Fan 🦸| Iron Man 🤖 |', url='https://t.co/DAbMbkstGs', entities={'url': {'urls': [{'url': 'https://t.co/DAbMbkstGs', 'expanded_url': 'https://twitter.com/Saksham9504', 'display_url': 'twitter.com/Saksham9504', 'indices': [0, 23]}]}, 'description': {'urls': []}}, protected=False, followers_count=51, friends_count=88, listed_count=0, created_at=datetime.datetime(2020, 3, 29, 12, 5, 47), favourites_count=5614, utc_offset=None, time_zone=None, geo_enabled=False, verified=False, statuses_count=9252, lang=None, contributors_enabled=False, is_translator=False, is_translation_enabled=False, profile_background_color='F5F8FA', profile_background_image_url=None, profile_background_image_url_https=None, profile_background_tile=False, profile_image_url='http://pbs.twimg.com/profile_images/1327094203021627392/OpTfJ_FU_normal.jpg', profile_image_url_https='https://pbs.twimg.com/profile_images/1327094203021627392/OpTfJ_FU_normal.jpg', profile_banner_url='https://pbs.twimg.com/profile_banners/1244234176426983424/1607603067', profile_link_color='1DA1F2', profile_sidebar_border_color='C0DEED', profile_sidebar_fill_color='DDEEF6', profile_text_color='333333', profile_use_background_image=True, has_extended_profile=True, default_profile=True, default_profile_image=False, following=False, follow_request_sent=False, notifications=False, translator_type='none'), user=User(_api=<tweepy.api.API object at 0x000001A9BD0206C8>, _json={'id': 1244234176426983424, 'id_str': '1244234176426983424', 'name': '```~_Saksham_~```', 'screen_name': 'Its_SakshamR', 'location': 'India', 'description': 'Indian 🇮🇳| Student and Learner 👨\\u200d🎓| Tech enthusiast 📱| Cricket Lover 🏏| PotterHead 🧙| RCBian 🏆| SuperHero Fan 🦸| Iron Man 🤖 |', 'url': 'https://t.co/DAbMbkstGs', 'entities': {'url': {'urls': [{'url': 'https://t.co/DAbMbkstGs', 'expanded_url': 'https://twitter.com/Saksham9504', 'display_url': 'twitter.com/Saksham9504', 'indices': [0, 23]}]}, 'description': {'urls': []}}, 'protected': False, 'followers_count': 51, 'friends_count': 88, 'listed_count': 0, 'created_at': 'Sun Mar 29 12:05:47 +0000 2020', 'favourites_count': 5614, 'utc_offset': None, 'time_zone': None, 'geo_enabled': False, 'verified': False, 'statuses_count': 9252, 'lang': None, 'contributors_enabled': False, 'is_translator': False, 'is_translation_enabled': False, 'profile_background_color': 'F5F8FA', 'profile_background_image_url': None, 'profile_background_image_url_https': None, 'profile_background_tile': False, 'profile_image_url': 'http://pbs.twimg.com/profile_images/1327094203021627392/OpTfJ_FU_normal.jpg', 'profile_image_url_https': 'https://pbs.twimg.com/profile_images/1327094203021627392/OpTfJ_FU_normal.jpg', 'profile_banner_url': 'https://pbs.twimg.com/profile_banners/1244234176426983424/1607603067', 'profile_link_color': '1DA1F2', 'profile_sidebar_border_color': 'C0DEED', 'profile_sidebar_fill_color': 'DDEEF6', 'profile_text_color': '333333', 'profile_use_background_image': True, 'has_extended_profile': True, 'default_profile': True, 'default_profile_image': False, 'following': False, 'follow_request_sent': False, 'notifications': False, 'translator_type': 'none'}, id=1244234176426983424, id_str='1244234176426983424', name='```~_Saksham_~```', screen_name='Its_SakshamR', location='India', description='Indian 🇮🇳| Student and Learner 👨\\u200d🎓| Tech enthusiast 📱| Cricket Lover 🏏| PotterHead 🧙| RCBian 🏆| SuperHero Fan 🦸| Iron Man 🤖 |', url='https://t.co/DAbMbkstGs', entities={'url': {'urls': [{'url': 'https://t.co/DAbMbkstGs', 'expanded_url': 'https://twitter.com/Saksham9504', 'display_url': 'twitter.com/Saksham9504', 'indices': [0, 23]}]}, 'description': {'urls': []}}, protected=False, followers_count=51, friends_count=88, listed_count=0, created_at=datetime.datetime(2020, 3, 29, 12, 5, 47), favourites_count=5614, utc_offset=None, time_zone=None, geo_enabled=False, verified=False, statuses_count=9252, lang=None, contributors_enabled=False, is_translator=False, is_translation_enabled=False, profile_background_color='F5F8FA', profile_background_image_url=None, profile_background_image_url_https=None, profile_background_tile=False, profile_image_url='http://pbs.twimg.com/profile_images/1327094203021627392/OpTfJ_FU_normal.jpg', profile_image_url_https='https://pbs.twimg.com/profile_images/1327094203021627392/OpTfJ_FU_normal.jpg', profile_banner_url='https://pbs.twimg.com/profile_banners/1244234176426983424/1607603067', profile_link_color='1DA1F2', profile_sidebar_border_color='C0DEED', profile_sidebar_fill_color='DDEEF6', profile_text_color='333333', profile_use_background_image=True, has_extended_profile=True, default_profile=True, default_profile_image=False, following=False, follow_request_sent=False, notifications=False, translator_type='none'), geo=None, coordinates=None, place=None, contributors=None, is_quote_status=False, retweet_count=0, favorite_count=0, favorited=False, retweeted=False, lang='en') \n",
      "\n",
      ".....................................\n",
      "\n",
      "Status(_api=<tweepy.api.API object at 0x000001A9BD0206C8>, _json={'created_at': 'Tue Dec 08 09:39:19 +0000 2020', 'id': 1336243956019957760, 'id_str': '1336243956019957760', 'full_text': '@RasikaP7 remember when u had got angry on my tweet regarding RCB winning IPL', 'truncated': False, 'display_text_range': [10, 77], 'entities': {'hashtags': [], 'symbols': [], 'user_mentions': [{'screen_name': 'RasikaP7', 'name': 'Rasika🌼🌿', 'id': 1315638929035415552, 'id_str': '1315638929035415552', 'indices': [0, 9]}], 'urls': []}, 'metadata': {'iso_language_code': 'en', 'result_type': 'recent'}, 'source': '<a href=\"https://mobile.twitter.com\" rel=\"nofollow\">Twitter Web App</a>', 'in_reply_to_status_id': 1336242816976969734, 'in_reply_to_status_id_str': '1336242816976969734', 'in_reply_to_user_id': 1315638929035415552, 'in_reply_to_user_id_str': '1315638929035415552', 'in_reply_to_screen_name': 'RasikaP7', 'user': {'id': 1251062223608279042, 'id_str': '1251062223608279042', 'name': 'Mr. Critic 🎭', 'screen_name': 'ChiragAmritkar', 'location': 'Nohara Mansion', 'description': 'CA Finalist | Rohit Sharma | 🐐 Messi | Mumbai Indians | FCB | Avengers', 'url': 'https://t.co/Ddm7X7k2rt', 'entities': {'url': {'urls': [{'url': 'https://t.co/Ddm7X7k2rt', 'expanded_url': 'http://www.shittyaccount.in', 'display_url': 'shittyaccount.in', 'indices': [0, 23]}]}, 'description': {'urls': []}}, 'protected': False, 'followers_count': 1122, 'friends_count': 699, 'listed_count': 1, 'created_at': 'Fri Apr 17 08:17:43 +0000 2020', 'favourites_count': 8240, 'utc_offset': None, 'time_zone': None, 'geo_enabled': True, 'verified': False, 'statuses_count': 12901, 'lang': None, 'contributors_enabled': False, 'is_translator': False, 'is_translation_enabled': False, 'profile_background_color': 'F5F8FA', 'profile_background_image_url': None, 'profile_background_image_url_https': None, 'profile_background_tile': False, 'profile_image_url': 'http://pbs.twimg.com/profile_images/1331808247435522049/EEWw6bNP_normal.jpg', 'profile_image_url_https': 'https://pbs.twimg.com/profile_images/1331808247435522049/EEWw6bNP_normal.jpg', 'profile_banner_url': 'https://pbs.twimg.com/profile_banners/1251062223608279042/1605378781', 'profile_link_color': '1DA1F2', 'profile_sidebar_border_color': 'C0DEED', 'profile_sidebar_fill_color': 'DDEEF6', 'profile_text_color': '333333', 'profile_use_background_image': True, 'has_extended_profile': True, 'default_profile': True, 'default_profile_image': False, 'following': False, 'follow_request_sent': False, 'notifications': False, 'translator_type': 'none'}, 'geo': None, 'coordinates': None, 'place': None, 'contributors': None, 'is_quote_status': False, 'retweet_count': 0, 'favorite_count': 0, 'favorited': False, 'retweeted': False, 'lang': 'en'}, created_at=datetime.datetime(2020, 12, 8, 9, 39, 19), id=1336243956019957760, id_str='1336243956019957760', full_text='@RasikaP7 remember when u had got angry on my tweet regarding RCB winning IPL', truncated=False, display_text_range=[10, 77], entities={'hashtags': [], 'symbols': [], 'user_mentions': [{'screen_name': 'RasikaP7', 'name': 'Rasika🌼🌿', 'id': 1315638929035415552, 'id_str': '1315638929035415552', 'indices': [0, 9]}], 'urls': []}, metadata={'iso_language_code': 'en', 'result_type': 'recent'}, source='Twitter Web App', source_url='https://mobile.twitter.com', in_reply_to_status_id=1336242816976969734, in_reply_to_status_id_str='1336242816976969734', in_reply_to_user_id=1315638929035415552, in_reply_to_user_id_str='1315638929035415552', in_reply_to_screen_name='RasikaP7', author=User(_api=<tweepy.api.API object at 0x000001A9BD0206C8>, _json={'id': 1251062223608279042, 'id_str': '1251062223608279042', 'name': 'Mr. Critic 🎭', 'screen_name': 'ChiragAmritkar', 'location': 'Nohara Mansion', 'description': 'CA Finalist | Rohit Sharma | 🐐 Messi | Mumbai Indians | FCB | Avengers', 'url': 'https://t.co/Ddm7X7k2rt', 'entities': {'url': {'urls': [{'url': 'https://t.co/Ddm7X7k2rt', 'expanded_url': 'http://www.shittyaccount.in', 'display_url': 'shittyaccount.in', 'indices': [0, 23]}]}, 'description': {'urls': []}}, 'protected': False, 'followers_count': 1122, 'friends_count': 699, 'listed_count': 1, 'created_at': 'Fri Apr 17 08:17:43 +0000 2020', 'favourites_count': 8240, 'utc_offset': None, 'time_zone': None, 'geo_enabled': True, 'verified': False, 'statuses_count': 12901, 'lang': None, 'contributors_enabled': False, 'is_translator': False, 'is_translation_enabled': False, 'profile_background_color': 'F5F8FA', 'profile_background_image_url': None, 'profile_background_image_url_https': None, 'profile_background_tile': False, 'profile_image_url': 'http://pbs.twimg.com/profile_images/1331808247435522049/EEWw6bNP_normal.jpg', 'profile_image_url_https': 'https://pbs.twimg.com/profile_images/1331808247435522049/EEWw6bNP_normal.jpg', 'profile_banner_url': 'https://pbs.twimg.com/profile_banners/1251062223608279042/1605378781', 'profile_link_color': '1DA1F2', 'profile_sidebar_border_color': 'C0DEED', 'profile_sidebar_fill_color': 'DDEEF6', 'profile_text_color': '333333', 'profile_use_background_image': True, 'has_extended_profile': True, 'default_profile': True, 'default_profile_image': False, 'following': False, 'follow_request_sent': False, 'notifications': False, 'translator_type': 'none'}, id=1251062223608279042, id_str='1251062223608279042', name='Mr. Critic 🎭', screen_name='ChiragAmritkar', location='Nohara Mansion', description='CA Finalist | Rohit Sharma | 🐐 Messi | Mumbai Indians | FCB | Avengers', url='https://t.co/Ddm7X7k2rt', entities={'url': {'urls': [{'url': 'https://t.co/Ddm7X7k2rt', 'expanded_url': 'http://www.shittyaccount.in', 'display_url': 'shittyaccount.in', 'indices': [0, 23]}]}, 'description': {'urls': []}}, protected=False, followers_count=1122, friends_count=699, listed_count=1, created_at=datetime.datetime(2020, 4, 17, 8, 17, 43), favourites_count=8240, utc_offset=None, time_zone=None, geo_enabled=True, verified=False, statuses_count=12901, lang=None, contributors_enabled=False, is_translator=False, is_translation_enabled=False, profile_background_color='F5F8FA', profile_background_image_url=None, profile_background_image_url_https=None, profile_background_tile=False, profile_image_url='http://pbs.twimg.com/profile_images/1331808247435522049/EEWw6bNP_normal.jpg', profile_image_url_https='https://pbs.twimg.com/profile_images/1331808247435522049/EEWw6bNP_normal.jpg', profile_banner_url='https://pbs.twimg.com/profile_banners/1251062223608279042/1605378781', profile_link_color='1DA1F2', profile_sidebar_border_color='C0DEED', profile_sidebar_fill_color='DDEEF6', profile_text_color='333333', profile_use_background_image=True, has_extended_profile=True, default_profile=True, default_profile_image=False, following=False, follow_request_sent=False, notifications=False, translator_type='none'), user=User(_api=<tweepy.api.API object at 0x000001A9BD0206C8>, _json={'id': 1251062223608279042, 'id_str': '1251062223608279042', 'name': 'Mr. Critic 🎭', 'screen_name': 'ChiragAmritkar', 'location': 'Nohara Mansion', 'description': 'CA Finalist | Rohit Sharma | 🐐 Messi | Mumbai Indians | FCB | Avengers', 'url': 'https://t.co/Ddm7X7k2rt', 'entities': {'url': {'urls': [{'url': 'https://t.co/Ddm7X7k2rt', 'expanded_url': 'http://www.shittyaccount.in', 'display_url': 'shittyaccount.in', 'indices': [0, 23]}]}, 'description': {'urls': []}}, 'protected': False, 'followers_count': 1122, 'friends_count': 699, 'listed_count': 1, 'created_at': 'Fri Apr 17 08:17:43 +0000 2020', 'favourites_count': 8240, 'utc_offset': None, 'time_zone': None, 'geo_enabled': True, 'verified': False, 'statuses_count': 12901, 'lang': None, 'contributors_enabled': False, 'is_translator': False, 'is_translation_enabled': False, 'profile_background_color': 'F5F8FA', 'profile_background_image_url': None, 'profile_background_image_url_https': None, 'profile_background_tile': False, 'profile_image_url': 'http://pbs.twimg.com/profile_images/1331808247435522049/EEWw6bNP_normal.jpg', 'profile_image_url_https': 'https://pbs.twimg.com/profile_images/1331808247435522049/EEWw6bNP_normal.jpg', 'profile_banner_url': 'https://pbs.twimg.com/profile_banners/1251062223608279042/1605378781', 'profile_link_color': '1DA1F2', 'profile_sidebar_border_color': 'C0DEED', 'profile_sidebar_fill_color': 'DDEEF6', 'profile_text_color': '333333', 'profile_use_background_image': True, 'has_extended_profile': True, 'default_profile': True, 'default_profile_image': False, 'following': False, 'follow_request_sent': False, 'notifications': False, 'translator_type': 'none'}, id=1251062223608279042, id_str='1251062223608279042', name='Mr. Critic 🎭', screen_name='ChiragAmritkar', location='Nohara Mansion', description='CA Finalist | Rohit Sharma | 🐐 Messi | Mumbai Indians | FCB | Avengers', url='https://t.co/Ddm7X7k2rt', entities={'url': {'urls': [{'url': 'https://t.co/Ddm7X7k2rt', 'expanded_url': 'http://www.shittyaccount.in', 'display_url': 'shittyaccount.in', 'indices': [0, 23]}]}, 'description': {'urls': []}}, protected=False, followers_count=1122, friends_count=699, listed_count=1, created_at=datetime.datetime(2020, 4, 17, 8, 17, 43), favourites_count=8240, utc_offset=None, time_zone=None, geo_enabled=True, verified=False, statuses_count=12901, lang=None, contributors_enabled=False, is_translator=False, is_translation_enabled=False, profile_background_color='F5F8FA', profile_background_image_url=None, profile_background_image_url_https=None, profile_background_tile=False, profile_image_url='http://pbs.twimg.com/profile_images/1331808247435522049/EEWw6bNP_normal.jpg', profile_image_url_https='https://pbs.twimg.com/profile_images/1331808247435522049/EEWw6bNP_normal.jpg', profile_banner_url='https://pbs.twimg.com/profile_banners/1251062223608279042/1605378781', profile_link_color='1DA1F2', profile_sidebar_border_color='C0DEED', profile_sidebar_fill_color='DDEEF6', profile_text_color='333333', profile_use_background_image=True, has_extended_profile=True, default_profile=True, default_profile_image=False, following=False, follow_request_sent=False, notifications=False, translator_type='none'), geo=None, coordinates=None, place=None, contributors=None, is_quote_status=False, retweet_count=0, favorite_count=0, favorited=False, retweeted=False, lang='en') \n",
      "\n",
      ".....................................\n",
      "\n"
     ]
    }
   ],
   "source": [
    "Tweets = api.search( query , count=10 , lang='en' , exclude='retweets' , tweet_mode='extended' )\n",
    "\n",
    "for tweet in Tweets:\n",
    "    print(tweet,\"\\n\")\n",
    "    print(\".....................................\\n\")"
   ]
  },
  {
   "cell_type": "markdown",
   "metadata": {},
   "source": [
    "# Getting the Tweets and some Attributes"
   ]
  },
  {
   "cell_type": "code",
   "execution_count": 9,
   "metadata": {},
   "outputs": [
    {
     "name": "stdout",
     "output_type": "stream",
     "text": [
      "Empty DataFrame\n",
      "Columns: [Tweets, User, User_statuses_count, user_followers, User_location, User_verified, fav_count, rt_count, tweet_date]\n",
      "Index: []\n"
     ]
    }
   ],
   "source": [
    "df = pd.DataFrame(columns = ['Tweets' , 'User' , 'User_statuses_count' , \n",
    "                            'user_followers' , 'User_location' , 'User_verified' ,\n",
    "                            'fav_count' , 'rt_count' , 'tweet_date'] )\n",
    "print(df)"
   ]
  },
  {
   "cell_type": "code",
   "execution_count": 10,
   "metadata": {},
   "outputs": [],
   "source": [
    "def stream(data, file_name):\n",
    "    i = 0\n",
    "    for tweet in tweepy.Cursor(api.search, q=data, count=100, lang='en').items():\n",
    "        print(i, end='\\r')\n",
    "        df.loc[i, 'Tweets'] = tweet.text\n",
    "        df.loc[i, 'User'] = tweet.user.name\n",
    "        df.loc[i, 'User_statuses_count'] = tweet.user.statuses_count\n",
    "        df.loc[i, 'user_followers'] = tweet.user.followers_count\n",
    "        df.loc[i, 'User_location'] = tweet.user.location\n",
    "        df.loc[i, 'User_verified'] = tweet.user.verified\n",
    "        df.loc[i, 'fav_count'] = tweet.favorite_count\n",
    "        df.loc[i, 'rt_count'] = tweet.retweet_count\n",
    "        df.loc[i, 'tweet_date'] = tweet.created_at\n",
    "        df.to_excel('{}.xlsx'.format(file_name))\n",
    "        i = i+1\n",
    "        if i == 1000:\n",
    "            break\n",
    "        else:\n",
    "            pass"
   ]
  },
  {
   "cell_type": "code",
   "execution_count": 11,
   "metadata": {},
   "outputs": [
    {
     "name": "stdout",
     "output_type": "stream",
     "text": [
      "27\r"
     ]
    }
   ],
   "source": [
    "stream(data=[\"RCB winning IPL\"] , file_name='my_tweets')"
   ]
  },
  {
   "cell_type": "code",
   "execution_count": 12,
   "metadata": {},
   "outputs": [
    {
     "data": {
      "text/html": [
       "<div>\n",
       "<style scoped>\n",
       "    .dataframe tbody tr th:only-of-type {\n",
       "        vertical-align: middle;\n",
       "    }\n",
       "\n",
       "    .dataframe tbody tr th {\n",
       "        vertical-align: top;\n",
       "    }\n",
       "\n",
       "    .dataframe thead th {\n",
       "        text-align: right;\n",
       "    }\n",
       "</style>\n",
       "<table border=\"1\" class=\"dataframe\">\n",
       "  <thead>\n",
       "    <tr style=\"text-align: right;\">\n",
       "      <th></th>\n",
       "      <th>Tweets</th>\n",
       "      <th>User</th>\n",
       "      <th>User_statuses_count</th>\n",
       "      <th>user_followers</th>\n",
       "      <th>User_location</th>\n",
       "      <th>User_verified</th>\n",
       "      <th>fav_count</th>\n",
       "      <th>rt_count</th>\n",
       "      <th>tweet_date</th>\n",
       "    </tr>\n",
       "  </thead>\n",
       "  <tbody>\n",
       "    <tr>\n",
       "      <th>0</th>\n",
       "      <td>@GodlyEye Lmaooo my state had IPL team for lik...</td>\n",
       "      <td>In another life~~</td>\n",
       "      <td>3033</td>\n",
       "      <td>2449</td>\n",
       "      <td>kuroo's thighs</td>\n",
       "      <td>False</td>\n",
       "      <td>0</td>\n",
       "      <td>0</td>\n",
       "      <td>2020-12-14 21:06:09</td>\n",
       "    </tr>\n",
       "    <tr>\n",
       "      <th>1</th>\n",
       "      <td>RT @anushkatastic: Ain't rcb bored of winning ...</td>\n",
       "      <td>.....♥</td>\n",
       "      <td>2381</td>\n",
       "      <td>570</td>\n",
       "      <td></td>\n",
       "      <td>False</td>\n",
       "      <td>0</td>\n",
       "      <td>1</td>\n",
       "      <td>2020-12-14 15:19:42</td>\n",
       "    </tr>\n",
       "    <tr>\n",
       "      <th>2</th>\n",
       "      <td>Ain't rcb bored of winning hearts ?!\\nBhai kab...</td>\n",
       "      <td>anushka // keshu bb stan acc ❤️❤️</td>\n",
       "      <td>3208</td>\n",
       "      <td>653</td>\n",
       "      <td>mars</td>\n",
       "      <td>False</td>\n",
       "      <td>24</td>\n",
       "      <td>1</td>\n",
       "      <td>2020-12-14 09:35:17</td>\n",
       "    </tr>\n",
       "    <tr>\n",
       "      <th>3</th>\n",
       "      <td>RT @saintpathak: I had rather place my bet on ...</td>\n",
       "      <td>SuryaBhai</td>\n",
       "      <td>1590</td>\n",
       "      <td>1</td>\n",
       "      <td></td>\n",
       "      <td>False</td>\n",
       "      <td>0</td>\n",
       "      <td>14</td>\n",
       "      <td>2020-12-13 12:15:39</td>\n",
       "    </tr>\n",
       "    <tr>\n",
       "      <th>4</th>\n",
       "      <td>RT @saintpathak: I had rather place my bet on ...</td>\n",
       "      <td>Antariksh Ray</td>\n",
       "      <td>84</td>\n",
       "      <td>35</td>\n",
       "      <td>Navi Mumbai, India</td>\n",
       "      <td>False</td>\n",
       "      <td>0</td>\n",
       "      <td>14</td>\n",
       "      <td>2020-12-13 11:59:07</td>\n",
       "    </tr>\n",
       "  </tbody>\n",
       "</table>\n",
       "</div>"
      ],
      "text/plain": [
       "                                              Tweets  \\\n",
       "0  @GodlyEye Lmaooo my state had IPL team for lik...   \n",
       "1  RT @anushkatastic: Ain't rcb bored of winning ...   \n",
       "2  Ain't rcb bored of winning hearts ?!\\nBhai kab...   \n",
       "3  RT @saintpathak: I had rather place my bet on ...   \n",
       "4  RT @saintpathak: I had rather place my bet on ...   \n",
       "\n",
       "                                User User_statuses_count user_followers  \\\n",
       "0                  In another life~~                3033           2449   \n",
       "1                             .....♥                2381            570   \n",
       "2  anushka // keshu bb stan acc ❤️❤️                3208            653   \n",
       "3                          SuryaBhai                1590              1   \n",
       "4                      Antariksh Ray                  84             35   \n",
       "\n",
       "        User_location User_verified fav_count rt_count           tweet_date  \n",
       "0      kuroo's thighs         False         0        0  2020-12-14 21:06:09  \n",
       "1                             False         0        1  2020-12-14 15:19:42  \n",
       "2                mars         False        24        1  2020-12-14 09:35:17  \n",
       "3                             False         0       14  2020-12-13 12:15:39  \n",
       "4  Navi Mumbai, India         False         0       14  2020-12-13 11:59:07  "
      ]
     },
     "execution_count": 12,
     "metadata": {},
     "output_type": "execute_result"
    }
   ],
   "source": [
    "df.head()"
   ]
  },
  {
   "cell_type": "code",
   "execution_count": 13,
   "metadata": {},
   "outputs": [
    {
     "name": "stdout",
     "output_type": "stream",
     "text": [
      "Requirement already satisfied: textblob in c:\\users\\arpit\\anaconda3\\anaconda\\lib\\site-packages (0.15.3)\n",
      "Requirement already satisfied: nltk>=3.1 in c:\\users\\arpit\\anaconda3\\anaconda\\lib\\site-packages (from textblob) (3.4.5)\n",
      "Requirement already satisfied: six in c:\\users\\arpit\\anaconda3\\anaconda\\lib\\site-packages (from nltk>=3.1->textblob) (1.14.0)\n"
     ]
    }
   ],
   "source": [
    "!pip install textblob"
   ]
  },
  {
   "cell_type": "code",
   "execution_count": 15,
   "metadata": {},
   "outputs": [],
   "source": [
    "from textblob import TextBlob"
   ]
  },
  {
   "cell_type": "code",
   "execution_count": 16,
   "metadata": {},
   "outputs": [],
   "source": [
    "import re\n",
    "def clean_tweet(tweet):\n",
    "    return ' '.join(re.sub('(@[A-Za-z0-9]+)|([^0-9A-Za-z \\t])|(\\w+:\\/\\/\\S+)', ' ', tweet).split())"
   ]
  },
  {
   "cell_type": "code",
   "execution_count": 17,
   "metadata": {},
   "outputs": [],
   "source": [
    "def analyze_sentiment(tweet):\n",
    "    analysis = TextBlob(tweet)\n",
    "    if analysis.sentiment.polarity > 0:\n",
    "        return 'Positive'\n",
    "    elif analysis.sentiment.polarity == 0:\n",
    "        return 'Neutral'\n",
    "    else:\n",
    "        return 'Negative'"
   ]
  },
  {
   "cell_type": "code",
   "execution_count": 18,
   "metadata": {},
   "outputs": [],
   "source": [
    "df['clean_tweet'] = df['Tweets'].apply(lambda x : clean_tweet(x))"
   ]
  },
  {
   "cell_type": "code",
   "execution_count": 19,
   "metadata": {},
   "outputs": [
    {
     "data": {
      "text/html": [
       "<div>\n",
       "<style scoped>\n",
       "    .dataframe tbody tr th:only-of-type {\n",
       "        vertical-align: middle;\n",
       "    }\n",
       "\n",
       "    .dataframe tbody tr th {\n",
       "        vertical-align: top;\n",
       "    }\n",
       "\n",
       "    .dataframe thead th {\n",
       "        text-align: right;\n",
       "    }\n",
       "</style>\n",
       "<table border=\"1\" class=\"dataframe\">\n",
       "  <thead>\n",
       "    <tr style=\"text-align: right;\">\n",
       "      <th></th>\n",
       "      <th>Tweets</th>\n",
       "      <th>User</th>\n",
       "      <th>User_statuses_count</th>\n",
       "      <th>user_followers</th>\n",
       "      <th>User_location</th>\n",
       "      <th>User_verified</th>\n",
       "      <th>fav_count</th>\n",
       "      <th>rt_count</th>\n",
       "      <th>tweet_date</th>\n",
       "      <th>clean_tweet</th>\n",
       "    </tr>\n",
       "  </thead>\n",
       "  <tbody>\n",
       "    <tr>\n",
       "      <th>0</th>\n",
       "      <td>@GodlyEye Lmaooo my state had IPL team for lik...</td>\n",
       "      <td>In another life~~</td>\n",
       "      <td>3033</td>\n",
       "      <td>2449</td>\n",
       "      <td>kuroo's thighs</td>\n",
       "      <td>False</td>\n",
       "      <td>0</td>\n",
       "      <td>0</td>\n",
       "      <td>2020-12-14 21:06:09</td>\n",
       "      <td>Lmaooo my state had IPL team for like 2 years ...</td>\n",
       "    </tr>\n",
       "    <tr>\n",
       "      <th>1</th>\n",
       "      <td>RT @anushkatastic: Ain't rcb bored of winning ...</td>\n",
       "      <td>.....♥</td>\n",
       "      <td>2381</td>\n",
       "      <td>570</td>\n",
       "      <td></td>\n",
       "      <td>False</td>\n",
       "      <td>0</td>\n",
       "      <td>1</td>\n",
       "      <td>2020-12-14 15:19:42</td>\n",
       "      <td>RT Ain t rcb bored of winning hearts Bhai kabh...</td>\n",
       "    </tr>\n",
       "    <tr>\n",
       "      <th>2</th>\n",
       "      <td>Ain't rcb bored of winning hearts ?!\\nBhai kab...</td>\n",
       "      <td>anushka // keshu bb stan acc ❤️❤️</td>\n",
       "      <td>3208</td>\n",
       "      <td>653</td>\n",
       "      <td>mars</td>\n",
       "      <td>False</td>\n",
       "      <td>24</td>\n",
       "      <td>1</td>\n",
       "      <td>2020-12-14 09:35:17</td>\n",
       "      <td>Ain t rcb bored of winning hearts Bhai kabhi t...</td>\n",
       "    </tr>\n",
       "    <tr>\n",
       "      <th>3</th>\n",
       "      <td>RT @saintpathak: I had rather place my bet on ...</td>\n",
       "      <td>SuryaBhai</td>\n",
       "      <td>1590</td>\n",
       "      <td>1</td>\n",
       "      <td></td>\n",
       "      <td>False</td>\n",
       "      <td>0</td>\n",
       "      <td>14</td>\n",
       "      <td>2020-12-13 12:15:39</td>\n",
       "      <td>RT I had rather place my bet on RCB winning th...</td>\n",
       "    </tr>\n",
       "    <tr>\n",
       "      <th>4</th>\n",
       "      <td>RT @saintpathak: I had rather place my bet on ...</td>\n",
       "      <td>Antariksh Ray</td>\n",
       "      <td>84</td>\n",
       "      <td>35</td>\n",
       "      <td>Navi Mumbai, India</td>\n",
       "      <td>False</td>\n",
       "      <td>0</td>\n",
       "      <td>14</td>\n",
       "      <td>2020-12-13 11:59:07</td>\n",
       "      <td>RT I had rather place my bet on RCB winning th...</td>\n",
       "    </tr>\n",
       "  </tbody>\n",
       "</table>\n",
       "</div>"
      ],
      "text/plain": [
       "                                              Tweets  \\\n",
       "0  @GodlyEye Lmaooo my state had IPL team for lik...   \n",
       "1  RT @anushkatastic: Ain't rcb bored of winning ...   \n",
       "2  Ain't rcb bored of winning hearts ?!\\nBhai kab...   \n",
       "3  RT @saintpathak: I had rather place my bet on ...   \n",
       "4  RT @saintpathak: I had rather place my bet on ...   \n",
       "\n",
       "                                User User_statuses_count user_followers  \\\n",
       "0                  In another life~~                3033           2449   \n",
       "1                             .....♥                2381            570   \n",
       "2  anushka // keshu bb stan acc ❤️❤️                3208            653   \n",
       "3                          SuryaBhai                1590              1   \n",
       "4                      Antariksh Ray                  84             35   \n",
       "\n",
       "        User_location User_verified fav_count rt_count           tweet_date  \\\n",
       "0      kuroo's thighs         False         0        0  2020-12-14 21:06:09   \n",
       "1                             False         0        1  2020-12-14 15:19:42   \n",
       "2                mars         False        24        1  2020-12-14 09:35:17   \n",
       "3                             False         0       14  2020-12-13 12:15:39   \n",
       "4  Navi Mumbai, India         False         0       14  2020-12-13 11:59:07   \n",
       "\n",
       "                                         clean_tweet  \n",
       "0  Lmaooo my state had IPL team for like 2 years ...  \n",
       "1  RT Ain t rcb bored of winning hearts Bhai kabh...  \n",
       "2  Ain t rcb bored of winning hearts Bhai kabhi t...  \n",
       "3  RT I had rather place my bet on RCB winning th...  \n",
       "4  RT I had rather place my bet on RCB winning th...  "
      ]
     },
     "execution_count": 19,
     "metadata": {},
     "output_type": "execute_result"
    }
   ],
   "source": [
    "df.head()"
   ]
  },
  {
   "cell_type": "code",
   "execution_count": 20,
   "metadata": {},
   "outputs": [
    {
     "data": {
      "text/html": [
       "<div>\n",
       "<style scoped>\n",
       "    .dataframe tbody tr th:only-of-type {\n",
       "        vertical-align: middle;\n",
       "    }\n",
       "\n",
       "    .dataframe tbody tr th {\n",
       "        vertical-align: top;\n",
       "    }\n",
       "\n",
       "    .dataframe thead th {\n",
       "        text-align: right;\n",
       "    }\n",
       "</style>\n",
       "<table border=\"1\" class=\"dataframe\">\n",
       "  <thead>\n",
       "    <tr style=\"text-align: right;\">\n",
       "      <th></th>\n",
       "      <th>Tweets</th>\n",
       "      <th>User</th>\n",
       "      <th>User_statuses_count</th>\n",
       "      <th>user_followers</th>\n",
       "      <th>User_location</th>\n",
       "      <th>User_verified</th>\n",
       "      <th>fav_count</th>\n",
       "      <th>rt_count</th>\n",
       "      <th>tweet_date</th>\n",
       "      <th>clean_tweet</th>\n",
       "      <th>Sentiment</th>\n",
       "    </tr>\n",
       "  </thead>\n",
       "  <tbody>\n",
       "    <tr>\n",
       "      <th>0</th>\n",
       "      <td>@GodlyEye Lmaooo my state had IPL team for lik...</td>\n",
       "      <td>In another life~~</td>\n",
       "      <td>3033</td>\n",
       "      <td>2449</td>\n",
       "      <td>kuroo's thighs</td>\n",
       "      <td>False</td>\n",
       "      <td>0</td>\n",
       "      <td>0</td>\n",
       "      <td>2020-12-14 21:06:09</td>\n",
       "      <td>Lmaooo my state had IPL team for like 2 years ...</td>\n",
       "      <td>Neutral</td>\n",
       "    </tr>\n",
       "    <tr>\n",
       "      <th>1</th>\n",
       "      <td>RT @anushkatastic: Ain't rcb bored of winning ...</td>\n",
       "      <td>.....♥</td>\n",
       "      <td>2381</td>\n",
       "      <td>570</td>\n",
       "      <td></td>\n",
       "      <td>False</td>\n",
       "      <td>0</td>\n",
       "      <td>1</td>\n",
       "      <td>2020-12-14 15:19:42</td>\n",
       "      <td>RT Ain t rcb bored of winning hearts Bhai kabh...</td>\n",
       "      <td>Neutral</td>\n",
       "    </tr>\n",
       "    <tr>\n",
       "      <th>2</th>\n",
       "      <td>Ain't rcb bored of winning hearts ?!\\nBhai kab...</td>\n",
       "      <td>anushka // keshu bb stan acc ❤️❤️</td>\n",
       "      <td>3208</td>\n",
       "      <td>653</td>\n",
       "      <td>mars</td>\n",
       "      <td>False</td>\n",
       "      <td>24</td>\n",
       "      <td>1</td>\n",
       "      <td>2020-12-14 09:35:17</td>\n",
       "      <td>Ain t rcb bored of winning hearts Bhai kabhi t...</td>\n",
       "      <td>Neutral</td>\n",
       "    </tr>\n",
       "    <tr>\n",
       "      <th>3</th>\n",
       "      <td>RT @saintpathak: I had rather place my bet on ...</td>\n",
       "      <td>SuryaBhai</td>\n",
       "      <td>1590</td>\n",
       "      <td>1</td>\n",
       "      <td></td>\n",
       "      <td>False</td>\n",
       "      <td>0</td>\n",
       "      <td>14</td>\n",
       "      <td>2020-12-13 12:15:39</td>\n",
       "      <td>RT I had rather place my bet on RCB winning th...</td>\n",
       "      <td>Positive</td>\n",
       "    </tr>\n",
       "    <tr>\n",
       "      <th>4</th>\n",
       "      <td>RT @saintpathak: I had rather place my bet on ...</td>\n",
       "      <td>Antariksh Ray</td>\n",
       "      <td>84</td>\n",
       "      <td>35</td>\n",
       "      <td>Navi Mumbai, India</td>\n",
       "      <td>False</td>\n",
       "      <td>0</td>\n",
       "      <td>14</td>\n",
       "      <td>2020-12-13 11:59:07</td>\n",
       "      <td>RT I had rather place my bet on RCB winning th...</td>\n",
       "      <td>Positive</td>\n",
       "    </tr>\n",
       "  </tbody>\n",
       "</table>\n",
       "</div>"
      ],
      "text/plain": [
       "                                              Tweets  \\\n",
       "0  @GodlyEye Lmaooo my state had IPL team for lik...   \n",
       "1  RT @anushkatastic: Ain't rcb bored of winning ...   \n",
       "2  Ain't rcb bored of winning hearts ?!\\nBhai kab...   \n",
       "3  RT @saintpathak: I had rather place my bet on ...   \n",
       "4  RT @saintpathak: I had rather place my bet on ...   \n",
       "\n",
       "                                User User_statuses_count user_followers  \\\n",
       "0                  In another life~~                3033           2449   \n",
       "1                             .....♥                2381            570   \n",
       "2  anushka // keshu bb stan acc ❤️❤️                3208            653   \n",
       "3                          SuryaBhai                1590              1   \n",
       "4                      Antariksh Ray                  84             35   \n",
       "\n",
       "        User_location User_verified fav_count rt_count           tweet_date  \\\n",
       "0      kuroo's thighs         False         0        0  2020-12-14 21:06:09   \n",
       "1                             False         0        1  2020-12-14 15:19:42   \n",
       "2                mars         False        24        1  2020-12-14 09:35:17   \n",
       "3                             False         0       14  2020-12-13 12:15:39   \n",
       "4  Navi Mumbai, India         False         0       14  2020-12-13 11:59:07   \n",
       "\n",
       "                                         clean_tweet Sentiment  \n",
       "0  Lmaooo my state had IPL team for like 2 years ...   Neutral  \n",
       "1  RT Ain t rcb bored of winning hearts Bhai kabh...   Neutral  \n",
       "2  Ain t rcb bored of winning hearts Bhai kabhi t...   Neutral  \n",
       "3  RT I had rather place my bet on RCB winning th...  Positive  \n",
       "4  RT I had rather place my bet on RCB winning th...  Positive  "
      ]
     },
     "execution_count": 20,
     "metadata": {},
     "output_type": "execute_result"
    }
   ],
   "source": [
    "df['Sentiment'] = df['clean_tweet'].apply(lambda x : analyze_sentiment(x) )\n",
    "df.head()"
   ]
  },
  {
   "cell_type": "code",
   "execution_count": 21,
   "metadata": {},
   "outputs": [
    {
     "name": "stdout",
     "output_type": "stream",
     "text": [
      "Original tweet:\n",
      " RT @anushkatastic: Ain't rcb bored of winning hearts ?!\n",
      "Bhai kabhi toh ipl trophy bhi jeet lo\n",
      "\n",
      "Clean tweet:\n",
      " RT Ain t rcb bored of winning hearts Bhai kabhi toh ipl trophy bhi jeet lo\n",
      "\n",
      "Sentiment of the tweet:\n",
      " Neutral\n"
     ]
    }
   ],
   "source": [
    "n = 1\n",
    "print(\"Original tweet:\\n\",df['Tweets'][n])\n",
    "print()\n",
    "print(\"Clean tweet:\\n\",df['clean_tweet'][n])\n",
    "print()\n",
    "print(\"Sentiment of the tweet:\\n\",df['Sentiment'][n])"
   ]
  },
  {
   "cell_type": "code",
   "execution_count": 22,
   "metadata": {},
   "outputs": [
    {
     "name": "stdout",
     "output_type": "stream",
     "text": [
      "Original tweet:\n",
      " @rajasthanroyals RCB winning IPL😔\n",
      "\n",
      "Clean tweet:\n",
      " RCB winning IPL\n",
      "\n",
      "Sentiment of the tweet:\n",
      " Positive\n"
     ]
    }
   ],
   "source": [
    "n = 20\n",
    "print(\"Original tweet:\\n\",df['Tweets'][n])\n",
    "print()\n",
    "print(\"Clean tweet:\\n\",df['clean_tweet'][n])\n",
    "print()\n",
    "print(\"Sentiment of the tweet:\\n\",df['Sentiment'][n])"
   ]
  },
  {
   "cell_type": "code",
   "execution_count": 25,
   "metadata": {},
   "outputs": [
    {
     "data": {
      "text/plain": [
       "21"
      ]
     },
     "execution_count": 25,
     "metadata": {},
     "output_type": "execute_result"
    }
   ],
   "source": [
    "df[df.Sentiment == 'Positive'].shape[0]"
   ]
  },
  {
   "cell_type": "code",
   "execution_count": 26,
   "metadata": {},
   "outputs": [
    {
     "data": {
      "text/plain": [
       "6"
      ]
     },
     "execution_count": 26,
     "metadata": {},
     "output_type": "execute_result"
    }
   ],
   "source": [
    "df[df.Sentiment == 'Neutral'].shape[0]"
   ]
  },
  {
   "cell_type": "code",
   "execution_count": 27,
   "metadata": {},
   "outputs": [
    {
     "data": {
      "text/plain": [
       "1"
      ]
     },
     "execution_count": 27,
     "metadata": {},
     "output_type": "execute_result"
    }
   ],
   "source": [
    "df[df.Sentiment == 'Negative'].shape[0]"
   ]
  }
 ],
 "metadata": {
  "kernelspec": {
   "display_name": "Python 3",
   "language": "python",
   "name": "python3"
  },
  "language_info": {
   "codemirror_mode": {
    "name": "ipython",
    "version": 3
   },
   "file_extension": ".py",
   "mimetype": "text/x-python",
   "name": "python",
   "nbconvert_exporter": "python",
   "pygments_lexer": "ipython3",
   "version": "3.7.6"
  }
 },
 "nbformat": 4,
 "nbformat_minor": 4
}
