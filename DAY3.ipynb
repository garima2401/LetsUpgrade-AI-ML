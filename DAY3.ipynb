{
 "cells": [
  {
   "cell_type": "markdown",
   "metadata": {},
   "source": [
    "Q1: Write a program to subtract two complex numbers in Python ?"
   ]
  },
  {
   "cell_type": "code",
   "execution_count": 26,
   "metadata": {},
   "outputs": [
    {
     "name": "stdout",
     "output_type": "stream",
     "text": [
      "The real part of complex number is : \n",
      "4.0\n",
      "The imaginary part of complex number is : \n",
      "3.0\n",
      "The real part of complex number is : \n",
      "3.0\n",
      "The imaginary part of complex number is : \n",
      "7.0\n",
      "subtaction of complex numbers = (1-4j)\n"
     ]
    }
   ],
   "source": [
    "# a = 3 + 4j\n",
    "#b = 1 + 1j\n",
    "import cmath \n",
    "# Initializing real numbers \n",
    "a = 4\n",
    "b = 3\n",
    "x = 3\n",
    "y = 7\n",
    "  \n",
    "# converting x and y into complex number \n",
    "c = complex(a,b); \n",
    "z = complex(x,y);\n",
    "#result = complex(c,z);\n",
    "  \n",
    "# printing real and imaginary part of complex number \n",
    "print (\"The real part of complex number is : \") \n",
    "print (c.real) \n",
    "  \n",
    "print (\"The imaginary part of complex number is : \") \n",
    "print (c.imag) \n",
    "\n",
    "print (\"The real part of complex number is : \") \n",
    "print (z.real) \n",
    "  \n",
    "print (\"The imaginary part of complex number is : \") \n",
    "print (z.imag) \n",
    "\n",
    "result = c-z;\n",
    "\n",
    "\n",
    "print(\"subtaction of complex numbers =\", result)"
   ]
  },
  {
   "cell_type": "markdown",
   "metadata": {},
   "source": [
    "Q2 : Write a program to find the fourth root of a number ?"
   ]
  },
  {
   "cell_type": "code",
   "execution_count": 28,
   "metadata": {},
   "outputs": [
    {
     "name": "stdout",
     "output_type": "stream",
     "text": [
      "Enter number to find out fourth root value :10\n",
      "Fourth root of is 1.7782794100389228\n"
     ]
    }
   ],
   "source": [
    "x = int(input(\"Enter number to find out fourth root value :\"))\n",
    "y = x**(1/4)\n",
    "print(\"Fourth root of is\",y)"
   ]
  },
  {
   "cell_type": "markdown",
   "metadata": {},
   "source": [
    "Q3: Write a program to swap two numbers in Python with the help of a temporary variable ?"
   ]
  },
  {
   "cell_type": "code",
   "execution_count": 12,
   "metadata": {},
   "outputs": [
    {
     "name": "stdout",
     "output_type": "stream",
     "text": [
      "Enter first number :10\n",
      "Enter second number :20\n",
      "swapped value of x : 20\n",
      "swapped value of y: 10\n"
     ]
    }
   ],
   "source": [
    "x = int(input(\"Enter first number :\"))\n",
    "y = int(input(\"Enter second number :\"))\n",
    "\n",
    "temp = x\n",
    "x = y\n",
    "y = temp\n",
    "\n",
    "print(\"swapped value of x :\", x)\n",
    "print(\"swapped value of y:\", y)"
   ]
  },
  {
   "cell_type": "markdown",
   "metadata": {},
   "source": [
    "Q4 : Write a program to swap two numbers in Python without using a temporary variable"
   ]
  },
  {
   "cell_type": "code",
   "execution_count": 13,
   "metadata": {},
   "outputs": [
    {
     "name": "stdout",
     "output_type": "stream",
     "text": [
      "Enter first number :2\n",
      "Enter second number :3\n",
      "swapped value of x is : 3\n",
      "swapped value of x is : 2\n"
     ]
    }
   ],
   "source": [
    "x = int(input(\"Enter first number :\"))\n",
    "y = int(input(\"Enter second number :\"))\n",
    "\n",
    "x = x + y\n",
    "y = x - y\n",
    "x = x - y\n",
    "\n",
    "print(\"swapped value of x is :\", x)\n",
    "print(\"swapped value of x is :\", y)"
   ]
  },
  {
   "cell_type": "markdown",
   "metadata": {},
   "source": [
    "Q5 : Write a program to convert fahrenheit to kelvin and celsius both"
   ]
  },
  {
   "cell_type": "code",
   "execution_count": 15,
   "metadata": {},
   "outputs": [
    {
     "name": "stdout",
     "output_type": "stream",
     "text": [
      "Enter temperature32.5\n",
      "Temp in Kelvin 273.42777777777775\n",
      "Temp in Celsius 0.2777777777777778\n"
     ]
    }
   ],
   "source": [
    "Temp = float(input(\"Enter temperature\"))\n",
    "\n",
    "Cel = (Temp - 32)*(5/9)\n",
    "Kel = Cel + 273.15\n",
    "\n",
    "print(\"Temp in Kelvin\", Kel)\n",
    "print(\"Temp in Celsius\", Cel)\n",
    "\n",
    "\n",
    "\n",
    "\n",
    "\n",
    "\n",
    "\n",
    "\n"
   ]
  },
  {
   "cell_type": "markdown",
   "metadata": {},
   "source": [
    "Q6 : Write a program to demonstrate all the available data types in Python. Hint: Use type() function."
   ]
  },
  {
   "cell_type": "code",
   "execution_count": 25,
   "metadata": {},
   "outputs": [
    {
     "data": {
      "text/plain": [
       "int"
      ]
     },
     "execution_count": 25,
     "metadata": {},
     "output_type": "execute_result"
    }
   ],
   "source": [
    "type(123)"
   ]
  },
  {
   "cell_type": "code",
   "execution_count": 18,
   "metadata": {},
   "outputs": [
    {
     "data": {
      "text/plain": [
       "str"
      ]
     },
     "execution_count": 18,
     "metadata": {},
     "output_type": "execute_result"
    }
   ],
   "source": [
    "type(\"garima\")"
   ]
  },
  {
   "cell_type": "code",
   "execution_count": 21,
   "metadata": {},
   "outputs": [
    {
     "data": {
      "text/plain": [
       "float"
      ]
     },
     "execution_count": 21,
     "metadata": {},
     "output_type": "execute_result"
    }
   ],
   "source": [
    "type(22.5)"
   ]
  },
  {
   "cell_type": "code",
   "execution_count": 22,
   "metadata": {},
   "outputs": [
    {
     "data": {
      "text/plain": [
       "complex"
      ]
     },
     "execution_count": 22,
     "metadata": {},
     "output_type": "execute_result"
    }
   ],
   "source": [
    "type(10+22j)"
   ]
  },
  {
   "cell_type": "code",
   "execution_count": 23,
   "metadata": {},
   "outputs": [
    {
     "data": {
      "text/plain": [
       "tuple"
      ]
     },
     "execution_count": 23,
     "metadata": {},
     "output_type": "execute_result"
    }
   ],
   "source": [
    "type((1,2,3,4,6565))"
   ]
  },
  {
   "cell_type": "code",
   "execution_count": 24,
   "metadata": {},
   "outputs": [
    {
     "data": {
      "text/plain": [
       "dict"
      ]
     },
     "execution_count": 24,
     "metadata": {},
     "output_type": "execute_result"
    }
   ],
   "source": [
    "type({1:\"one\", 2:\"two\", 3:\"three\"})"
   ]
  },
  {
   "cell_type": "markdown",
   "metadata": {},
   "source": [
    "Q7 : Create a Markdown cell in jupyter and list the steps discussed in the session by Dr. Darshan Ingle sir to create Github profile and upload Githubs Assignment link."
   ]
  },
  {
   "cell_type": "markdown",
   "metadata": {},
   "source": [
    "Creating GitHub Profile\n",
    "\n",
    "The Steps for creating GitHub profile are-\n",
    "\n",
    "Go to github.com\n",
    "\n",
    "Click on Sign Up and fill the details there.\n",
    "\n",
    "Then Login into account by Signing In.\n",
    "\n",
    "Uploading Assignments\n",
    "\n",
    "The steps for uploading Assignment using GitHub are-\n",
    "\n",
    "Complete Assignment using Google Colab, JUpyter Notebook or else, whichever is preferable.\n",
    "\n",
    "Save it into the device.\n",
    "\n",
    "On GitHub, create a Repository named as LetsUpgrade AI-ML.\n",
    "\n",
    "Upload the Assignment daily in that repository.\n",
    "\n",
    "Once you have uploaded the Assignment in GithUb repository, Copy the URL of GitHub repository and paste it in the Assignment submission form.\n",
    "\n",
    "Once you'll complete this, you are done with assignment submission."
   ]
  }
 ],
 "metadata": {
  "kernelspec": {
   "display_name": "Python 3",
   "language": "python",
   "name": "python3"
  },
  "language_info": {
   "codemirror_mode": {
    "name": "ipython",
    "version": 3
   },
   "file_extension": ".py",
   "mimetype": "text/x-python",
   "name": "python",
   "nbconvert_exporter": "python",
   "pygments_lexer": "ipython3",
   "version": "3.7.6"
  }
 },
 "nbformat": 4,
 "nbformat_minor": 4
}
