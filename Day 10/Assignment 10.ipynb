{
 "cells": [
  {
   "cell_type": "markdown",
   "metadata": {},
   "source": [
    "# Hypothesis 1"
   ]
  },
  {
   "cell_type": "markdown",
   "metadata": {},
   "source": [
    "Null Hypothesis:\n",
    "\n",
    "- The mean age of an employee who has attrited is equal to 32\n",
    "\n",
    "Alternative Hypothesis:\n",
    "\n",
    "- The mean age of an employee who has attrited is not equal to 32\n",
    "\n",
    "The age of an employee who has attrited has a standard deviation of 9.67.\n",
    "\n",
    "To determine if this is true, a sample of 70 attrited employees was taken and their mean age was found to be 34."
   ]
  },
  {
   "cell_type": "markdown",
   "metadata": {},
   "source": [
    "# Hypothesis 2"
   ]
  },
  {
   "cell_type": "markdown",
   "metadata": {},
   "source": [
    "Null Hypothesis:\n",
    "\n",
    "- The mean monthly income of attrited employees is equal to Rs.60,000\n",
    "\n",
    "Alternative Hypothesis:\n",
    "\n",
    "- The mean monthly income of attrited employees is not equal to Rs.60,000.\n",
    "\n",
    "To determine if this is true, a sample of 70 attrited employees was taken and their mean monthly income was found to be Rs.64,650.\n",
    "\n",
    "The monthly income of attrited employees has a standard deviation of 44890"
   ]
  },
  {
   "cell_type": "markdown",
   "metadata": {},
   "source": [
    "# Hypothesis 3"
   ]
  },
  {
   "cell_type": "markdown",
   "metadata": {},
   "source": [
    "Null Hypothesis:\n",
    "\n",
    "- The mean years at company of attrited employees is greater than or equal to 3 years\n",
    "\n",
    "Alternative Hypothesis:\n",
    "\n",
    "- The mean years at company of attrited employees is less than 3 years\n",
    "\n",
    "To determine if this is true,a sample of 70 attrited employees was taken at random and their mean years at the comapny was found to be 4.44 years\n",
    "\n",
    "The years at company of attrited employees has a standard deviation of 5.96"
   ]
  },
  {
   "cell_type": "markdown",
   "metadata": {},
   "source": [
    "# Hypothesis 4"
   ]
  },
  {
   "cell_type": "markdown",
   "metadata": {},
   "source": [
    "Null Hypothesis:\n",
    "\n",
    "- The mean age of employees who have not attrited is equal to 38 years\n",
    "\n",
    "Alternative Hypothesis:\n",
    "\n",
    "- The mean age of employees who have not attrited is not equal to 38 years\n",
    "\n",
    "In order to test this claim, a sample of 70 employees who have not attrited was taken at random and their mean age was found to be 36\n",
    "\n",
    "The age of employees who have not attrited has a standard devaition of 8.89"
   ]
  },
  {
   "cell_type": "markdown",
   "metadata": {},
   "source": [
    "# Hypothesis 5"
   ]
  },
  {
   "cell_type": "markdown",
   "metadata": {},
   "source": [
    "Null Hypothesis:\n",
    "\n",
    "- Mean of total working years of attrited employees is less than or equal to 7 years\n",
    "\n",
    "Alternative Hypothesis:\n",
    "\n",
    "- Mean of total working years of attrited employees is greater than 7 years\n",
    "\n",
    "In order to test this claim, a sample of 70 employees who have attrited was taken at random and their mean working years was found to be 8\n",
    "\n",
    "Total working years of attrited employees has a standard deviation of 7.17"
   ]
  },
  {
   "cell_type": "markdown",
   "metadata": {},
   "source": [
    "# Hypothesis 6"
   ]
  },
  {
   "cell_type": "markdown",
   "metadata": {},
   "source": [
    "Null Hypothesis:\n",
    "\n",
    "- The average number of years spent by an attrited employee with current manager is equal to 4\n",
    "\n",
    "Alternative Hypothesis:\n",
    "\n",
    "- The average number of years spent by an attrited employee with current manager is not equal to 4\n",
    "\n",
    "In order to test this claim, a sample of 25 employees who have attrited was taken at random and their average number of years spent with current manager was found to be equal to 2.12\n",
    "\n",
    "The number of years spent by an attrited employee with current manager has a standard deviation of 3.14"
   ]
  },
  {
   "cell_type": "markdown",
   "metadata": {},
   "source": [
    "# Hypothesis 7"
   ]
  },
  {
   "cell_type": "markdown",
   "metadata": {},
   "source": [
    "Null Hypothesis:\n",
    "\n",
    "- The average number of years spent by a non-attrited employee with current manager is greater than or equal to 4\n",
    "\n",
    "Alternative Hypothesis:\n",
    "\n",
    "- The average number of years spent by a non-attrited employee with current manager is less than 4\n",
    "\n",
    "In order to test this claim, a sample of 70 employees who have not attrited was taken at random and their average number of years spent with current manager was found to be equal to 3.80\n",
    "\n",
    "The number of years spent by a non-attrited employee with current manager has a standard deviation of 3.59"
   ]
  },
  {
   "cell_type": "markdown",
   "metadata": {},
   "source": [
    "# Hypothesis 8"
   ]
  },
  {
   "cell_type": "markdown",
   "metadata": {},
   "source": [
    "Null Hypothesis:\n",
    "\n",
    "- The mean pecentage in salary hike of the attrited employees is greater than or equal to 17%\n",
    "\n",
    "Alternative Hypothesis:\n",
    "\n",
    "- The mean pecentage in salary hike of the attrited employees is less than 17\n",
    "\n",
    "In order to test this claim, a sample of 25 employees who have attrited was taken at random and mean pecentage in their salary hike was found to be equal to 16.01%\n",
    "\n",
    "The pecentage in salary hike of the attrited employees has a standard deviation of 3.78"
   ]
  },
  {
   "cell_type": "markdown",
   "metadata": {},
   "source": [
    "# Hypothesis 9"
   ]
  },
  {
   "cell_type": "markdown",
   "metadata": {},
   "source": [
    "Null Hypothesis:\n",
    "\n",
    "- The mean salary of attrited employees who have worked in more than 4 companies is equal to Rs.56,000\n",
    "\n",
    "Alternative Hypothesis:\n",
    "\n",
    "- The mean salary of attrited employees who have worked in more than 4 companies is not equal to Rs.56,000\n",
    "\n",
    "In order to test this claim, a sample of 100 employees who have attrited and worked in more than 4 companies was taken at random and mean salary was found to be Rs 57,955\n",
    "\n",
    "The salary of attrited employees who have worked in more than 4 companies has a standard deviation of 46344"
   ]
  },
  {
   "cell_type": "markdown",
   "metadata": {},
   "source": [
    "# Hypothesis 10"
   ]
  },
  {
   "cell_type": "markdown",
   "metadata": {},
   "source": [
    "Null Hypothesis:\n",
    "\n",
    "- The mean pecentage in salary hike of the attrited employees who took training more than 3 times in the previous year is found to be greater than or equal to 18%\n",
    "\n",
    "Alternative Hypothesis:\n",
    "\n",
    "- The mean pecentage in salary hike of the attrited employees who took training more than 3 times in the previous year is found to be less than 18%\n",
    "\n",
    "In order to test this claim, a sample of 25 employees who have attrited and took training more than 3 times in the previous year was taken at random and their mean percentage in salary hike was found to be 17.28%\n",
    "\n",
    "The pecentage in salary hike of the attrited employees who took training more than 3 times in the previous year has a standard deviation of 4.32"
   ]
  }
 ],
 "metadata": {
  "kernelspec": {
   "display_name": "Python 3",
   "language": "python",
   "name": "python3"
  },
  "language_info": {
   "codemirror_mode": {
    "name": "ipython",
    "version": 3
   },
   "file_extension": ".py",
   "mimetype": "text/x-python",
   "name": "python",
   "nbconvert_exporter": "python",
   "pygments_lexer": "ipython3",
   "version": "3.7.6"
  }
 },
 "nbformat": 4,
 "nbformat_minor": 4
}
