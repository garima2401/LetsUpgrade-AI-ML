{
 "cells": [
  {
   "cell_type": "markdown",
   "metadata": {},
   "source": [
    "# Question 3\n",
    "\n",
    "Create your own Jupyter Notebook for Sets."
   ]
  },
  {
   "cell_type": "markdown",
   "metadata": {},
   "source": [
    "# SETS\n",
    "\n",
    "A set is a collection which is unordered and unindexed.\n",
    "\n",
    "Sets are written in curly braces."
   ]
  },
  {
   "cell_type": "code",
   "execution_count": 1,
   "metadata": {},
   "outputs": [
    {
     "name": "stdout",
     "output_type": "stream",
     "text": [
      "{'Delhi', 'Mumbai', 'Bangalore'}\n"
     ]
    }
   ],
   "source": [
    "# Example for Set\n",
    "\n",
    "set = {\"Bangalore\", \"Mumbai\", \"Delhi\"}\n",
    "print (set)"
   ]
  },
  {
   "cell_type": "markdown",
   "metadata": {},
   "source": [
    "# Access to Set Elements\n",
    "\n",
    "You can not access the elements in the set with the help of index, since sets are unordered, the elements has no index.\n",
    "\n",
    "But with the help of for loop, the elements of the set can be accessed."
   ]
  },
  {
   "cell_type": "code",
   "execution_count": 2,
   "metadata": {},
   "outputs": [
    {
     "name": "stdout",
     "output_type": "stream",
     "text": [
      "Delhi\n",
      "Mumbai\n",
      "Bangalore\n"
     ]
    }
   ],
   "source": [
    "# Example for accessing elements of set\n",
    "\n",
    "set = {\"Bangalore\", \"Mumbai\", \"Delhi\"}\n",
    "\n",
    "for x in set:\n",
    "    print(x)"
   ]
  },
  {
   "cell_type": "markdown",
   "metadata": {},
   "source": [
    "# Change Elements of Set\n",
    "\n",
    "Once a set is created, you cannot change its items, but you can add new items."
   ]
  },
  {
   "cell_type": "markdown",
   "metadata": {},
   "source": [
    "# Add Elements to Set\n",
    "\n",
    "To add one element to a set use the add() method.\n",
    "\n",
    "To add more than one elements to a set use the update() method."
   ]
  },
  {
   "cell_type": "code",
   "execution_count": 3,
   "metadata": {},
   "outputs": [
    {
     "name": "stdout",
     "output_type": "stream",
     "text": [
      "{'Delhi', 'Mumbai', 'Chennai', 'Bangalore'}\n"
     ]
    }
   ],
   "source": [
    "# Adding element in set using add() method\n",
    "\n",
    "set = {\"Bangalore\", \"Mumbai\", \"Delhi\"}\n",
    "\n",
    "set.add(\"Chennai\")\n",
    "\n",
    "print (set)"
   ]
  },
  {
   "cell_type": "code",
   "execution_count": 4,
   "metadata": {},
   "outputs": [
    {
     "name": "stdout",
     "output_type": "stream",
     "text": [
      "{'Mumbai', 'Pune', 'Delhi', 'Chandigarh', 'Bangalore'}\n"
     ]
    }
   ],
   "source": [
    "# Adding elements in set using update() method\n",
    "\n",
    "set = {\"Bangalore\", \"Mumbai\", \"Delhi\"}\n",
    "\n",
    "set.update ([\"Pune\", \"Chandigarh\"])\n",
    "\n",
    "print (set)"
   ]
  },
  {
   "cell_type": "markdown",
   "metadata": {},
   "source": [
    "# Length of Set\n",
    "\n",
    "To identify the length of set, we use len() method."
   ]
  },
  {
   "cell_type": "code",
   "execution_count": 5,
   "metadata": {},
   "outputs": [
    {
     "name": "stdout",
     "output_type": "stream",
     "text": [
      "3\n"
     ]
    }
   ],
   "source": [
    "# Finding length of set using len() method\n",
    "\n",
    "set = {\"Bangalore\", \"Mumbai\", \"Delhi\"}\n",
    "\n",
    "print (len(set))"
   ]
  },
  {
   "cell_type": "markdown",
   "metadata": {},
   "source": [
    "# Remove element from Set\n",
    "\n",
    "If you want to remove an element from the set, you can use remove() or discard() method."
   ]
  },
  {
   "cell_type": "code",
   "execution_count": 6,
   "metadata": {},
   "outputs": [
    {
     "name": "stdout",
     "output_type": "stream",
     "text": [
      "{'Delhi', 'Bangalore'}\n"
     ]
    }
   ],
   "source": [
    "# Removing element from set using remove() method\n",
    "\n",
    "set = {\"Bangalore\", \"Mumbai\", \"Delhi\"}\n",
    "\n",
    "set.remove(\"Mumbai\")\n",
    "\n",
    "print (set)"
   ]
  },
  {
   "cell_type": "code",
   "execution_count": 8,
   "metadata": {},
   "outputs": [
    {
     "name": "stdout",
     "output_type": "stream",
     "text": [
      "{'Delhi', 'Bangalore'}\n"
     ]
    }
   ],
   "source": [
    "# Removing element from set using discard() method\n",
    "\n",
    "set = {\"Bangalore\", \"Mumbai\", \"Delhi\"}\n",
    "\n",
    "set.discard(\"Mumbai\")\n",
    "\n",
    "print (set)"
   ]
  },
  {
   "cell_type": "markdown",
   "metadata": {},
   "source": [
    "Along with remove() and discard(), to remove an element from the set, we can also use pop() method."
   ]
  },
  {
   "cell_type": "code",
   "execution_count": 9,
   "metadata": {},
   "outputs": [
    {
     "name": "stdout",
     "output_type": "stream",
     "text": [
      "Delhi\n",
      "{'Mumbai', 'Bangalore'}\n"
     ]
    }
   ],
   "source": [
    "# Removing element from set using pop() method\n",
    "\n",
    "set = {\"Bangalore\", \"Mumbai\", \"Delhi\"}\n",
    "\n",
    "a = set.pop()\n",
    "\n",
    "print (a)\n",
    "\n",
    "print (set)"
   ]
  },
  {
   "cell_type": "code",
   "execution_count": 10,
   "metadata": {},
   "outputs": [
    {
     "name": "stdout",
     "output_type": "stream",
     "text": [
      "set()\n"
     ]
    }
   ],
   "source": [
    "# Removing all elements from set using clear() method\n",
    "\n",
    "set = {\"Bangalore\", \"Mumbai\", \"Delhi\"}\n",
    "set.clear()\n",
    "\n",
    "print(set)\n"
   ]
  },
  {
   "cell_type": "markdown",
   "metadata": {},
   "source": [
    "# Join Two Sets\n",
    "\n",
    "You can use the union() method that returns a new set containing all elements from both sets, or the update() method that inserts all the elements from one set into another."
   ]
  },
  {
   "cell_type": "code",
   "execution_count": 11,
   "metadata": {},
   "outputs": [
    {
     "name": "stdout",
     "output_type": "stream",
     "text": [
      "{'Chennai', 'Mysore', 'Delhi', 'Mumbai', 'Chandigarh', 'Bangalore'}\n"
     ]
    }
   ],
   "source": [
    "# Joining two sets using union() methods\n",
    "\n",
    "set1 = {\"Bangalore\", \"Mumbai\", \"Delhi\"}\n",
    "set2 = {\"Chandigarh\", \"Chennai\", \"Mysore\"}\n",
    "\n",
    "set3 = set1.union(set2)\n",
    "\n",
    "print (set3)"
   ]
  },
  {
   "cell_type": "code",
   "execution_count": 13,
   "metadata": {},
   "outputs": [
    {
     "name": "stdout",
     "output_type": "stream",
     "text": [
      "{'Chennai', 'Mysore', 'Delhi', 'Mumbai', 'Chandigarh', 'Bangalore'}\n"
     ]
    }
   ],
   "source": [
    "# Joining two sets using update() methods\n",
    "\n",
    "set1 = {\"Bangalore\", \"Mumbai\", \"Delhi\"}\n",
    "set2 = {\"Chandigarh\", \"Chennai\", \"Mysore\"}\n",
    "\n",
    "set1.update(set2)\n",
    "\n",
    "print (set1)"
   ]
  },
  {
   "cell_type": "markdown",
   "metadata": {},
   "source": [
    "# The Set() Constructor\n",
    "\n",
    "It is also possible to use the set() constructor to make a set."
   ]
  },
  {
   "cell_type": "code",
   "execution_count": 14,
   "metadata": {},
   "outputs": [
    {
     "name": "stdout",
     "output_type": "stream",
     "text": [
      "('Bangalore', 'Mumbai', 'Delhi')\n"
     ]
    }
   ],
   "source": [
    "# Constructing set() using set() constructor\n",
    "\n",
    "set = ((\"Bangalore\", \"Mumbai\", \"Delhi\"))\n",
    "\n",
    "print (set)"
   ]
  },
  {
   "cell_type": "markdown",
   "metadata": {},
   "source": [
    "# Sets in-built Methods\n",
    "\n",
    "Python has a set of built-in methods that you can use on sets."
   ]
  },
  {
   "cell_type": "code",
   "execution_count": 1,
   "metadata": {},
   "outputs": [
    {
     "name": "stdout",
     "output_type": "stream",
     "text": [
      "{'Mumbai', 'Delhi', 'Chennai', 'Bangalore'}\n"
     ]
    }
   ],
   "source": [
    "# Python in-built add() method\n",
    "\n",
    "set = {\"Bangalore\", \"Mumbai\", \"Delhi\"}\n",
    "\n",
    "set.add(\"Chennai\")\n",
    "\n",
    "print (set)"
   ]
  },
  {
   "cell_type": "code",
   "execution_count": 2,
   "metadata": {},
   "outputs": [
    {
     "name": "stdout",
     "output_type": "stream",
     "text": [
      "set()\n"
     ]
    }
   ],
   "source": [
    "# Python in-built clear() method\n",
    "\n",
    "set = {\"Bangalore\", \"Mumbai\", \"Delhi\"}\n",
    "set.clear()\n",
    "\n",
    "print(set)\n"
   ]
  },
  {
   "cell_type": "code",
   "execution_count": 3,
   "metadata": {},
   "outputs": [
    {
     "name": "stdout",
     "output_type": "stream",
     "text": [
      "{'Mumbai', 'Delhi', 'Bangalore'}\n"
     ]
    }
   ],
   "source": [
    "# Python in-built copy() method\n",
    "\n",
    "set = {\"Bangalore\", \"Mumbai\", \"Delhi\"}\n",
    "set.copy()\n",
    "\n",
    "print (set)"
   ]
  },
  {
   "cell_type": "code",
   "execution_count": 5,
   "metadata": {},
   "outputs": [
    {
     "name": "stdout",
     "output_type": "stream",
     "text": [
      "{'Delhi', 'Bangalore'}\n"
     ]
    }
   ],
   "source": [
    "# Python in-built difference() method\n",
    "\n",
    "set1 = {\"Bangalore\", \"Mumbai\", \"Delhi\"}\n",
    "set2 = {\"Mumbai\", \"Chandigarh\", \"Mysore\"}\n",
    "\n",
    "set3 = set1.difference(set2)\n",
    "\n",
    "print (set3)"
   ]
  },
  {
   "cell_type": "code",
   "execution_count": 7,
   "metadata": {},
   "outputs": [
    {
     "name": "stdout",
     "output_type": "stream",
     "text": [
      "{'Delhi', 'Bangalore'}\n"
     ]
    }
   ],
   "source": [
    "# Python in-built difference_update() method\n",
    "\n",
    "set1 = {\"Bangalore\", \"Mumbai\", \"Delhi\"}\n",
    "set2 = {\"Mumbai\", \"Chandigarh\", \"Mysore\"}\n",
    "\n",
    "set1.difference_update(set2)\n",
    "\n",
    "print (set1)"
   ]
  },
  {
   "cell_type": "code",
   "execution_count": 8,
   "metadata": {},
   "outputs": [
    {
     "name": "stdout",
     "output_type": "stream",
     "text": [
      "{'Delhi', 'Bangalore'}\n"
     ]
    }
   ],
   "source": [
    "# Python in-built discard() method\n",
    "\n",
    "set = {\"Bangalore\", \"Mumbai\", \"Delhi\"}\n",
    "\n",
    "set.discard(\"Mumbai\")\n",
    "\n",
    "print (set)"
   ]
  },
  {
   "cell_type": "code",
   "execution_count": 9,
   "metadata": {},
   "outputs": [
    {
     "name": "stdout",
     "output_type": "stream",
     "text": [
      "{'Mumbai'}\n"
     ]
    }
   ],
   "source": [
    "# Python in-built intersection() method\n",
    "\n",
    "set1 = {\"Bangalore\", \"Mumbai\", \"Delhi\"}\n",
    "set2 = {\"Mumbai\", \"Chandigarh\", \"Mysore\"}\n",
    "\n",
    "set3 = set1.intersection(set2)\n",
    "\n",
    "print (set3)"
   ]
  },
  {
   "cell_type": "code",
   "execution_count": 10,
   "metadata": {},
   "outputs": [
    {
     "name": "stdout",
     "output_type": "stream",
     "text": [
      "{'Mumbai'}\n"
     ]
    }
   ],
   "source": [
    "# Python in-built intersection_update() method\n",
    "\n",
    "\n",
    "set1 = {\"Bangalore\", \"Mumbai\", \"Delhi\"}\n",
    "set2 = {\"Mumbai\", \"Chandigarh\", \"Mysore\"}\n",
    "\n",
    "set1.intersection_update(set2)\n",
    "\n",
    "print (set1)"
   ]
  },
  {
   "cell_type": "code",
   "execution_count": 12,
   "metadata": {},
   "outputs": [
    {
     "name": "stdout",
     "output_type": "stream",
     "text": [
      "False\n"
     ]
    }
   ],
   "source": [
    "#Python in-built isdisjoint() method\n",
    "\n",
    "set1 = {\"Bangalore\", \"Mumbai\", \"Delhi\"}\n",
    "set2 = {\"Mumbai\", \"Chandigarh\", \"Mysore\"}\n",
    "\n",
    "set3 = set1.isdisjoint(set2)\n",
    "\n",
    "print (set3)"
   ]
  },
  {
   "cell_type": "code",
   "execution_count": 13,
   "metadata": {},
   "outputs": [
    {
     "name": "stdout",
     "output_type": "stream",
     "text": [
      "False\n"
     ]
    }
   ],
   "source": [
    "# Python in-built issubset() method\n",
    "\n",
    "set1 = {\"Bangalore\", \"Mumbai\", \"Delhi\"}\n",
    "set2 = {\"Mumbai\", \"Chandigarh\", \"Mysore\"}\n",
    "\n",
    "set3 = set1.issubset(set2)\n",
    "\n",
    "print (set3)"
   ]
  },
  {
   "cell_type": "code",
   "execution_count": 14,
   "metadata": {},
   "outputs": [
    {
     "name": "stdout",
     "output_type": "stream",
     "text": [
      "False\n"
     ]
    }
   ],
   "source": [
    "# Python in-built issuperset() method\n",
    "\n",
    "set1 = {\"Bangalore\", \"Mumbai\", \"Delhi\"}\n",
    "set2 = {\"Mumbai\", \"Chandigarh\", \"Mysore\"}\n",
    "\n",
    "set3 = set1.issuperset(set2)\n",
    "\n",
    "print (set3)"
   ]
  },
  {
   "cell_type": "code",
   "execution_count": 15,
   "metadata": {},
   "outputs": [
    {
     "name": "stdout",
     "output_type": "stream",
     "text": [
      "Mumbai\n",
      "{'Delhi', 'Bangalore'}\n"
     ]
    }
   ],
   "source": [
    "# Python in-built pop() method\n",
    "\n",
    "set = {\"Bangalore\", \"Mumbai\", \"Delhi\"}\n",
    "\n",
    "a = set.pop()\n",
    "\n",
    "print (a)\n",
    "\n",
    "print (set)"
   ]
  },
  {
   "cell_type": "code",
   "execution_count": 16,
   "metadata": {},
   "outputs": [
    {
     "name": "stdout",
     "output_type": "stream",
     "text": [
      "{'Delhi', 'Bangalore'}\n"
     ]
    }
   ],
   "source": [
    "# Python in-built remove() method\n",
    "\n",
    "set = {\"Bangalore\", \"Mumbai\", \"Delhi\"}\n",
    "\n",
    "set.remove(\"Mumbai\")\n",
    "\n",
    "print (set)"
   ]
  },
  {
   "cell_type": "code",
   "execution_count": 17,
   "metadata": {},
   "outputs": [
    {
     "name": "stdout",
     "output_type": "stream",
     "text": [
      "{'Chandigarh', 'Mysore', 'Delhi', 'Bangalore'}\n"
     ]
    }
   ],
   "source": [
    "# Python in-built symmetric_difference() method\n",
    "\n",
    "set1 = {\"Bangalore\", \"Mumbai\", \"Delhi\"}\n",
    "set2 = {\"Mumbai\", \"Chandigarh\", \"Mysore\"}\n",
    "\n",
    "set3 = set1.symmetric_difference(set2)\n",
    "\n",
    "print (set3)"
   ]
  },
  {
   "cell_type": "code",
   "execution_count": 20,
   "metadata": {},
   "outputs": [
    {
     "name": "stdout",
     "output_type": "stream",
     "text": [
      "{'Chandigarh', 'Mysore', 'Delhi', 'Bangalore'}\n"
     ]
    }
   ],
   "source": [
    "# Python in-built symmetric_difference_update() method\n",
    "\n",
    "set1 = {\"Bangalore\", \"Mumbai\", \"Delhi\"}\n",
    "set2 = {\"Mumbai\", \"Chandigarh\", \"Mysore\"}\n",
    "\n",
    "set1.symmetric_difference_update(set2)\n",
    "\n",
    "print (set1)"
   ]
  },
  {
   "cell_type": "code",
   "execution_count": 21,
   "metadata": {},
   "outputs": [
    {
     "name": "stdout",
     "output_type": "stream",
     "text": [
      "{'Mumbai', 'Chandigarh', 'Mysore', 'Delhi', 'Chennai', 'Bangalore'}\n"
     ]
    }
   ],
   "source": [
    "# Python in-built union() method\n",
    "\n",
    "set1 = {\"Bangalore\", \"Mumbai\", \"Delhi\"}\n",
    "set2 = {\"Chandigarh\", \"Chennai\", \"Mysore\"}\n",
    "\n",
    "set3 = set1.union(set2)\n",
    "\n",
    "print (set3)"
   ]
  },
  {
   "cell_type": "code",
   "execution_count": 23,
   "metadata": {},
   "outputs": [
    {
     "name": "stdout",
     "output_type": "stream",
     "text": [
      "{'Mumbai', 'Chandigarh', 'Mysore', 'Delhi', 'Chennai', 'Bangalore'}\n"
     ]
    }
   ],
   "source": [
    "# Python in-built update() method\n",
    "\n",
    "set1 = {\"Bangalore\", \"Mumbai\", \"Delhi\"}\n",
    "set2 = {\"Chandigarh\", \"Chennai\", \"Mysore\"}\n",
    "\n",
    "set1.update(set2)\n",
    "\n",
    "print (set1)"
   ]
  }
 ],
 "metadata": {
  "kernelspec": {
   "display_name": "Python 3",
   "language": "python",
   "name": "python3"
  },
  "language_info": {
   "codemirror_mode": {
    "name": "ipython",
    "version": 3
   },
   "file_extension": ".py",
   "mimetype": "text/x-python",
   "name": "python",
   "nbconvert_exporter": "python",
   "pygments_lexer": "ipython3",
   "version": "3.7.6"
  }
 },
 "nbformat": 4,
 "nbformat_minor": 4
}
