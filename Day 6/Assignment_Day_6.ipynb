{
  "nbformat": 4,
  "nbformat_minor": 0,
  "metadata": {
    "colab": {
      "name": "Assignment Day 6.ipynb",
      "provenance": []
    },
    "kernelspec": {
      "name": "python3",
      "display_name": "Python 3"
    }
  },
  "cells": [
    {
      "cell_type": "markdown",
      "metadata": {
        "id": "xxCDyL3G9xRJ",
        "colab_type": "text"
      },
      "source": [
        "**Question 1**\n",
        "\n",
        "Assuming that we have some email addresses in the \"username@companyname.com\" format, please write program\n",
        "to print the company name of a given email address. Both user names and company names are composed of letters\n",
        "only.\n",
        "\n",
        "Input Format:\n",
        "\n",
        "The first line of the input contains an email address.\n",
        "\n",
        "Output Format:\n",
        "\n",
        "Print the company name in single line.\n",
        "\n",
        "Example;\n",
        "\n",
        "Input:\n",
        "\n",
        "john@google.com\n",
        "\n",
        "Output:\n",
        "\n",
        "google\n"
      ]
    },
    {
      "cell_type": "code",
      "metadata": {
        "id": "wNT4tu5p9sO4",
        "colab_type": "code",
        "colab": {
          "base_uri": "https://localhost:8080/",
          "height": 67
        },
        "outputId": "cb06ec7a-6050-4550-985f-3aba240cc330"
      },
      "source": [
        "import re\n",
        "a = input(\"Enter the email address of the company: \\n\")\n",
        "\n",
        "r = \"(\\w+)@(\\w+)+(\\.com)\"\n",
        "\n",
        "x = re.match(r,a)\n",
        "\n",
        "print (\"The Company name of given email address is - \",x.group(2))"
      ],
      "execution_count": 7,
      "outputs": [
        {
          "output_type": "stream",
          "text": [
            "Enter the email address of the company: \n",
            "hi@ola.com\n",
            "The Company name of given email address is -  ola\n"
          ],
          "name": "stdout"
        }
      ]
    },
    {
      "cell_type": "markdown",
      "metadata": {
        "id": "mCGY4Ww4H1OK",
        "colab_type": "text"
      },
      "source": [
        "**Question 2**\n",
        "\n",
        "Write a program that accepts a comma-separated sequence of words as input and prints the words in a comma\n",
        "separated sequence after sorting them alphabetically.\n",
        "\n",
        "Input Format:\n",
        "\n",
        "The first line of input contains words separated by the comma.\n",
        "\n",
        "Output Format:\n",
        "\n",
        "Print the sorted words separated by the comma.\n",
        "\n",
        "Example:\n",
        "\n",
        "Input:\n",
        "\n",
        "without,hello,bag,world\n",
        "\n",
        "Output:\n",
        "\n",
        "bag,hello,without,world"
      ]
    },
    {
      "cell_type": "code",
      "metadata": {
        "id": "PFnjrxPILyFY",
        "colab_type": "code",
        "colab": {
          "base_uri": "https://localhost:8080/",
          "height": 84
        },
        "outputId": "e687fcb6-1a56-457e-ad13-61c7d8f6abd2"
      },
      "source": [
        "a = input(\"Enter the words to be separated: \\n\").split(',')\n",
        "words = [i for i in a]\n",
        "words.sort()\n",
        "\n",
        "print(\"The words after sorting alphabetically are:\")\n",
        "print(','.join(words))"
      ],
      "execution_count": 3,
      "outputs": [
        {
          "output_type": "stream",
          "text": [
            "Enter the words to be separated: \n",
            "hi, hey, boy, art, good\n",
            "The words after sorting alphabetically are:\n",
            " art, boy, good, hey,hi\n"
          ],
          "name": "stdout"
        }
      ]
    },
    {
      "cell_type": "markdown",
      "metadata": {
        "id": "kR8LcjLhMI4B",
        "colab_type": "text"
      },
      "source": [
        "**Question 3**\n",
        "\n",
        "Create your own Jupyter Notebook for Sets."
      ]
    },
    {
      "cell_type": "markdown",
      "metadata": {
        "id": "UZPHDx5IXPNH",
        "colab_type": "text"
      },
      "source": [
        "The Jupyter notebook for this question has been created separately and uploaded in the same folder along with this notebook."
      ]
    },
    {
      "cell_type": "markdown",
      "metadata": {
        "id": "Wmd0tn9UXczM",
        "colab_type": "text"
      },
      "source": [
        "**Question 4**\n",
        "\n",
        "Given a list of n-1 numbers ranging from 1 to n, your task is to find the missing number. There are no duplicates.\n",
        "\n",
        "Input Format:\n",
        "\n",
        "The first line contains n-1 numbers with each number separated by a space.\n",
        "\n",
        "Output Format:\n",
        "\n",
        "Print the missing number\n",
        "\n",
        "Example:\n",
        "\n",
        "Input:1 2 4 6 3 7 8\n",
        "\n",
        "Output:5\n",
        "\n",
        "Explanation:\n",
        "\n",
        "In the above list of numbers 5 is missing and hence 5 is the input\n"
      ]
    },
    {
      "cell_type": "code",
      "metadata": {
        "id": "l4DMVENUXsHF",
        "colab_type": "code",
        "colab": {
          "base_uri": "https://localhost:8080/",
          "height": 67
        },
        "outputId": "95d9a9ba-8a08-45d2-86a7-2a60a9b21659"
      },
      "source": [
        "x = list(map(int,input(\"Input the value of the list: \\n\").split()))\n",
        "\n",
        "for i in range(x[0], x[-1]+1):\n",
        "  if i not in x:\n",
        "    print (\"THe missing value from list is: \", i)"
      ],
      "execution_count": 2,
      "outputs": [
        {
          "output_type": "stream",
          "text": [
            "Input the value of the list: \n",
            "1 2 3 4 6 7\n",
            "THe missing value from list is:  5\n"
          ],
          "name": "stdout"
        }
      ]
    },
    {
      "cell_type": "markdown",
      "metadata": {
        "id": "clhh81GuDNnA",
        "colab_type": "text"
      },
      "source": [
        "**Question 5**\n",
        "\n",
        "With a given list L, write a program to print this list L after removing all duplicate values with original order reserved.\n",
        "\n",
        "Example:\n",
        "\n",
        "If the input list is\n",
        "12 24 35 24 88 120 155 88 120 155\n",
        "\n",
        "Then the output should be\n",
        "\n",
        "12 24 35 88 120 155\n",
        "\n",
        "Explanation:\n",
        "\n",
        "Third, seventh and ninth element of the list L has been removed because it was already present.\n",
        "\n",
        "Input Format:\n",
        "\n",
        "In one line take the elements of the list L with each element separated by a space.\n",
        "\n",
        "Output Format:\n",
        "\n",
        "Print the elements of the modified list in one line with each element separated by a space.\n",
        "\n",
        "Example:\n",
        "\n",
        "Input: 12 24 35 24\n",
        "\n",
        "Output:\n",
        "12 24 35"
      ]
    },
    {
      "cell_type": "code",
      "metadata": {
        "id": "MCZ7abl6DhPd",
        "colab_type": "code",
        "colab": {
          "base_uri": "https://localhost:8080/",
          "height": 84
        },
        "outputId": "a431ad1c-eddb-45fe-fb18-1bc2cbb14924"
      },
      "source": [
        "list1 = [10, 11, 12, 13, 14, 15, 14, 13, 12, 11, 10]\n",
        "\n",
        "list2 = []\n",
        "\n",
        "for n in list1:\n",
        "  if n not in list2:\n",
        "    list2.append(n)\n",
        "\n",
        "print (\"Original List is: \\n\", list1)\n",
        "\n",
        "print (\"The list after removing duplicate elements is: \\n\", list2)"
      ],
      "execution_count": 3,
      "outputs": [
        {
          "output_type": "stream",
          "text": [
            "Original List is: \n",
            " [10, 11, 12, 13, 14, 15, 14, 13, 12, 11, 10]\n",
            "The list after removing duplicate elements is: \n",
            " [10, 11, 12, 13, 14, 15]\n"
          ],
          "name": "stdout"
        }
      ]
    }
  ]
}