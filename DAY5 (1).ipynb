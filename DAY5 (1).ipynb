{
 "cells": [
  {
   "cell_type": "markdown",
   "metadata": {
    "colab_type": "text",
    "id": "DDE8xg8LAweM"
   },
   "source": [
    "**Question 1**\n",
    "\n",
    "Write a Python program to find the first 20 non-even prime natural numbers.\n"
   ]
  },
  {
   "cell_type": "code",
   "execution_count": 3,
   "metadata": {
    "colab": {
     "base_uri": "https://localhost:8080/",
     "height": 129
    },
    "colab_type": "code",
    "id": "9KMOFtUiAqfv",
    "outputId": "35142829-c598-41fa-f9fe-ba8a533d3555"
   },
   "outputs": [
    {
     "name": "stdout",
     "output_type": "stream",
     "text": [
      "How many prime numbers would you like to print? \n",
      "20\n",
      "\n",
      "Here are the first 20 non-even prime numbers: \n",
      "\n",
      "3 5 7 11 13 17 19 23 29 31 37 41 43 47 53 59 61 67 71 73 "
     ]
    }
   ],
   "source": [
    "n = int(input(\"How many prime numbers would you like to print? \\n\"))\n",
    "no = range(1, n*10)\n",
    "prime_no = []\n",
    "\n",
    "for num in no:\n",
    "    if num > 2 and len(prime_no) <= n-1:\n",
    "        for i in range(2, num):\n",
    "            if (num % i) == 0:\n",
    "                break\n",
    "                \n",
    "        else:\n",
    "            prime_no.append(num)\n",
    "            \n",
    "print (\"\\nHere are the first\", n, \"non-even prime numbers: \\n\")\n",
    "for x in prime_no:\n",
    "    print (x, end=\" \")"
   ]
  },
  {
   "cell_type": "markdown",
   "metadata": {
    "colab_type": "text",
    "id": "eY6Evf3WQSno"
   },
   "source": [
    "**Question 2**\n",
    "\n",
    "Write a Python program to implement 15 functions of string."
   ]
  },
  {
   "cell_type": "markdown",
   "metadata": {
    "colab_type": "text",
    "id": "CU7xgmiXo_0z"
   },
   "source": [
    "Here, below are 15 String functions in Python.\n",
    "\n",
    "I have consider a string str.\n",
    "\n",
    "The String function used are-\n",
    "\n",
    "1. capitalize()\n",
    "\n",
    "2. casefold()\n",
    "\n",
    "3. count()\n",
    "\n",
    "4. endswith()\n",
    "\n",
    "5. index()\n",
    "\n",
    "6. isalnum()\n",
    "\n",
    "7. isalpha()\n",
    "\n",
    "8. isdecimal()\n",
    "\n",
    "9. isprintable()\n",
    "\n",
    "10. isnumeric()\n",
    "\n",
    "11. upper()\n",
    "\n",
    "12. swapcase()\n",
    "\n",
    "13. startswith()\n",
    "\n",
    "14. split()\n",
    "\n",
    "15. isdigit()"
   ]
  },
  {
   "cell_type": "code",
   "execution_count": 7,
   "metadata": {
    "colab": {},
    "colab_type": "code",
    "id": "e5WpRTYJQarR"
   },
   "outputs": [],
   "source": [
    "str = \"welcome and Enjoy the visit\""
   ]
  },
  {
   "cell_type": "code",
   "execution_count": 8,
   "metadata": {
    "colab": {
     "base_uri": "https://localhost:8080/",
     "height": 36
    },
    "colab_type": "code",
    "id": "cgK89iw3pqGL",
    "outputId": "2106a3d0-4858-42bd-88e3-4dd77f4d50b3"
   },
   "outputs": [
    {
     "name": "stdout",
     "output_type": "stream",
     "text": [
      "Welcome and enjoy the visit\n"
     ]
    }
   ],
   "source": [
    "a = str.capitalize()\n",
    "print (a)"
   ]
  },
  {
   "cell_type": "code",
   "execution_count": 9,
   "metadata": {
    "colab": {
     "base_uri": "https://localhost:8080/",
     "height": 36
    },
    "colab_type": "code",
    "id": "PWkKyr5Kp9-W",
    "outputId": "61d6efd4-d0a1-4421-8544-2ed819404b97"
   },
   "outputs": [
    {
     "name": "stdout",
     "output_type": "stream",
     "text": [
      "welcome and enjoy the visit\n"
     ]
    }
   ],
   "source": [
    "a = str.casefold()\n",
    "print(a)"
   ]
  },
  {
   "cell_type": "code",
   "execution_count": 10,
   "metadata": {
    "colab": {
     "base_uri": "https://localhost:8080/",
     "height": 36
    },
    "colab_type": "code",
    "id": "Qn52kJxfrpYp",
    "outputId": "0c75e180-ac17-40a1-8924-365de353c589"
   },
   "outputs": [
    {
     "name": "stdout",
     "output_type": "stream",
     "text": [
      "0\n"
     ]
    }
   ],
   "source": [
    "a = str.count(\"hello\")\n",
    "print(a)"
   ]
  },
  {
   "cell_type": "code",
   "execution_count": 11,
   "metadata": {
    "colab": {
     "base_uri": "https://localhost:8080/",
     "height": 36
    },
    "colab_type": "code",
    "id": "KZwg_9Y3si32",
    "outputId": "778042a8-6d54-4d86-9f4a-e1de4ab92862"
   },
   "outputs": [
    {
     "name": "stdout",
     "output_type": "stream",
     "text": [
      "False\n"
     ]
    }
   ],
   "source": [
    "a = str.endswith(\"e\")\n",
    "print (a)"
   ]
  },
  {
   "cell_type": "code",
   "execution_count": 13,
   "metadata": {
    "colab": {
     "base_uri": "https://localhost:8080/",
     "height": 36
    },
    "colab_type": "code",
    "id": "N9bVFgKNsPNZ",
    "outputId": "41220fd8-7ad7-4681-c2f8-cbb613468f67"
   },
   "outputs": [
    {
     "name": "stdout",
     "output_type": "stream",
     "text": [
      "0\n"
     ]
    }
   ],
   "source": [
    "a = str.index(\"welcome\")\n",
    "print (a)"
   ]
  },
  {
   "cell_type": "code",
   "execution_count": 14,
   "metadata": {
    "colab": {
     "base_uri": "https://localhost:8080/",
     "height": 36
    },
    "colab_type": "code",
    "id": "D9LDHNaMuBa0",
    "outputId": "38ca4380-b483-4a44-96b2-b9361748906c"
   },
   "outputs": [
    {
     "name": "stdout",
     "output_type": "stream",
     "text": [
      "False\n"
     ]
    }
   ],
   "source": [
    "a = str.isalnum()\n",
    "print (a)"
   ]
  },
  {
   "cell_type": "code",
   "execution_count": 15,
   "metadata": {
    "colab": {
     "base_uri": "https://localhost:8080/",
     "height": 36
    },
    "colab_type": "code",
    "id": "6AnXN9n_unn1",
    "outputId": "43444e0e-a05f-4572-88b2-c56ab74cc81f"
   },
   "outputs": [
    {
     "name": "stdout",
     "output_type": "stream",
     "text": [
      "False\n"
     ]
    }
   ],
   "source": [
    "a = str.isalpha()\n",
    "print (a)"
   ]
  },
  {
   "cell_type": "code",
   "execution_count": 16,
   "metadata": {
    "colab": {
     "base_uri": "https://localhost:8080/",
     "height": 36
    },
    "colab_type": "code",
    "id": "xEgRy-Lgu9Ya",
    "outputId": "b86450ca-3ef3-465b-b07c-e3e6d8542caa"
   },
   "outputs": [
    {
     "name": "stdout",
     "output_type": "stream",
     "text": [
      "False\n"
     ]
    }
   ],
   "source": [
    "a = str.isdecimal()\n",
    "print (a)"
   ]
  },
  {
   "cell_type": "code",
   "execution_count": 17,
   "metadata": {
    "colab": {
     "base_uri": "https://localhost:8080/",
     "height": 36
    },
    "colab_type": "code",
    "id": "1GhH7yXJviTC",
    "outputId": "de8dcea1-12b9-464e-df74-9e9c9c26c956"
   },
   "outputs": [
    {
     "name": "stdout",
     "output_type": "stream",
     "text": [
      "True\n"
     ]
    }
   ],
   "source": [
    "a = str.isprintable()\n",
    "print (a)"
   ]
  },
  {
   "cell_type": "code",
   "execution_count": 30,
   "metadata": {
    "colab": {
     "base_uri": "https://localhost:8080/",
     "height": 36
    },
    "colab_type": "code",
    "id": "fLXUxNZfv9pp",
    "outputId": "255af528-4c60-4cd6-c415-03b3a27ae6e1"
   },
   "outputs": [
    {
     "name": "stdout",
     "output_type": "stream",
     "text": [
      "False\n"
     ]
    }
   ],
   "source": [
    "a = str.isnumeric()\n",
    "print (a)"
   ]
  },
  {
   "cell_type": "code",
   "execution_count": 18,
   "metadata": {
    "colab": {
     "base_uri": "https://localhost:8080/",
     "height": 36
    },
    "colab_type": "code",
    "id": "4r7k6dUXXsjP",
    "outputId": "004c8470-1773-434a-aa0e-ff33aecdbb45"
   },
   "outputs": [
    {
     "name": "stdout",
     "output_type": "stream",
     "text": [
      "WELCOME AND ENJOY THE VISIT\n"
     ]
    }
   ],
   "source": [
    "a = str.upper()\n",
    "print (a)"
   ]
  },
  {
   "cell_type": "code",
   "execution_count": 19,
   "metadata": {
    "colab": {
     "base_uri": "https://localhost:8080/",
     "height": 36
    },
    "colab_type": "code",
    "id": "zcT5Mo2_Yqj6",
    "outputId": "ec6d4203-c7b7-402a-a252-fb1dbb11ee4c"
   },
   "outputs": [
    {
     "name": "stdout",
     "output_type": "stream",
     "text": [
      "WELCOME AND eNJOY THE VISIT\n"
     ]
    }
   ],
   "source": [
    "a = str.swapcase()\n",
    "print (a)"
   ]
  },
  {
   "cell_type": "code",
   "execution_count": 20,
   "metadata": {
    "colab": {
     "base_uri": "https://localhost:8080/",
     "height": 36
    },
    "colab_type": "code",
    "id": "n3F8mhV4ZArW",
    "outputId": "5f882b94-e3dc-4358-bc2d-09f465719246"
   },
   "outputs": [
    {
     "name": "stdout",
     "output_type": "stream",
     "text": [
      "False\n"
     ]
    }
   ],
   "source": [
    "a = str.startswith(\"hello\")\n",
    "print (a)"
   ]
  },
  {
   "cell_type": "code",
   "execution_count": 21,
   "metadata": {
    "colab": {
     "base_uri": "https://localhost:8080/",
     "height": 36
    },
    "colab_type": "code",
    "id": "JMK8BLlrZdDM",
    "outputId": "e163391b-419b-4b0f-b1e1-9c1d3bcf931b"
   },
   "outputs": [
    {
     "name": "stdout",
     "output_type": "stream",
     "text": [
      "['welcome', 'and', 'Enjoy', 'the', 'visit']\n"
     ]
    }
   ],
   "source": [
    "a = str.split()\n",
    "print (a)"
   ]
  },
  {
   "cell_type": "code",
   "execution_count": 22,
   "metadata": {
    "colab": {
     "base_uri": "https://localhost:8080/",
     "height": 36
    },
    "colab_type": "code",
    "id": "7tv0j_rQZkk5",
    "outputId": "7a321d50-aac9-449f-bf08-16d268b3f9bf"
   },
   "outputs": [
    {
     "name": "stdout",
     "output_type": "stream",
     "text": [
      "False\n"
     ]
    }
   ],
   "source": [
    "a = str.isdigit()\n",
    "print (a)"
   ]
  },
  {
   "cell_type": "markdown",
   "metadata": {
    "colab_type": "text",
    "id": "valilPESQbim"
   },
   "source": [
    "**Question 3**\n",
    "\n",
    "Write a Python program to check if the given string is a Palindrome or Anagram or None of them.\n",
    "\n",
    "Display the message accordingly to the user.\n"
   ]
  },
  {
   "cell_type": "code",
   "execution_count": 1,
   "metadata": {
    "colab": {
     "base_uri": "https://localhost:8080/",
     "height": 73
    },
    "colab_type": "code",
    "id": "ipcZMLt6Qin-",
    "outputId": "70afdcbc-21f5-49fb-b629-78bbe48d4482"
   },
   "outputs": [
    {
     "name": "stdout",
     "output_type": "stream",
     "text": [
      "Enter 1st string: Garima\n",
      "Enter 2nd string: Chitre\n",
      "The string is neither anagram nor palindrome.\n"
     ]
    }
   ],
   "source": [
    "a = str(input(\"Enter 1st string: \"))\n",
    "b = str(input(\"Enter 2nd string: \"))\n",
    "\n",
    "def nature():\n",
    "  if sorted(a) == sorted(b):\n",
    "    print (\"Entered string is a anagram.\")\n",
    "\n",
    "  if a == a[::-1]:\n",
    "    print (\"The entered string is a palindrome.\")\n",
    "\n",
    "  else:\n",
    "    print (\"The string is neither anagram nor palindrome.\")\n",
    "nature()"
   ]
  },
  {
   "cell_type": "markdown",
   "metadata": {
    "colab_type": "text",
    "id": "e0ijhpIWSK4X"
   },
   "source": [
    "**Question 4**\n",
    "\n",
    "Write a Python's user defined function that removes all the additional characters from the string\n",
    "and converts it finally to lower case using built-in lower(). eg: If the string is \"Dr. Darshan Ingle\n",
    "@AI-ML Trainer\", then the output be \"drdarshaningle aimltrainer\"."
   ]
  },
  {
   "cell_type": "code",
   "execution_count": 11,
   "metadata": {
    "colab": {
     "base_uri": "https://localhost:8080/",
     "height": 36
    },
    "colab_type": "code",
    "id": "DYLhpeqXSi7B",
    "outputId": "2799020f-a2a3-4b7d-d4ea-4b66df40c139"
   },
   "outputs": [
    {
     "name": "stdout",
     "output_type": "stream",
     "text": [
      "drdarshaningleaimltrainer\n"
     ]
    }
   ],
   "source": [
    "def remove_str(s):\n",
    "  characters_to_remove = \" .-!@= \"\n",
    "  new_s = s\n",
    "\n",
    "  for char in characters_to_remove:\n",
    "    new_s = new_s.lower().replace(char,\"\")\n",
    "  print (new_s)\n",
    "\n",
    "remove_str(\"Dr. Darshan Ingle@AI-ML Trainer\")"
   ]
  }
 ],
 "metadata": {
  "colab": {
   "name": "Assignment Day 5.ipynb",
   "provenance": []
  },
  "kernelspec": {
   "display_name": "Python 3",
   "language": "python",
   "name": "python3"
  },
  "language_info": {
   "codemirror_mode": {
    "name": "ipython",
    "version": 3
   },
   "file_extension": ".py",
   "mimetype": "text/x-python",
   "name": "python",
   "nbconvert_exporter": "python",
   "pygments_lexer": "ipython3",
   "version": "3.7.6"
  }
 },
 "nbformat": 4,
 "nbformat_minor": 1
}
